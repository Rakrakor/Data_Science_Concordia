{
 "cells": [
  {
   "cell_type": "markdown",
   "metadata": {
    "id": "LMgNOOpRMmlh"
   },
   "source": [
    "## Exercise 6: Probability\n",
    "\n",
    "We have a model that can predict with 99% accuracy whether a TV series on Webflix will be a hit or not. Given that in reality, only 1% of shows on Webflix become hits, what is the probability that given the model predicting that a show will be a hit, that the show is actually a hit?\n",
    "\n",
    "```\n",
    "P(Show is a Hit| Positive from Model) = P(Show is a Hit)*P(Positive from Model|Show is a Hit)/P(Positive From Model)\n",
    "                                      = [P(Show is a Hit)*P(Positive from Model|Show is a Hit)]/[P(Show is a hit)*P(Positive from Model|Show is a Hit) + P(Show is Flop)*P(Positive from Model|Show is a Flop)]\n",
    "                                      = [1% * 99%]/[1% * 99% + 1% * 99%]\n",
    "                                      = 50%\n",
    "```\n",
    "\n",
    "**HINT** Think Bayes Theorem and Law of Total Probability"
   ]
  },
  {
   "cell_type": "code",
   "execution_count": 50,
   "metadata": {
    "id": "W4LVtZf_N1hQ"
   },
   "outputs": [
    {
     "data": {
      "text/plain": [
       "0.4999999999999997"
      ]
     },
     "execution_count": 50,
     "metadata": {},
     "output_type": "execute_result"
    }
   ],
   "source": [
    "# exercise 6\n",
    " \n",
    "def probKnowing(p_a,p_b):\n",
    "    #Bayes\n",
    "    #p(a/b)= p(a).p(b/a)/p(b)\n",
    "    \n",
    "    #Law of Total Prob\n",
    "    #p(𝐴) = 𝑃(𝐵)𝑃(𝐴|𝐵) +  𝑃(𝐶)𝑃(𝐴|𝐶)....\n",
    "    #there p(b/a) = p_b\n",
    "    #1- total probability\n",
    "    P_PositiveFromModel = p_a*p_b + (1-p_b)*(1-p_a)\n",
    "    \n",
    "    #2- Bayes\n",
    "    P_showIsHitKnowingPositiveFromModel = p_a * p_b / P_PositiveFromModel\n",
    "    \n",
    "    return P_showIsHitKnowingPositiveFromModel\n",
    " \n",
    "\n",
    "     \n",
    "    \n",
    "    \n",
    "#show is a Hit\n",
    "p_a=0.01\n",
    "#Positive From Model OR Positive from Model Knowing Show is a hit\n",
    "p_b=0.99\n",
    "probKnowing(p_a,p_b)"
   ]
  },
  {
   "cell_type": "markdown",
   "metadata": {
    "id": "uf3TC4f7Q6SN"
   },
   "source": [
    "## Exercise 7: Convert numbers to words (STRETCH)\n",
    "\n",
    "Convert a non-negative integer num to its English words representation.\n",
    "\n",
    "### Example 1\n",
    "\n",
    "```\n",
    "Input: num = 123\n",
    "Output: \"One Hundred Twenty Three\"\n",
    "```\n",
    "\n",
    "### Example 2\n",
    "\n",
    "```\n",
    "Input: num = 1234567\n",
    "Output: \"One Million Two Hundred Thirty Four Thousand Five Hundred Sixty Seven\"\n",
    "```\n",
    "\n",
    "### Example 3\n",
    "\n",
    "```\n",
    "Input: num = 1234567891\n",
    "Output: \"One Billion Two Hundred Thirty Four Million Five Hundred Sixty Seven Thousand Eight Hundred Ninety One\"\n",
    "```"
   ]
  },
  {
   "cell_type": "code",
   "execution_count": 48,
   "metadata": {
    "id": "ZIKzu9H9R1Ya"
   },
   "outputs": [
    {
     "name": "stdout",
     "output_type": "stream",
     "text": [
      "['0', '1']\n",
      "['Zero ']\n",
      "One Zero \n"
     ]
    },
    {
     "ename": "KeyError",
     "evalue": "'One Zero '",
     "output_type": "error",
     "traceback": [
      "\u001b[0;31m---------------------------------------------------------------------------\u001b[0m",
      "\u001b[0;31mKeyError\u001b[0m                                  Traceback (most recent call last)",
      "\u001b[0;32m/var/folders/v_/xxkztlq96zjg39p73r1dvnl00000gn/T/ipykernel_61507/3179171528.py\u001b[0m in \u001b[0;36m<module>\u001b[0;34m\u001b[0m\n\u001b[1;32m     65\u001b[0m \u001b[0;31m#num=123\u001b[0m\u001b[0;34m\u001b[0m\u001b[0;34m\u001b[0m\u001b[0m\n\u001b[1;32m     66\u001b[0m \u001b[0;31m#num = 1234567\u001b[0m\u001b[0;34m\u001b[0m\u001b[0;34m\u001b[0m\u001b[0m\n\u001b[0;32m---> 67\u001b[0;31m \u001b[0mconversion\u001b[0m\u001b[0;34m(\u001b[0m\u001b[0mnum\u001b[0m\u001b[0;34m)\u001b[0m\u001b[0;34m\u001b[0m\u001b[0;34m\u001b[0m\u001b[0m\n\u001b[0m",
      "\u001b[0;32m/var/folders/v_/xxkztlq96zjg39p73r1dvnl00000gn/T/ipykernel_61507/3179171528.py\u001b[0m in \u001b[0;36mconversion\u001b[0;34m(num)\u001b[0m\n\u001b[1;32m     50\u001b[0m                 \u001b[0mprint\u001b[0m\u001b[0;34m(\u001b[0m\u001b[0mconc\u001b[0m\u001b[0;34m)\u001b[0m\u001b[0;34m\u001b[0m\u001b[0;34m\u001b[0m\u001b[0m\n\u001b[1;32m     51\u001b[0m                 \u001b[0;31m#Remove the last entry and replace it by the current\u001b[0m\u001b[0;34m\u001b[0m\u001b[0;34m\u001b[0m\u001b[0m\n\u001b[0;32m---> 52\u001b[0;31m                 \u001b[0mwordedList\u001b[0m\u001b[0;34m[\u001b[0m\u001b[0;34m:\u001b[0m\u001b[0;34m-\u001b[0m\u001b[0;36m1\u001b[0m\u001b[0;34m]\u001b[0m\u001b[0;34m.\u001b[0m\u001b[0mappend\u001b[0m\u001b[0;34m(\u001b[0m\u001b[0mconversionTable\u001b[0m\u001b[0;34m[\u001b[0m\u001b[0mconc\u001b[0m\u001b[0;34m]\u001b[0m\u001b[0;34m)\u001b[0m\u001b[0;34m\u001b[0m\u001b[0;34m\u001b[0m\u001b[0m\n\u001b[0m\u001b[1;32m     53\u001b[0m                 \u001b[0mprint\u001b[0m\u001b[0;34m(\u001b[0m\u001b[0mwordedList\u001b[0m\u001b[0;34m)\u001b[0m\u001b[0;34m\u001b[0m\u001b[0;34m\u001b[0m\u001b[0m\n\u001b[1;32m     54\u001b[0m             \u001b[0;32melse\u001b[0m\u001b[0;34m:\u001b[0m\u001b[0;34m\u001b[0m\u001b[0;34m\u001b[0m\u001b[0m\n",
      "\u001b[0;31mKeyError\u001b[0m: 'One Zero '"
     ]
    }
   ],
   "source": [
    "# exercise 7\n",
    "def conversion(num):\n",
    "    num=str(num)\n",
    "    conversionTable = {\n",
    "        '0':'Zero ',\n",
    "        '1':'One ',\n",
    "        '2':'Two ',\n",
    "        '3':'Three ',\n",
    "        '4':'Four ',\n",
    "        '5':'Five ',\n",
    "        '6':'Six ',\n",
    "        '7':'Seven ',\n",
    "        '8':'Height ',\n",
    "        '9':'Nine ',\n",
    "        '10':'Ten',\n",
    "        '11':'Eleven',\n",
    "        '12':'Twelve',\n",
    "        '13':'Thirteen',\n",
    "        '14':'Fourteen',\n",
    "        '15':'Fifteen',\n",
    "        '16':'Sixteen',\n",
    "        '17':'Seventeen',\n",
    "        '18':'Heighteen',\n",
    "        '19':'Nineteen',\n",
    "        '20':'Tweenty',\n",
    "        '30':'Tweenty',\n",
    "        '40':'Tweenty',\n",
    "        '50':'Tweenty',\n",
    "        '60':'Tweenty',\n",
    "        '70':'Tweenty',\n",
    "        '80':'Tweenty',\n",
    "        '90':'Tweenty',\n",
    "        '100':'hundred',\n",
    "        '1000':'Thousand',\n",
    "        '1000000': 'Million',\n",
    "        '1000000000': 'Billion',\n",
    "        \n",
    "    }\n",
    "    numToList = (list(num))[::-1]\n",
    "    print(numToList)\n",
    "    \n",
    "    wordedList = []\n",
    "    for i in range(0, len(numToList)):\n",
    "        if i==0:\n",
    "            wordedList.append(conversionTable[numToList[i]])\n",
    "            print(wordedList)\n",
    "        if i==1:\n",
    "            if int(numToList[i])<2:\n",
    "                conc = conversionTable[numToList[i]]+conversionTable[numToList[i-1]]\n",
    "                print(conc)\n",
    "                #Remove the last entry and replace it by the current\n",
    "                wordedList[:-1].append(conversionTable[conc])\n",
    "                print(wordedList)\n",
    "            else:\n",
    "                conc = conversionTable[numToList[i]+'0']+conversionTable[numToList[i-2]]\n",
    "                print(f'#2 {conc}')\n",
    "                wordedList.append(conversionTable[conc])\n",
    "    wordedList[::-1]\n",
    "    wordedListOrdered = ''.join(wordedList)\n",
    "    \n",
    "    return wordedListOrdered\n",
    "    \n",
    "num=10\n",
    "#num=12                     \n",
    "#num=123\n",
    "#num = 1234567\n",
    "conversion(num)\n",
    "\n",
    "\n",
    "# ...to finish"
   ]
  },
  {
   "cell_type": "code",
   "execution_count": 9,
   "metadata": {},
   "outputs": [
    {
     "data": {
      "text/plain": [
       "['One ', 'Two ', 'Three ']"
      ]
     },
     "execution_count": 9,
     "metadata": {},
     "output_type": "execute_result"
    }
   ],
   "source": [
    "num=str(123)\n",
    "conversionTable = {\n",
    "        '1':'One ',\n",
    "        '2':'Two ',\n",
    "        '3':'Three ',\n",
    "        '4':'Four ',\n",
    "        '5':'Five ',\n",
    "        '6':'Six ',\n",
    "        '7':'Seven ',\n",
    "        '8':'Height ',\n",
    "        '9':'Nine ',\n",
    "    }\n",
    "numToList = list(num)\n",
    "numToList\n",
    "convertedList = [conversionTable[i] for i in numToList]\n",
    "convertedList"
   ]
  },
  {
   "cell_type": "code",
   "execution_count": null,
   "metadata": {
    "colab": {
     "base_uri": "https://localhost:8080/",
     "height": 35
    },
    "executionInfo": {
     "elapsed": 245,
     "status": "ok",
     "timestamp": 1614342473997,
     "user": {
      "displayName": "Usama Bari",
      "photoUrl": "https://lh3.googleusercontent.com/a-/AOh14Gi63QYmB0IpHlTGDpnIp177mO5UfCMQzxIj0VkiwQ=s64",
      "userId": "15037366419685538600"
     },
     "user_tz": 300
    },
    "id": "cmTMYnZgTDeL",
    "outputId": "06a459f4-75e0-4c9f-a868-7bec6458400d"
   },
   "outputs": [],
   "source": [
    "# exercise 7: validate 123\n",
    "num = 123\n"
   ]
  },
  {
   "cell_type": "code",
   "execution_count": null,
   "metadata": {
    "id": "_5CkW46tTNU_"
   },
   "outputs": [],
   "source": [
    "# exercise 7: validate 2364\n",
    "num = 2364\n"
   ]
  }
 ],
 "metadata": {
  "colab": {
   "authorship_tag": "ABX9TyNnLQbhRqFdNvbiNq57KA2S",
   "collapsed_sections": [],
   "name": "2.3 Applied Interview Problems.ipynb",
   "provenance": [
    {
     "file_id": "10_txTWGkc_cOTtLyBKoUhGgD8NFU-ooo",
     "timestamp": 1614359229670
    }
   ]
  },
  "kernelspec": {
   "display_name": "Python 3 (ipykernel)",
   "language": "python",
   "name": "python3"
  },
  "language_info": {
   "codemirror_mode": {
    "name": "ipython",
    "version": 3
   },
   "file_extension": ".py",
   "mimetype": "text/x-python",
   "name": "python",
   "nbconvert_exporter": "python",
   "pygments_lexer": "ipython3",
   "version": "3.9.13"
  },
  "metadata": {
   "interpreter": {
    "hash": "63fd5069d213b44bf678585dea6b12cceca9941eaf7f819626cde1f2670de90d"
   }
  }
 },
 "nbformat": 4,
 "nbformat_minor": 1
}
