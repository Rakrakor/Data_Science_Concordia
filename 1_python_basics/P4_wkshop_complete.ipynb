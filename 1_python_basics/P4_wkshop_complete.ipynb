{
 "cells": [
  {
   "cell_type": "markdown",
   "metadata": {
    "id": "28X8KDs0wXN8"
   },
   "source": [
    "# Programming Questions\n",
    "\n",
    "## Exercice 1: Two Sum\n",
    "\n",
    "Given an array of integers \"nums\" and an integer \"target\", return indices of the two numbers such that they add up to \"target\".\n",
    "\n",
    "You may assume that each input would have exactly one solution, and you may not use the same element twice.\n",
    "\n",
    "```\n",
    "Input: nums = [2,7,11,15], target = 9\n",
    "Output: [0,1]\n",
    "Output: Because nums[0] + nums[1] == 9, we return [0, 1]\n",
    "```"
   ]
  },
  {
   "cell_type": "code",
   "execution_count": 34,
   "metadata": {},
   "outputs": [
    {
     "name": "stdout",
     "output_type": "stream",
     "text": [
      "The indexes are [0, 1]\n"
     ]
    }
   ],
   "source": [
    "# exercise 1\n",
    "\n",
    "nums = [2,7,11,15]\n",
    "target= 9\n",
    "\n",
    "\n",
    "for i in range(0,len(nums)):\n",
    "    for j in range(0,len(nums)):\n",
    "        product = nums[i]+nums[j]\n",
    "        if product == target:\n",
    "            print(f'The indexes are {[j,i]}')\n",
    "        break\n",
    "   \n",
    "    \n"
   ]
  },
  {
   "cell_type": "markdown",
   "metadata": {
    "id": "mPaOugWs_P8m"
   },
   "source": [
    "## Exercise 2: Longest Substring Without Repeating Characters\n",
    "\n",
    "Given a string s, find the length of the longest substring without repeating characters.\n",
    "\n",
    "```\n",
    "Input: s = \"abcabcbb\"\n",
    "Output: 3\n",
    "Explanation: The answer is \"abc\", with the length of 3.\n",
    "```"
   ]
  },
  {
   "cell_type": "code",
   "execution_count": 50,
   "metadata": {},
   "outputs": [
    {
     "name": "stdout",
     "output_type": "stream",
     "text": [
      "the longest substringlength is 3\n"
     ]
    }
   ],
   "source": [
    "# exercise 2\n",
    "s = \"abcabcbb\"\n",
    "s = set(s)\n",
    "\n",
    "print(f'the longest substring length is {len(s)}')\n"
   ]
  },
  {
   "cell_type": "markdown",
   "metadata": {
    "id": "UzJciXjaA9Ag"
   },
   "source": [
    "## Exercise 3: Reverse Integer\n",
    "\n",
    "Given an integer, x, return x with its digits reversed.\n",
    "\n",
    "```\n",
    "Input: x = 132\n",
    "Output: 231 \n",
    "```"
   ]
  },
  {
   "cell_type": "code",
   "execution_count": 72,
   "metadata": {
    "colab": {
     "base_uri": "https://localhost:8080/"
    },
    "executionInfo": {
     "elapsed": 585,
     "status": "ok",
     "timestamp": 1612887780174,
     "user": {
      "displayName": "Usama Bari",
      "photoUrl": "https://lh3.googleusercontent.com/a-/AOh14Gi63QYmB0IpHlTGDpnIp177mO5UfCMQzxIj0VkiwQ=s64",
      "userId": "15037366419685538600"
     },
     "user_tz": 300
    },
    "id": "UOpve41VASi6",
    "outputId": "2edda1bc-59a9-4acc-c912-5be47e3950a1"
   },
   "outputs": [
    {
     "name": "stdout",
     "output_type": "stream",
     "text": [
      "231\n"
     ]
    }
   ],
   "source": [
    "# exercise 3\n",
    "x = 132\n",
    "x = list(str(x))\n",
    "x.reverse()\n",
    "print(int(''.join(x)))"
   ]
  },
  {
   "cell_type": "code",
   "execution_count": null,
   "metadata": {},
   "outputs": [],
   "source": []
  }
 ],
 "metadata": {
  "colab": {
   "name": "1.4_02_Probability_Lecture.ipynb",
   "provenance": [
    {
     "file_id": "1uyjx4qPYJjxsSBFMg_ximeETeiIZmUe-",
     "timestamp": 1612861881515
    }
   ]
  },
  "file_extension": ".py",
  "kernelspec": {
   "display_name": "Python 3 (ipykernel)",
   "language": "python",
   "name": "python3"
  },
  "language_info": {
   "codemirror_mode": {
    "name": "ipython",
    "version": 3
   },
   "file_extension": ".py",
   "mimetype": "text/x-python",
   "name": "python",
   "nbconvert_exporter": "python",
   "pygments_lexer": "ipython3",
   "version": "3.9.13"
  },
  "mimetype": "text/x-python",
  "name": "python",
  "npconvert_exporter": "python",
  "pygments_lexer": "ipython3",
  "version": 3
 },
 "nbformat": 4,
 "nbformat_minor": 1
}
