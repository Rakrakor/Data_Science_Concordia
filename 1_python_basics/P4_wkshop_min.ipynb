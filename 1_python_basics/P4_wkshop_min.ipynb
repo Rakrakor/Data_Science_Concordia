{
 "cells": [
  {
   "cell_type": "markdown",
   "metadata": {},
   "source": [
    "# Probability\n",
    "\n",
    "## Warmup: Count to 50\n",
    "\n",
    "Use a RNG to generate rolls of a 12-sided die. \n",
    "Write a function that counts the number of rolls taken until the total of the rolls totals 50 or more.\n",
    "\n",
    "```\n",
    "rollto50() -> 5\n",
    "rollto50() -> 6\n",
    "```"
   ]
  },
  {
   "cell_type": "code",
   "execution_count": 21,
   "metadata": {},
   "outputs": [
    {
     "name": "stdout",
     "output_type": "stream",
     "text": [
      " 9 dice rolls were required to make the sum of 50\n"
     ]
    }
   ],
   "source": [
    "# warmup\n",
    "import numpy as np \n",
    "import random\n",
    "\n",
    "rolls = np.random.randint(1,12,50)\n",
    "\n",
    "totalSum=0\n",
    "for i in range(0,len(rolls)):\n",
    "    if totalSum>=50:\n",
    "        print(f' {i+1} dice rolls were required to make the sum of 50')\n",
    "        break\n",
    "    totalSum+=rolls[i]\n",
    "\n",
    "\n",
    "\n",
    "    \n"
   ]
  },
  {
   "cell_type": "markdown",
   "metadata": {},
   "source": [
    "## Exercise 1: Monte Carlo Sampling\n",
    "\n",
    "Data Scientists are often lazy. Instead of calculating the exact probability of complex events, we simulate samples with a RNG and average the results. This is called **Monte Carlo Sampling** after the casino in Monaco (yes, really).\n",
    "\n",
    "Write a function `monte_carlo_dice(n)` that given a 6-sided die, rolls it $n$ times and averages the result.\n",
    "\n",
    "The result should get closer to the true expected value (3.5) as $n$ increases:\n",
    "\n",
    "```\n",
    "n: 100 Trial average 3.39 \n",
    "n: 1000 Trial average 3.576 \n",
    "n: 10000 Trial average 3.5054 \n",
    "n: 100000 Trial average 3.50201 \n",
    "n: 500000 Trial average 3.495568\n",
    "```"
   ]
  },
  {
   "cell_type": "code",
   "execution_count": 38,
   "metadata": {},
   "outputs": [
    {
     "name": "stdout",
     "output_type": "stream",
     "text": [
      "n: 100 Trial average 3.14\n",
      "n: 10100 Trial average 3.008019801980198\n",
      "n: 20100 Trial average 2.995671641791045\n",
      "n: 30100 Trial average 3.0088372093023255\n",
      "n: 40100 Trial average 2.9961596009975064\n",
      "n: 50100 Trial average 2.9887425149700597\n",
      "n: 60100 Trial average 3.008186356073211\n",
      "n: 70100 Trial average 2.998188302425107\n",
      "n: 80100 Trial average 2.994868913857678\n",
      "n: 90100 Trial average 2.994106548279689\n",
      "n: 100100 Trial average 2.995974025974026\n",
      "n: 110100 Trial average 3.0046866485013624\n",
      "n: 120100 Trial average 3.001948376353039\n",
      "n: 130100 Trial average 3.0018524212144504\n",
      "n: 140100 Trial average 3.0016059957173447\n",
      "n: 150100 Trial average 2.99618254497002\n",
      "n: 160100 Trial average 2.9969706433479075\n",
      "n: 170100 Trial average 2.9961728395061726\n",
      "n: 180100 Trial average 3.0032426429761245\n",
      "n: 190100 Trial average 3.005344555497107\n",
      "n: 200100 Trial average 3.00592203898051\n",
      "n: 210100 Trial average 3.0041266063779153\n",
      "n: 220100 Trial average 2.9962153566560654\n",
      "n: 230100 Trial average 3.0026770969143852\n",
      "n: 240100 Trial average 2.9970720533111206\n",
      "n: 250100 Trial average 2.9912435025989605\n",
      "n: 260100 Trial average 2.996470588235294\n",
      "n: 270100 Trial average 2.998415401703073\n",
      "n: 280100 Trial average 3.0070403427347374\n",
      "n: 290100 Trial average 3.0026473629782835\n",
      "n: 300100 Trial average 2.997414195268244\n",
      "n: 310100 Trial average 2.999213157046114\n",
      "n: 320100 Trial average 2.9976944704779758\n",
      "n: 330100 Trial average 2.997028173280824\n",
      "n: 340100 Trial average 3.000549838282858\n",
      "n: 350100 Trial average 3.0038131962296486\n",
      "n: 360100 Trial average 2.997742293807276\n",
      "n: 370100 Trial average 3.0009402864090786\n",
      "n: 380100 Trial average 3.0027545382794\n",
      "n: 390100 Trial average 2.997254550115355\n",
      "n: 400100 Trial average 2.997370657335666\n",
      "n: 410100 Trial average 3.002409168495489\n",
      "n: 420100 Trial average 3.000157105451083\n",
      "n: 430100 Trial average 2.9982166937921413\n",
      "n: 440100 Trial average 3.000256759827312\n",
      "n: 450100 Trial average 3.0020550988669186\n",
      "n: 460100 Trial average 2.9992349489241468\n",
      "n: 470100 Trial average 2.999295894490534\n",
      "n: 480100 Trial average 2.99990210372839\n",
      "n: 490100 Trial average 3.001773107529076\n"
     ]
    }
   ],
   "source": [
    "# exercise 1\n",
    "def monte_carlo_dice(n):\n",
    "    \n",
    "    rolls = np.random.randint(1,6,n)\n",
    "    average = sum(rolls)/n\n",
    "    \n",
    "    return average\n",
    "\n",
    "for n in range(100, 500000, 10000):\n",
    "    print(f'n: {n} Trial average {monte_carlo_dice(n)}')\n"
   ]
  },
  {
   "cell_type": "markdown",
   "metadata": {},
   "source": [
    "## Exercise 2: Estimating the Area of a Circle\n",
    "\n",
    "Consider a dartboard with a circle of radius $r$ inscribed in a square with side $2r$. Now let’s say you start throwing a large number of darts at it. \n",
    "\n",
    "Some of these will hit the board within the circle—let’s say, $N$—and others out-side it—let’s say, $M$. If we consider the fraction of darts that land inside the circle:\n",
    "\n",
    "$$f = \\dfrac{N}{N + M}$$\n",
    "\n",
    "Then the value of $f * A$ with $A$ being the area of the square will approximate the actual area of the circle (which is  $\\pi r^2$)\n",
    "\n",
    "<img src=\"../assets/circle-target.png\" style=\"width: 400px;\">\n",
    "\n",
    "Write a function `circle_estimate(radius, trials)` which will estimate the area of a circle by throwing `trials` random darts at the square.\n",
    "\n",
    "\n",
    "\n",
    "```\n",
    "Radius: 2\n",
    "Area: 12.566370614359172, Estimated (1000 darts): 12.576\n",
    "Area: 12.566370614359172, Estimated (100000 darts): 12.58176\n",
    "Area: 12.566370614359172, Estimated (1000000 darts): 12.560128\n",
    "```\n",
    "\n",
    "**Hint:** Generate 2 random numbers for each dart throw, one for the `x` axis and one for the `y` axis. Use the [Pythagorean Theorem](https://en.wikipedia.org/wiki/Pythagorean_theorem) find if it's outside the circle"
   ]
  },
  {
   "cell_type": "code",
   "execution_count": 118,
   "metadata": {},
   "outputs": [
    {
     "name": "stdout",
     "output_type": "stream",
     "text": [
      "N = 785856\n",
      "M = 214144\n",
      "F = 0.785856\n",
      "A = 16\n"
     ]
    },
    {
     "data": {
      "text/plain": [
       "12.573696"
      ]
     },
     "execution_count": 118,
     "metadata": {},
     "output_type": "execute_result"
    }
   ],
   "source": [
    "# Exercise 2 \n",
    "import math\n",
    "import numpy as np\n",
    "\n",
    "\n",
    "\n",
    "def circle_estimate(radius, trials):\n",
    "    N = 0 #Successes\n",
    "    M = 0 #Misses\n",
    "    A = (2*radius)**2  # Area of the SQUARE\n",
    "    F = 0 # Shot sucess rate\n",
    "    circleAreaEstimate = 0\n",
    "    \n",
    "    #The coordinates are taken from the circle center\n",
    "    \n",
    "    #USE if radius <= 5 ( sampling with floats is a more logical evaluation than integers between [0,2])\n",
    "    trials_x = np.random.random(size=trials)*radius #generates float between [0.0,radius]\n",
    "    trials_y = np.random.random(size=trials)*radius #generates float between [0.0,radius]\n",
    "    \n",
    "    #USE if radius >= 5\n",
    "    #trials_x = np.random.randint(0,radius, trials) #generates ints array of 'trials' amount of items between [0,radius]\n",
    "    #trials_y = np.random.randint(0,radius, trials) #generates ints array of 'trials' amount of items between [0,radius]\n",
    "    \n",
    "    #If a dart is within the cercle: hypotenus(x,y)<= radius\n",
    "    #If a dart is outside the cercle: hypotenus(x,y)>= radius\n",
    "    for i,j in zip(trials_x, trials_y):\n",
    "        hypotenus_x_y = math.sqrt(i**2 + j**2)\n",
    "        if hypotenus_x_y<=radius: #Shot within cercle if hyp(x,y) <= radius\n",
    "            N+=1 #success\n",
    "        else:\n",
    "            M+=1 #misses\n",
    "    F = N/(N+M)\n",
    "    \n",
    "    print(f'N = {N}' )\n",
    "    print(f'M = {M}' )\n",
    "    print(f'F = {F}' )\n",
    "    print(f'A = {A}' )\n",
    "    \n",
    "    circleAreaEstimate = F*A\n",
    "    \n",
    "    return circleAreaEstimate\n",
    "    \n",
    "            \n",
    "            \n",
    "#TEST\n",
    "radius = 2\n",
    "trials = 1000000\n",
    "circle_estimate(radius, trials)\n",
    "\n",
    "\n",
    "\n"
   ]
  },
  {
   "cell_type": "markdown",
   "metadata": {},
   "source": [
    "## Exercise 3: Binomial distribution\n",
    "\n",
    "The [binomial random variable](https://en.wikipedia.org/wiki/Binomial_distribution) $ Y \\sim Bin(n, p) $ represents the number of successes in $ n $ coin flips, where each trial succeeds with probability $ p $.\n",
    "\n",
    "Without any import besides `from numpy.random import uniform`, write a function\n",
    "`binomial_rv` such that `binomial_rv(n, p)` generates one draw of $ Y $.\n",
    "\n",
    "Hint: If $ U $ is uniform on $ (0, 1) $ and $ p \\in (0,1) $, then the expression `U < p` evaluates to `True` with probability $ p $."
   ]
  },
  {
   "cell_type": "code",
   "execution_count": 222,
   "metadata": {},
   "outputs": [
    {
     "name": "stdout",
     "output_type": "stream",
     "text": [
      " SUM of the cumulated probability is SUM(p)=0.9999999999999896\n",
      " with p =0.8\n",
      " with n =20\n"
     ]
    },
    {
     "data": {
      "image/png": "[encoded data removed]",
      "text/plain": [
       "<Figure size 640x480 with 1 Axes>"
      ]
     },
     "metadata": {},
     "output_type": "display_data"
    }
   ],
   "source": [
    "# exercise 3\n",
    "from numpy.random import uniform\n",
    "import matplotlib.pyplot as plt\n",
    "import pandas as pd\n",
    "\n",
    "# UNIFORM DISTRIBUTION: each outcome in the sample space is equally likely to occur\n",
    "# p: probability of an event to occur\n",
    "# n: number of trials in one batch\n",
    "# x: number of successful occurrences among n trials\n",
    "\n",
    "\n",
    "def binomial_rv(n,p):\n",
    "\n",
    "    \n",
    "    # Bin(n,p) = f(x,n,p) = (n x) . p^x . (1-p)^(n-x)\n",
    "    #  =>  with Binomial Coefficient binCoef: (n x) = n!/(x!.(n-x)!)\n",
    "    #  =>  with secMember :  p^x . (1-p)^(n-x)\n",
    "    \n",
    "    def binCoef (n,x):\n",
    "        bincoef = math.factorial(n)/(math.factorial(x) * math.factorial(n-x))\n",
    "        #print(f' bincoef = {bincoef}')\n",
    "        return bincoef\n",
    "    \n",
    "    def secMember(p,n,x):\n",
    "        secmem = (p**x)*(1-p)**(n-x)\n",
    "        #print(f' secMem = {secmem}')\n",
    "        return secmem\n",
    "    \n",
    "    \n",
    "    #r = binCoef * secMember\n",
    "    \n",
    "    # X: is the probability of having x successful events among N trials\n",
    "    X_axis_successOccurence = [x for x in range (0,n)]\n",
    "    Y_axis_chances = [binCoef(n,x)*secMember(p,n,x) for x in range(1,n+1)]\n",
    "    \n",
    "    \n",
    "    return X_axis_successOccurence,Y_axis_chances\n",
    "\n",
    "\n",
    "p = 0.8  #<=1\n",
    "n = 20\n",
    "\n",
    "x_axis, y_axis = binomial_rv(n,p)\n",
    "\n",
    "\n",
    "plt.ylabel(\" probability of having x successful hits \")\n",
    "plt.xlabel(\"Number of x Hits among n\")\n",
    "plt.plot( x_axis, y_axis)\n",
    "\n",
    "print(f' SUM of the cumulated probability is SUM(p)={sum(y_axis)}')\n",
    "print(f' with p ={p}')\n",
    "print(f' with n ={n}')\n",
    "\n",
    "# !!! The graph should be a histogramme rather than a curve"
   ]
  },
  {
   "cell_type": "code",
   "execution_count": null,
   "metadata": {},
   "outputs": [],
   "source": []
  },
  {
   "cell_type": "code",
   "execution_count": null,
   "metadata": {},
   "outputs": [],
   "source": []
  }
 ],
 "metadata": {
  "file_extension": ".py",
  "kernelspec": {
   "display_name": "Python 3 (ipykernel)",
   "language": "python",
   "name": "python3"
  },
  "language_info": {
   "codemirror_mode": {
    "name": "ipython",
    "version": 3
   },
   "file_extension": ".py",
   "mimetype": "text/x-python",
   "name": "python",
   "nbconvert_exporter": "python",
   "pygments_lexer": "ipython3",
   "version": "3.9.13"
  },
  "mimetype": "text/x-python",
  "name": "python",
  "npconvert_exporter": "python",
  "pygments_lexer": "ipython3",
  "version": 3
 },
 "nbformat": 4,
 "nbformat_minor": 2
}
