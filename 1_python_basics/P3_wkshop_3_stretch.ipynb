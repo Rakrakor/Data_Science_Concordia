{
 "cells": [
  {
   "cell_type": "markdown",
   "metadata": {},
   "source": [
    "### Exercise 1: Gas Station\n",
    "\n",
    "There are `n` gas stations along a circular route, where the amount of gas at the ith station is `gas[i]`.\n",
    "\n",
    "You have a car with an unlimited gas tank and it costs `cost[i]` of gas to travel from the ith station to its next (i + 1)th station. You begin the journey with an empty tank at one of the gas stations.\n",
    "\n",
    "Given two integer arrays gas and cost, \n",
    "return the NEXT starting gas station's index \n",
    "if you can travel around the circuit once in the clockwise direction,\n",
    "otherwise return -1. \n",
    "If there exists a solution, it is guaranteed to be unique\n",
    "\n",
    "\n",
    "\n",
    "```\n",
    "Input: gas = [1,2,3,4,5], \n",
    "       cost =[3,4,5,1,2]\n",
    "Output: 3\n",
    "Explanation:\n",
    "Start at station 3 (index 3) and fill up with 4 unit of gas. Your tank = 0 + 4 = 4\n",
    "Travel to station 4. Your tank = 4 - 1 + 5 = 8\n",
    "Travel to station 0. Your tank = 8 - 2 + 1 = 7\n",
    "Travel to station 1. Your tank = 7 - 3 + 2 = 6\n",
    "Travel to station 2. Your tank = 6 - 4 + 3 = 5\n",
    "\n",
    "Travel to station 3. The cost is 5. Your gas is just enough to travel back to station 3.\n",
    "Therefore, return 3 as the starting index.\n",
    "```\n",
    "\n"
   ]
  },
  {
   "cell_type": "code",
   "execution_count": 8,
   "metadata": {},
   "outputs": [
    {
     "name": "stdout",
     "output_type": "stream",
     "text": [
      "Start: tankReserve = 4, Index = 3\n",
      "tankReserve = 8, index = 4\n",
      "tankReserve = 7, index = 0\n",
      "tankReserve = 6, index = 1\n",
      "tankReserve = 5, index = 2\n",
      " 1 full loop completed index:3\n"
     ]
    }
   ],
   "source": [
    "# Ex 1\n",
    "gas = [1,2,3,4,5]\n",
    "cost = [3,4,5,1,2]\n",
    "gasCost = list(zip(gas, cost))  #gasCost[index][0]:gaz gasCost[index][1]:cost\n",
    "\n",
    "#Test with starting station index 3:\n",
    "startingStation = 3\n",
    "\n",
    "#Variable initialization:\n",
    "counter = 0 #Counter goes from 0 to infinite. Help to calculate the index\n",
    "index = startingStation #Index of the station\n",
    "tankReserve = gasCost[startingStation][0] # amount of gaz in the tank at specific index\n",
    "memoPreviousGasStationCost = gasCost[startingStation][1] # memorization for the cost of gaz at the station we left\n",
    "\n",
    "#Algorithm:\n",
    "#the program runs until we manage to accomplish a full loop of indexes\n",
    "#or until we run out of gaz\n",
    "#If we run out of gaz before a full loop is accomplished, -1 is returned\n",
    "\n",
    "print(f'Start: tankReserve = {tankReserve}, Index = {index}')\n",
    "while tankReserve >=0:\n",
    "    #going To next station\n",
    "    counter+=1\n",
    "    index = (startingStation + counter)%5\n",
    "    if counter==5:\n",
    "        print(f' 1 full loop completed index:{index}')\n",
    "        break\n",
    "    tankReserve = tankReserve - memoPreviousGasStationCost + gasCost[index][0]\n",
    "    memoPreviousGasStationCost = gasCost[index][1]\n",
    "    print(f'tankReserve = {tankReserve}, index = {index}')\n",
    "    if tankReserve <=0:\n",
    "        index\n",
    "        break\n",
    "\n",
    "\n",
    "\n",
    "\n"
   ]
  },
  {
   "cell_type": "code",
   "execution_count": null,
   "metadata": {},
   "outputs": [],
   "source": []
  }
 ],
 "metadata": {
  "colab": {
   "authorship_tag": "ABX9TyO6ouX4mUPsrtNoh84NFVy3",
   "collapsed_sections": [],
   "name": "Workshop Functions.ipynb",
   "provenance": []
  },
  "kernelspec": {
   "display_name": "Python 3 (ipykernel)",
   "language": "python",
   "name": "python3"
  },
  "language_info": {
   "codemirror_mode": {
    "name": "ipython",
    "version": 3
   },
   "file_extension": ".py",
   "mimetype": "text/x-python",
   "name": "python",
   "nbconvert_exporter": "python",
   "pygments_lexer": "ipython3",
   "version": "3.9.13"
  },
  "vscode": {
   "interpreter": {
    "hash": "397704579725e15f5c7cb49fe5f0341eb7531c82d19f2c29d197e8b64ab5776b"
   }
  }
 },
 "nbformat": 4,
 "nbformat_minor": 1
}
