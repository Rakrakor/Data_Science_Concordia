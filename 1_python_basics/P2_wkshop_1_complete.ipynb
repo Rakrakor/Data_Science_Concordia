{
 "cells": [
  {
   "cell_type": "markdown",
   "metadata": {},
   "source": [
    "## Exercise 1: String Manipulation\n",
    "\n",
    "Create the string \"one two 3 4 five 6\" and save it as numbers\n",
    "\n"
   ]
  },
  {
   "cell_type": "code",
   "execution_count": 2,
   "metadata": {},
   "outputs": [],
   "source": [
    "# create the string here\n",
    "numbers = \"one two 3 4 five 6\"\n"
   ]
  },
  {
   "cell_type": "code",
   "execution_count": 4,
   "metadata": {},
   "outputs": [
    {
     "name": "stdout",
     "output_type": "stream",
     "text": [
      "['one', 'two', '3', '4', 'five', '6']\n"
     ]
    }
   ],
   "source": [
    "# Run the line, numbers.split() and save the result as X and print it.\n",
    "X = numbers.split()\n",
    "print(X)"
   ]
  },
  {
   "cell_type": "markdown",
   "metadata": {},
   "source": [
    "The previous line created a list from the words and numbers that was in the original string.\n",
    "\n",
    "Now create a dictionary with the key/value pairs ('one': 1, 'two': 2, 'three': 3, 'four': 4, 'five': 5, 'six': 6) and name it 'values'."
   ]
  },
  {
   "cell_type": "code",
   "execution_count": null,
   "metadata": {},
   "outputs": [],
   "source": [
    "#here\n",
    "values = {'one': 1, 'two': 2, 'three': 3, 'four': 4, 'five': 5, 'six': 6}"
   ]
  },
  {
   "cell_type": "markdown",
   "metadata": {},
   "source": [
    "## Exercise 2: Debugging\n",
    "\n",
    "Below you will find sample code with a few bugs in them. Identify where the bugs are and write the debugged code in the code block and run it."
   ]
  },
  {
   "cell_type": "markdown",
   "metadata": {},
   "source": [
    "### 2.1\n",
    "Write a loop that finds all even entries from 0 to 20 (inclusive) and prints them.\n",
    "\n",
    "for i in range(0, 20, -3):\n",
    "    if i % 2 = 0\n",
    "    print (i)"
   ]
  },
  {
   "cell_type": "code",
   "execution_count": 10,
   "metadata": {},
   "outputs": [
    {
     "name": "stdout",
     "output_type": "stream",
     "text": [
      "20\n",
      "14\n",
      "8\n",
      "2\n"
     ]
    }
   ],
   "source": [
    "#2.1\n",
    "for i in range(20, 0, -3): \n",
    "    if i % 2 == 0:\n",
    "        print (i)"
   ]
  },
  {
   "cell_type": "markdown",
   "metadata": {},
   "source": [
    "### 2.2\n",
    "\n",
    "Write a loop that iterates over a list of strings and prints \"True\" if the string is a palindrome and \"False\" if the string isn't. A palindrome is a word that can be read the same way forward as it can backwards. (Ex. noon, level, civic)\n",
    "\n",
    "```\n",
    "Words = ['ball', 'kayak', 'song', 'python', 'madam', 'racecar', 'noon']\n",
    "for word in words:\n",
    "    result = 'False'\n",
    "    for i in range(len(word)/2):\n",
    "        if word[i] = word[-1-i]:\n",
    "                                  result = 'True'\n",
    "else:\n",
    "            result = 'False'\n",
    "        print (Result)\n",
    "```"
   ]
  },
  {
   "cell_type": "code",
   "execution_count": 18,
   "metadata": {},
   "outputs": [
    {
     "name": "stdout",
     "output_type": "stream",
     "text": [
      "False\n",
      "True\n",
      "False\n",
      "False\n",
      "True\n",
      "True\n",
      "True\n"
     ]
    }
   ],
   "source": [
    "#2.2\n",
    "Words = ['ball', 'kayak', 'song', 'python', 'madam', 'racecar', 'noon']\n",
    "for word in Words:\n",
    "    result = 'False'\n",
    "    for i in range(len(word)//2):\n",
    "        if word[i] == word[-1-i]:\n",
    "            result = 'True'\n",
    "        else:\n",
    "            result = 'False'\n",
    "    print (result)"
   ]
  },
  {
   "cell_type": "markdown",
   "metadata": {},
   "source": [
    "### 2.3\n",
    "\n",
    "Edit the code to create a list of the first 10 entries of the Fibonacci Sequence and print it. The Fibonacci Sequence is a sequence of numbers starting from 1, where consecutive numbers are obtained by summing the previous two.\n",
    "\n",
    "Your Output should be:\n",
    "\n",
    "`[1, 1, 2, 3, 5, 8, 13, 21, 34, 55]`\n",
    "\n",
    "```\n",
    "Fibonacci = [1,1]\n",
    "for i in range (1,5) and i>4:\n",
    "    x = Fibonacci[i] + Fibonacci[i-1]\n",
    "    Fibonacci.append(i)\n",
    "\n",
    "print (Fibonacci)\n",
    "```"
   ]
  },
  {
   "cell_type": "code",
   "execution_count": 21,
   "metadata": {},
   "outputs": [
    {
     "name": "stdout",
     "output_type": "stream",
     "text": [
      "[1, 1, 2, 3, 5, 8, 13, 21, 34, 55]\n"
     ]
    }
   ],
   "source": [
    "#2.3\n",
    "Fibonacci = [1,1]\n",
    "for i in range (1,9):\n",
    "    x = Fibonacci[i] + Fibonacci[i-1]\n",
    "    Fibonacci.append(x)\n",
    "\n",
    "print (Fibonacci)"
   ]
  },
  {
   "cell_type": "markdown",
   "metadata": {},
   "source": [
    "### 2.4\n",
    "\n",
    "Create a loop that will go through a string and count how many of each vowel the string contains:\n",
    "\n",
    "```\n",
    "string = 'cauliflower is very healthy'\n",
    "\n",
    "a = 0\n",
    "e = 0\n",
    "i = 0\n",
    "o = 0\n",
    "u = 0\n",
    "y = 0\n",
    "for letter in string:\n",
    "  if letter = 'a':\n",
    "    o = o + 1\n",
    "  if letter == 'b':\n",
    "    e = e + 1\n",
    "  if letter == 'i':\n",
    "    i = i + 1\n",
    "  if letter == 'o':\n",
    "    a = a + 1\n",
    "  else:\n",
    "    u = u + 1\n",
    "print(f\"There are {a} a's, {e} e's, {i} i's, {o} o's, {u} u's & {y} y's in the string\")\n",
    "```"
   ]
  },
  {
   "cell_type": "code",
   "execution_count": 25,
   "metadata": {},
   "outputs": [
    {
     "name": "stdout",
     "output_type": "stream",
     "text": [
      "There are 2 a's, 3 e's, 2 i's, 1 o's, 1 u's & 2 y's in the string\n"
     ]
    }
   ],
   "source": [
    "#2.4\n",
    "string = 'cauliflower is very healthy'\n",
    "\n",
    "a = 0\n",
    "e = 0\n",
    "i = 0\n",
    "o = 0\n",
    "u = 0\n",
    "y = 0\n",
    "for letter in string:\n",
    "  if letter == 'a':\n",
    "    a = a + 1\n",
    "  if letter == 'e':\n",
    "    e = e + 1\n",
    "  if letter == 'i':\n",
    "    i = i + 1\n",
    "  if letter == 'o':\n",
    "    o = o + 1\n",
    "  if letter == 'y':\n",
    "    y = y + 1\n",
    "  if letter =='u':\n",
    "    u = u + 1\n",
    "print(f\"There are {a} a's, {e} e's, {i} i's, {o} o's, {u} u's & {y} y's in the string\")"
   ]
  },
  {
   "cell_type": "markdown",
   "metadata": {},
   "source": [
    "## Exercise 3: Identifying top countries\n",
    "\n",
    "Using your solution to **Exercise 7 (min workshop 1.3)**, write a function that returns the top 3 countries by number of users"
   ]
  },
  {
   "cell_type": "code",
   "execution_count": 44,
   "metadata": {},
   "outputs": [
    {
     "name": "stdout",
     "output_type": "stream",
     "text": [
      "['US', 'CA', 'IT']\n"
     ]
    }
   ],
   "source": [
    "# exercise 3\n",
    "def buildListOfCountries(myList):\n",
    "    listOfCountries=[]\n",
    "    \n",
    "    for elt in myList:\n",
    "        \n",
    "        #1-find the hyphen in an element\n",
    "        hyphPosition = elt.index('-')\n",
    "        #2-read the country ID by slicing\n",
    "        countryID = elt[hyphPosition+1:]\n",
    "        #3-add the country to the local list\n",
    "        listOfCountries.append(countryID)\n",
    "    return listOfCountries\n",
    "\n",
    "\n",
    "def addUpCountry(listCountries):\n",
    "    dic={}\n",
    "    for country in listCountries:\n",
    "        if country in dic.keys():\n",
    "            dic[country]+=1\n",
    "        else:\n",
    "            dic.update({country:1})\n",
    "    return dic\n",
    "\n",
    "def search3MostPopularCountries(dic):\n",
    "    listOfValues = dic.values()\n",
    "    sortedListOfValues = sorted(list(listOfValues))\n",
    "    filtered3HighestValues = sortedListOfValues[-3:]\n",
    "    popularCountries = [k for k,v in dic.items() if v in filtered3HighestValues]\n",
    "    \n",
    "    return popularCountries\n",
    "    \n",
    "    \n",
    "\n",
    "#useridCOUNTRYID = ['gyhwefy7832ryyg-US', 'iu7ytf87gyuwef-CA', '98yfyg82t3r-US']\n",
    "useridCOUNTRYID = ['gyhwefy7832ryyg-US', 'iu7ytf87gyuwef-CA', '98yfyg82t3r-US','iuhsdf897y3righsfe-US', 'iushdf98h23ryg-IT', 'GHsg1s54sda8-CA', 'iuhdf9h32ryu9gf-IT', 'IUufgh98y34-FR', '98yfdiuhdfbviuh8-UK', '45asdjJHHghsdas-CA']\n",
    "\n",
    "listCountries = buildListOfCountries(useridCOUNTRYID)\n",
    "resultTo1stExercise = addUpCountry(listCountries)\n",
    "#{'US': 3, 'CA': 3, 'IT': 2, 'FR': 1, 'UK': 1}\n",
    "\n",
    "print(search3MostPopularCountries(resultTo1stExercise))\n",
    "\n"
   ]
  },
  {
   "cell_type": "markdown",
   "metadata": {},
   "source": [
    "## Exercise 4: Century\n",
    "\n",
    "Write a function that takes a year and returns its corresponding century.\n",
    "\n",
    "### Examples\n",
    "\n",
    "```\n",
    " (2005) ➞ 21\n",
    "\n",
    "century_from_year(1850) ➞ 19\n",
    "\n",
    "century_from_year(-332) ➞ -4\n",
    "\n",
    "century_from_year(55) ➞ 1\n",
    "\n",
    "century_from_year(-65) ➞ -1\n",
    "```"
   ]
  },
  {
   "cell_type": "code",
   "execution_count": 55,
   "metadata": {},
   "outputs": [
    {
     "name": "stdout",
     "output_type": "stream",
     "text": [
      "19\n",
      "-4\n",
      "1\n",
      "-1\n"
     ]
    }
   ],
   "source": [
    "# exercise 4\n",
    "#1-century of a specific year if -inf < year < -100 = year//100 NOTE: we don't add (-1) because floor take the smallest number in the negative reals\n",
    "#2-century of a specific year if -100 <= year < 0 = -1\n",
    "#3-century of a specific year if 0<= year <100 = 1\n",
    "#4-century of a specific year if 100<=year<inf = year//100 +1\n",
    "\n",
    "def century_from_year(year):\n",
    "#1\n",
    "    if year<(-100):\n",
    "        century = year//100\n",
    "#2\n",
    "    if (-100)<=year and year<0:\n",
    "        century = -1\n",
    "#3\n",
    "    if 0<=year and year < 100:\n",
    "        century = 1\n",
    "#4\n",
    "    if 100<=year:\n",
    "        century = year//100 + 1\n",
    "        \n",
    "    return century\n",
    "\n",
    "\n",
    "print(century_from_year(1850))\n",
    "print(century_from_year(-332))\n",
    "print(century_from_year(55))\n",
    "print(century_from_year(-65))\n"
   ]
  },
  {
   "cell_type": "markdown",
   "metadata": {},
   "source": [
    "## Exercise 5: Factorial\n",
    "\n",
    "Write a function that computes the factorial of a given number. In math the factorial of a non negative integer number is the product of itself with all integers less than itself starting from 1. \n",
    "\n",
    "Ex. \n",
    "\n",
    "$$4! = 4*3*2*1$$\n",
    "$$4! = 24$$\n",
    "\n",
    "\n",
    "```\n",
    "factorial(4) --> 24\n",
    "```"
   ]
  },
  {
   "cell_type": "code",
   "execution_count": 61,
   "metadata": {},
   "outputs": [
    {
     "data": {
      "text/plain": [
       "6"
      ]
     },
     "execution_count": 61,
     "metadata": {},
     "output_type": "execute_result"
    }
   ],
   "source": [
    "# exercise 5\n",
    "#Let's proceed by reccursion\n",
    "def f(x):\n",
    "    if x==1:\n",
    "        return 1\n",
    "    else:\n",
    "        return x*f(x-1)\n",
    "f(3)"
   ]
  },
  {
   "cell_type": "code",
   "execution_count": null,
   "metadata": {},
   "outputs": [],
   "source": []
  }
 ],
 "metadata": {
  "file_extension": ".py",
  "kernelspec": {
   "display_name": "Python 3 (ipykernel)",
   "language": "python",
   "name": "python3"
  },
  "language_info": {
   "codemirror_mode": {
    "name": "ipython",
    "version": 3
   },
   "file_extension": ".py",
   "mimetype": "text/x-python",
   "name": "python",
   "nbconvert_exporter": "python",
   "pygments_lexer": "ipython3",
   "version": "3.9.13"
  },
  "metadata": {
   "interpreter": {
    "hash": "63fd5069d213b44bf678585dea6b12cceca9941eaf7f819626cde1f2670de90d"
   }
  },
  "mimetype": "text/x-python",
  "name": "python",
  "npconvert_exporter": "python",
  "pygments_lexer": "ipython3",
  "version": 3
 },
 "nbformat": 4,
 "nbformat_minor": 2
}
