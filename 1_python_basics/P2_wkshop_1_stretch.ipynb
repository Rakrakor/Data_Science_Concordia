{
 "cells": [
  {
   "cell_type": "markdown",
   "metadata": {
    "id": "n9ZQIr0gPRWV"
   },
   "source": [
    "## Exercise 15: Interview Questions\n",
    "\n",
    "Write your answers in a text cell or code block below each question."
   ]
  },
  {
   "cell_type": "markdown",
   "metadata": {},
   "source": [
    "### 15.1\n",
    "\n",
    "What is the difference between Python Arrays and lists?"
   ]
  },
  {
   "cell_type": "code",
   "execution_count": 1,
   "metadata": {},
   "outputs": [
    {
     "data": {
      "text/plain": [
       "'python arrays contain INTEGERS\\nwhile\\nlist contain any type of items'"
      ]
     },
     "execution_count": 1,
     "metadata": {},
     "output_type": "execute_result"
    }
   ],
   "source": [
    "\n",
    "\"\"\"\n",
    "python arrays contain INTEGERS\n",
    "while\n",
    "list contain any type of items\n",
    "\"\"\""
   ]
  },
  {
   "cell_type": "markdown",
   "metadata": {},
   "source": [
    "### 15.2 \n",
    "\n",
    "What is the difference between list and tuples in Python?"
   ]
  },
  {
   "cell_type": "code",
   "execution_count": 2,
   "metadata": {},
   "outputs": [
    {
     "data": {
      "text/plain": [
       "'\\nlists are mutable\\nwhile\\ntuples are immutable\\n'"
      ]
     },
     "execution_count": 2,
     "metadata": {},
     "output_type": "execute_result"
    }
   ],
   "source": [
    "\"\"\"\n",
    "lists are mutable\n",
    "while\n",
    "tuples are immutable\n",
    "\"\"\""
   ]
  },
  {
   "cell_type": "markdown",
   "metadata": {
    "id": "QMwgLA45QEqW"
   },
   "source": [
    "### 15.3\n",
    "\n",
    "For the following list, iterate through and print all the terms that contain an integer.\n",
    "\n",
    "word_list = `['hello', 'goodbye', 'yes1', 'no', 'maybe2']`"
   ]
  },
  {
   "cell_type": "code",
   "execution_count": 1,
   "metadata": {},
   "outputs": [],
   "source": [
    "word_list = ['hello', 'goodbye', 'yes1', 'no', 'maybe2']\n",
    "for item in word_list:\n",
    "    localList = list(item)\n",
    "    for c in localList:\n",
    "        if isinstance(c,int):\n",
    "            print(item)\n",
    "   \n",
    "    \n",
    "\n",
    "        \n"
   ]
  },
  {
   "cell_type": "markdown",
   "metadata": {
    "id": "tk6qbYKrRDpX"
   },
   "source": [
    "### 15.4\n",
    "\n",
    "For the following list of integers, write a program that returns a list of all the even numbers\n",
    "'''\n",
    "\n",
    "number_list = [1,2,3,4,5,6,7,8,9]"
   ]
  },
  {
   "cell_type": "code",
   "execution_count": 16,
   "metadata": {},
   "outputs": [
    {
     "data": {
      "text/plain": [
       "[2, 4, 6, 8]"
      ]
     },
     "execution_count": 16,
     "metadata": {},
     "output_type": "execute_result"
    }
   ],
   "source": [
    "number_list = [1,2,3,4,5,6,7,8,9]\n",
    "def evenNums(myList):\n",
    "    even = [en for en in myList if en%2==0]\n",
    "    return even\n",
    "\n",
    "evenNums(number_list)\n"
   ]
  },
  {
   "cell_type": "markdown",
   "metadata": {
    "id": "QVNS_hO7PWru"
   },
   "source": [
    "### 15.5\n",
    "\n",
    "Create a list with elements `[\"Toronto\", \"Vancouver\", \"Montreal\"]`, and create a nested for loop that returns a list of these strings in reverse order.\n",
    "\n",
    "```\n",
    "Input\n",
    "[\"Toronto\", \"Vancouver\", \"Montreal\"]\n",
    "\n",
    "Output\n",
    "[\"otnoroT\", \"revuocnaV\", \"laertnoM\"]\n",
    "```"
   ]
  },
  {
   "cell_type": "code",
   "execution_count": 19,
   "metadata": {},
   "outputs": [
    {
     "name": "stdout",
     "output_type": "stream",
     "text": [
      "['otnoroT', 'revuocnaV', 'laertnoM']\n"
     ]
    }
   ],
   "source": [
    "cities = [\"Toronto\", \"Vancouver\", \"Montreal\"]\n",
    "\n",
    "def revertString(myString):\n",
    "    ret=[myString[i] for i in range(len(myString)-1,-1,-1)]\n",
    "    return ''.join(ret)\n",
    "\n",
    "for i in range(0,len(cities)):\n",
    "    cities[i]=revertString(cities[i])\n",
    "\n",
    "print(cities)\n"
   ]
  },
  {
   "cell_type": "markdown",
   "metadata": {},
   "source": [
    "## Exercise 16: Grade school addition\n",
    "\n",
    "Write a function that, given two lists of integers, adds them as if they were two numbers. So `12` would be `[1,2]` and `2357` would be `[2,3,5,7]`\n",
    "\n",
    "Ex:\n",
    "\n",
    "```\n",
    "    [1, 1] + [1] ⇒ 11 + 1 = 12\n",
    "    [9, 9] + [2] ⇒ 99 + 2 = 101\n",
    "```"
   ]
  },
  {
   "cell_type": "code",
   "execution_count": 26,
   "metadata": {},
   "outputs": [
    {
     "data": {
      "text/plain": [
       "101"
      ]
     },
     "execution_count": 26,
     "metadata": {},
     "output_type": "execute_result"
    }
   ],
   "source": [
    "# exercise 16\n",
    "\"\"\"l1 = [1, 1]\n",
    "l2 = [1]\"\"\"\n",
    "\n",
    "l1 = [9, 9]\n",
    "l2 = [2]\n",
    "\n",
    "def add(l1,l2):\n",
    "    string1 = \"\"\n",
    "    string2 = \"\"\n",
    "    for i in l1:\n",
    "        string1 += str(i)\n",
    "    for j in l2:\n",
    "        string2 += str(j)\n",
    "        \n",
    "    return int(string1)+int(string2)\n",
    "\n",
    "add(l1,l2)\n"
   ]
  },
  {
   "cell_type": "markdown",
   "metadata": {},
   "source": [
    "## Exercise 17: Printing the pretty pyramid\n",
    "\n",
    "This pyramid is pretty!\n",
    "```\n",
    "* \n",
    "* * \n",
    "* * * \n",
    "* * * * \n",
    "* * * * * \n",
    "* * * * * * \n",
    "* * * * * \n",
    "* * * * \n",
    "* * * \n",
    "* * \n",
    "* \n",
    "```\n",
    "\n",
    "Let's celebrate that.\n",
    "\n",
    "Given a number of rows, print a sideways pyramid with this number of \"levels\" on each side. For instance your function `pretty_pyramid(4)` would print out:\n",
    "\n",
    "```\n",
    "* \n",
    "* * \n",
    "* * * \n",
    "* * * * \n",
    "* * * \n",
    "* * \n",
    "* \n",
    "```\n",
    "\n",
    "And `pretty_pyramid(8)` would print out:\n",
    "\n",
    "```\n",
    "* \n",
    "* * \n",
    "* * * \n",
    "* * * * \n",
    "* * * * * \n",
    "* * * * * * \n",
    "* * * * * * * \n",
    "* * * * * * * * \n",
    "* * * * * * * \n",
    "* * * * * * \n",
    "* * * * * \n",
    "* * * * \n",
    "* * * \n",
    "* * \n",
    "* \n",
    "```"
   ]
  },
  {
   "cell_type": "code",
   "execution_count": 38,
   "metadata": {},
   "outputs": [
    {
     "name": "stdout",
     "output_type": "stream",
     "text": [
      "\n",
      "* \n",
      "* * \n",
      "* * * \n",
      "* * * * \n",
      "* * * * * \n",
      "* * * * * * \n",
      "* * * * * \n",
      "* * * * \n",
      "* * * \n",
      "* * \n",
      "* \n",
      "\n",
      "\n",
      "* \n",
      "* * \n",
      "* * * \n",
      "* * * * \n",
      "* * * \n",
      "* * \n",
      "* \n",
      "\n",
      "\n",
      "* \n",
      "* * \n",
      "* * * \n",
      "* * * * \n",
      "* * * * * \n",
      "* * * * * * \n",
      "* * * * * * * \n",
      "* * * * * * * * \n",
      "* * * * * * * \n",
      "* * * * * * \n",
      "* * * * * \n",
      "* * * * \n",
      "* * * \n",
      "* * \n",
      "* \n",
      "\n"
     ]
    }
   ],
   "source": [
    "# exercise 17\n",
    "def pretty_pyramid(x):\n",
    "    for i in range(0,x):\n",
    "        print('* '*i)\n",
    "    for j in range(x,-1,-1):\n",
    "        print('* '*j )\n",
    "pretty_pyramid(6)\n",
    "pretty_pyramid(4)\n",
    "pretty_pyramid(8)"
   ]
  },
  {
   "cell_type": "markdown",
   "metadata": {},
   "source": [
    "## Exercise 18: Lucky 7\n",
    "\n",
    "Return the sum of the numbers in an array, returning 0 for an empty array. \n",
    "\n",
    "The number 7 is “lucky”, therefore it does countdouble and the number that comes immediately after a 7 countstriple.\n",
    "\n",
    "```\n",
    "lucky_seven([1, 2, 4, 1]) → 8\n",
    "lucky_seven([1, 1]) → 2\n",
    "lucky_seven([1, 2, 2, 1, 7]) → 20\n",
    "lucky_seven([1, 2, 2, 1, 7, 3, 1]) → 30\n",
    "```\n"
   ]
  },
  {
   "cell_type": "code",
   "execution_count": 48,
   "metadata": {},
   "outputs": [
    {
     "data": {
      "text/plain": [
       "30"
      ]
     },
     "execution_count": 48,
     "metadata": {},
     "output_type": "execute_result"
    }
   ],
   "source": [
    "# exercise 18\n",
    "def lucky_seven(arr):\n",
    "    sum = 0\n",
    "    memo = 0\n",
    "    if len(arr)==0:\n",
    "        return 0\n",
    "    else:\n",
    "        for i in arr:\n",
    "            \n",
    "            if i!=7 and memo != 7:\n",
    "                sum+=i\n",
    "            elif i!=7 and memo == 7:\n",
    "                sum+=(i*3)\n",
    "            else:\n",
    "                sum+=(i*2)\n",
    "            memo = i\n",
    "    return sum\n",
    "\n",
    "#lucky_seven([1, 2, 4, 1])\n",
    "#lucky_seven([1, 1])\n",
    "#lucky_seven([1, 2, 2, 1, 7])\n",
    "lucky_seven([1, 2, 2, 1, 7, 3, 1])\n"
   ]
  },
  {
   "cell_type": "markdown",
   "metadata": {},
   "source": [
    "## Exercise 19: Pascal's Triangle\n",
    "\n",
    "[Pascals Triangle](https://en.wikipedia.org/wiki/Pascal%27s_triangle) is a mathematical structure that's important in statistics and [combinatorics](https://en.wikipedia.org/wiki/Combinatorics). It starts with the number 1 and expands as a pyramid where a number is the sum of it's diagonal neighbors on the row above it.\n",
    "\n",
    "It looks like this (you can find more examples in the links):\n",
    "\n",
    "```\n",
    "                 1\n",
    "               1   1\n",
    "             1   2   1\n",
    "           1   3   3   1\n",
    "         1   4   6   4   1\n",
    "       1   5   10   10   5   1\n",
    "     1   6   15   20   15   6   1\n",
    "   1   7   21   35   35   21   7   1\n",
    "```\n",
    "\n",
    "Write a function that given an integer (the number of rows) prints out pascal's triangle up to the specified row. Example:\n",
    "\n",
    "```\n",
    "pascal_triangle(8)\n",
    "```\n",
    "out:\n",
    "```\n",
    "                 1\n",
    "\n",
    "               1   1\n",
    "\n",
    "             1   2   1\n",
    "\n",
    "           1   3   3   1\n",
    "\n",
    "         1   4   6   4   1\n",
    "\n",
    "       1   5   10   10   5   1\n",
    "\n",
    "     1   6   15   20   15   6   1\n",
    "\n",
    "   1   7   21   35   35   21   7   1\n",
    "\n",
    "```\n",
    "Another example\n",
    "\n",
    "```\n",
    "pascal_triangle(3)\n",
    "```\n",
    "out:\n",
    "```\n",
    "                 1\n",
    "\n",
    "               1   1\n",
    "\n",
    "             1   2   1\n",
    "\n",
    "```"
   ]
  },
  {
   "cell_type": "code",
   "execution_count": 50,
   "metadata": {},
   "outputs": [
    {
     "name": "stdout",
     "output_type": "stream",
     "text": [
      "                                                 1                                                  \n",
      "                                                1 1                                                 \n",
      "                                               1 2 1                                                \n",
      "                                              1 3 3 1                                               \n",
      "                                             1 4 6 4 1                                              \n",
      "                                           1 5 10 10 5 1                                            \n",
      "                                          1 6 15 20 15 6 1                                          \n",
      "                                        1 7 21 35 35 21 7 1                                         \n",
      "                                       1 8 28 56 70 56 28 8 1                                       \n",
      "                                    1 9 36 84 126 126 84 36 9 1                                     \n",
      "                                1 10 45 120 210 252 210 120 45 10 1                                 \n",
      "                              1 11 55 165 330 462 462 330 165 55 11 1                               \n",
      "                            1 12 66 220 495 792 924 792 495 220 66 12 1                             \n",
      "                        1 13 78 286 715 1287 1716 1716 1287 715 286 78 13 1                         \n",
      "                     1 14 91 364 1001 2002 3003 3432 3003 2002 1001 364 91 14 1                     \n",
      "                 1 15 105 455 1365 3003 5005 6435 6435 5005 3003 1365 455 105 15 1                  \n",
      "             1 16 120 560 1820 4368 8008 11440 12870 11440 8008 4368 1820 560 120 16 1              \n",
      "         1 17 136 680 2380 6188 12376 19448 24310 24310 19448 12376 6188 2380 680 136 17 1          \n",
      "      1 18 153 816 3060 8568 18564 31824 43758 48620 43758 31824 18564 8568 3060 816 153 18 1       \n",
      "  1 19 171 969 3876 11628 27132 50388 75582 92378 92378 75582 50388 27132 11628 3876 969 171 19 1   \n"
     ]
    }
   ],
   "source": [
    "# exercise 19\n",
    "def listToString(lst, totalRaw):\n",
    "    #this function is to make the display pretty\n",
    "    #1st: each of the integers of the list is casted to a string\n",
    "    #2nd: the items of the list are joined to form a string with a space between each item\n",
    "    #3rd: the string is centered with an empirical parameter that quite fits a regular screen\n",
    "    lst1 = [str(i) for i in lst]\n",
    "    toString = \" \".join(lst1)\n",
    "    \n",
    "    centeredString = toString.center(5*totalRaw)\n",
    "    return centeredString\n",
    "\n",
    "def pascal(x):\n",
    "    #memo will keep a record of the previous line to allow current line calculation\n",
    "    memo = [] \n",
    "    \n",
    "    for i in range(0,x-1): # let's iterate as many time as the desired input x: it represent the raws\n",
    "        #Because the 2 first raws don't allow the calculate the current raw\n",
    "        #there are 2 specific cases at the beginning when i=0 and when i=1\n",
    "\n",
    "        if i == 0:    \n",
    "            memo.append(1)        \n",
    "            print(listToString(memo, x))\n",
    "        \n",
    "        if i == 1:\n",
    "            memo.append(1)\n",
    "            print(listToString(memo, x))\n",
    "        \n",
    "        #Regular case: when the previous raw allows the next raw calculation\n",
    "        #i.e when 2<= i\n",
    "        if 1<len(memo):\n",
    "            current = []\n",
    "            #the previous line digits are added 2 by 2. Each result is stored in the current array\n",
    "            #to prevent IndexOutOfRange the for loop goes until Index-1\n",
    "            for j in range(0,len(memo)):\n",
    "                edgeIndex = j+1\n",
    "                if edgeIndex < len(memo): \n",
    "                    current.append(memo[j] + memo[j+1])\n",
    "\n",
    "            #finally we can insert 1 at the beginning and at the end of the array\n",
    "            current.insert(0,1)\n",
    "            current.append(1)\n",
    "            \n",
    "            memo = current\n",
    "            #display\n",
    "            print(listToString(current, x))\n",
    "\n",
    "\n",
    "pascal(20)\n",
    "\n",
    "\n"
   ]
  },
  {
   "cell_type": "code",
   "execution_count": null,
   "metadata": {},
   "outputs": [],
   "source": []
  },
  {
   "cell_type": "code",
   "execution_count": null,
   "metadata": {},
   "outputs": [],
   "source": []
  }
 ],
 "metadata": {
  "colab": {
   "collapsed_sections": [],
   "name": "Workshop_Conditional_Logic.ipynb",
   "provenance": [
    {
     "file_id": "1QGauWFMGrzBXPCaLePeXlpREsuPZoxDC",
     "timestamp": 1612398079048
    }
   ]
  },
  "kernelspec": {
   "display_name": "Python 3 (ipykernel)",
   "language": "python",
   "name": "python3"
  },
  "language_info": {
   "codemirror_mode": {
    "name": "ipython",
    "version": 3
   },
   "file_extension": ".py",
   "mimetype": "text/x-python",
   "name": "python",
   "nbconvert_exporter": "python",
   "pygments_lexer": "ipython3",
   "version": "3.9.13"
  }
 },
 "nbformat": 4,
 "nbformat_minor": 1
}
