{
 "cells": [
  {
   "cell_type": "markdown",
   "metadata": {},
   "source": [
    "# Math as a tool\n",
    "\n",
    "## Warmup\n",
    "\n",
    "Run the following lines in the cell below:\n",
    "\n",
    "```\n",
    "%matplotlib inline\n",
    "import numpy as np\n",
    "import matplotlib.pyplot as plt\n",
    "import pandas as pd\n",
    "```"
   ]
  },
  {
   "cell_type": "code",
   "execution_count": 2,
   "metadata": {},
   "outputs": [],
   "source": [
    "# imports here\n",
    "\n",
    "%matplotlib inline\n",
    "import numpy as np\n",
    "import matplotlib.pyplot as plt\n",
    "import pandas as pd"
   ]
  },
  {
   "cell_type": "markdown",
   "metadata": {},
   "source": [
    "Warmup 1: Write a one line function using set operations to verify that two given sets have NO elements in common. \n",
    "\n",
    "```\n",
    "common_elements({1, 2, 3}, {2}) -> True\n",
    "common_elements({1, 2, 3}, {'a', 'b', 'c'}) -> False\n",
    "common_elements({1, 2, 3}, {'a', 1, 'hi!'}) -> True\n",
    "```"
   ]
  },
  {
   "cell_type": "code",
   "execution_count": 12,
   "metadata": {},
   "outputs": [
    {
     "name": "stdout",
     "output_type": "stream",
     "text": [
      "True\n",
      "False\n",
      "True\n"
     ]
    }
   ],
   "source": [
    "# warmup 1\n",
    "\n",
    "def common_elements(my2Sets):\n",
    "    return my2Sets[0].intersection(my2Sets[1]) != set() #check if the intersection of the 2 sets is NOT equal to an empty set\n",
    "\n",
    "\n",
    "#TESTS:\n",
    "listOfSets = []\n",
    "listOfSets.append(({1, 2, 3}, {2}))\n",
    "listOfSets.append(({1, 2, 3}, {'a', 'b', 'c'}))\n",
    "listOfSets.append(({1, 2, 3}, {'a', 1, 'hi!'}))\n",
    "\n",
    "for i in listOfSets:\n",
    "    print(common_elements(i))\n",
    "    \n",
    "    "
   ]
  },
  {
   "cell_type": "markdown",
   "metadata": {},
   "source": [
    "## Exercise 1: Dot Product\n",
    "\n",
    "Write a function `matrix_multiply(A, B)` using for loops, `+` and `*` that takes in two matrices (can be list of lists, or 2d numpy array) and returns their dot product (matrix multiplication). It should work with column vectors ($k \\times 1$ dimensions) and row vectors ($1 \\times k$) normally.\n",
    "\n",
    "\n",
    "```import numpy as np\n",
    "\n",
    "A = [\n",
    "    [1,2,3],\n",
    "    [4,5,6]\n",
    "]\n",
    "\n",
    "B = [\n",
    "    [1,2,3],\n",
    "    [4,5,6],\n",
    "    [7,8,9]\n",
    "]\n",
    "\n",
    "matrix_multiply(A,B)\n",
    "\n",
    "RETURNS: \n",
    "[[30, 36, 42],\n",
    " [66, 81, 96]]\n",
    "\n",
    "---------example 2-------------\n",
    "# This is a row vector\n",
    "A = np.array([\n",
    "    [1,2,3]\n",
    "])\n",
    "\n",
    "# This is a column vector\n",
    "B = np.array([\n",
    "    [1],\n",
    "    [4],\n",
    "    [7]\n",
    "])\n",
    "\n",
    "matrix_multiply(A,B)\n",
    "\n",
    "RETURNS:\n",
    "[[30]]\n",
    "\n",
    "```\n",
    "\n",
    "Use `np.dot` to test your output"
   ]
  },
  {
   "cell_type": "code",
   "execution_count": 72,
   "metadata": {},
   "outputs": [
    {
     "name": "stdout",
     "output_type": "stream",
     "text": [
      "Comparison of function result :\n",
      " [[30 36 42]\n",
      " [66 81 96]] \n",
      " vs\n",
      " np.dot result :\n",
      " [[30 36 42]\n",
      " [66 81 96]]\n"
     ]
    }
   ],
   "source": [
    "# exercise 1\n",
    "def matrix_multiply(A, B):\n",
    "    #transform A and B to a numpy arrays\n",
    "    a = np.array(A)\n",
    "    b = np.array(B)\n",
    "    rowList = []\n",
    "    returnMatrix =[]\n",
    "    \n",
    "    for indexRowA in range (0, a.shape[0]):    #1\n",
    "        for indexColB in range(0,b.shape[1]):  #2 #5\n",
    "            rowList.append((sum(a[indexRowA,:]*b[:,indexColB]))) #3 #4, \n",
    "        returnMatrix.append(rowList)   #6\n",
    "        rowList = []                   #7\n",
    "    return np.array(returnMatrix)      #8\n",
    "\n",
    "#Algorithm: \n",
    "    #1- We Iterated through each row of A\n",
    "    #2-    within which we iterated through each column of B\n",
    "    #3-        We use numpy array to multiply A Rows * B Rows item by item\n",
    "    #4-        Then we need to sum up the previous results from the multiplication: This gives us 1 item of a Row of the Matrix result\n",
    "    #5-        the process is repeated until a full row is completed\n",
    "    #6-    A completed result Matrix Row is added to a Result List\n",
    "    #7-    The previous row is made empty for the next row processing\n",
    "    #8- Once all rows of the result matrix have been completed, the result matrix is return in the shape of a numpy array\n",
    "\n",
    "\n",
    "#TEST \n",
    "#A = [ [1,2,3]]\n",
    "#B = [[1],[4], [7]]\n",
    "A = [ [1,2,3],[4,5,6]]\n",
    "B = [[1,2,3],[4,5,6], [7,8,9]]\n",
    "\n",
    "\n",
    "\n",
    "\n",
    "\n",
    "print(f'Comparison of function result :\\n { matrix_multiply(A, B) } \\n vs\\n np.dot result :\\n {np.dot(A,B)}')\n",
    "\n",
    "\n"
   ]
  },
  {
   "cell_type": "markdown",
   "metadata": {},
   "source": [
    "## Exercise 2: Matrix Math torture\n",
    "\n",
    "**2.1** Give 3 examples of non-invertible square matrices that are non-zero\n",
    "\n",
    "**2.2** Explain why the identity matrix $I$ is necessarily a square matrix with only $1$'s on the diagonal (hint: use the dot product from Q1)\n",
    "\n",
    "**2.3** The **trace** is commutative for two matrices so $tr(AB) = tr(BA)$. Give an example where this is false for 3 matrices which can all be multiplied together.\n",
    "\n",
    "**2.4** Give an example of a $4 \\times 4$ idempotent matrix (where $A \\cdot A = A^2 = A$)\n",
    "\n",
    "**2.5** solve the following system of equations for `x`, `y` and `z` using matrices and `numpy.linalg.solve`\n",
    "\n",
    "$$x \t+ \ty \t+ \tz \t= \t6$$\n",
    "\n",
    "$$2y \t+ \t5z \t= \t−4$$\n",
    "\n",
    "$$2x \t+ \t5y \t− \tz \t= \t27$$"
   ]
  },
  {
   "cell_type": "code",
   "execution_count": 177,
   "metadata": {},
   "outputs": [
    {
     "ename": "LinAlgError",
     "evalue": "singular matrix",
     "output_type": "error",
     "traceback": [
      "\u001b[0;31m---------------------------------------------------------------------------\u001b[0m",
      "\u001b[0;31mLinAlgError\u001b[0m                               Traceback (most recent call last)",
      "\u001b[0;32m/var/folders/v_/xxkztlq96zjg39p73r1dvnl00000gn/T/ipykernel_99167/2965279719.py\u001b[0m in \u001b[0;36m<module>\u001b[0;34m\u001b[0m\n\u001b[1;32m     24\u001b[0m \u001b[0mlinalg\u001b[0m\u001b[0;34m.\u001b[0m\u001b[0mdet\u001b[0m\u001b[0;34m(\u001b[0m\u001b[0mA\u001b[0m\u001b[0;34m)\u001b[0m \u001b[0;31m#=> answer is 0\u001b[0m\u001b[0;34m\u001b[0m\u001b[0;34m\u001b[0m\u001b[0m\n\u001b[1;32m     25\u001b[0m \u001b[0;31m#let's try to invert A\u001b[0m\u001b[0;34m\u001b[0m\u001b[0;34m\u001b[0m\u001b[0m\n\u001b[0;32m---> 26\u001b[0;31m \u001b[0mA_inv\u001b[0m \u001b[0;34m=\u001b[0m \u001b[0mlinalg\u001b[0m\u001b[0;34m.\u001b[0m\u001b[0minv\u001b[0m\u001b[0;34m(\u001b[0m\u001b[0mA\u001b[0m\u001b[0;34m)\u001b[0m \u001b[0;31m# give ERROR: LinAlgError: singular matrix . So Not invertible\u001b[0m\u001b[0;34m\u001b[0m\u001b[0;34m\u001b[0m\u001b[0m\n\u001b[0m\u001b[1;32m     27\u001b[0m \u001b[0;34m\u001b[0m\u001b[0m\n\u001b[1;32m     28\u001b[0m \u001b[0;34m\u001b[0m\u001b[0m\n",
      "\u001b[0;32m~/opt/anaconda3/lib/python3.9/site-packages/scipy/linalg/_basic.py\u001b[0m in \u001b[0;36minv\u001b[0;34m(a, overwrite_a, check_finite)\u001b[0m\n\u001b[1;32m    954\u001b[0m         \u001b[0minv_a\u001b[0m\u001b[0;34m,\u001b[0m \u001b[0minfo\u001b[0m \u001b[0;34m=\u001b[0m \u001b[0mgetri\u001b[0m\u001b[0;34m(\u001b[0m\u001b[0mlu\u001b[0m\u001b[0;34m,\u001b[0m \u001b[0mpiv\u001b[0m\u001b[0;34m,\u001b[0m \u001b[0mlwork\u001b[0m\u001b[0;34m=\u001b[0m\u001b[0mlwork\u001b[0m\u001b[0;34m,\u001b[0m \u001b[0moverwrite_lu\u001b[0m\u001b[0;34m=\u001b[0m\u001b[0;36m1\u001b[0m\u001b[0;34m)\u001b[0m\u001b[0;34m\u001b[0m\u001b[0;34m\u001b[0m\u001b[0m\n\u001b[1;32m    955\u001b[0m     \u001b[0;32mif\u001b[0m \u001b[0minfo\u001b[0m \u001b[0;34m>\u001b[0m \u001b[0;36m0\u001b[0m\u001b[0;34m:\u001b[0m\u001b[0;34m\u001b[0m\u001b[0;34m\u001b[0m\u001b[0m\n\u001b[0;32m--> 956\u001b[0;31m         \u001b[0;32mraise\u001b[0m \u001b[0mLinAlgError\u001b[0m\u001b[0;34m(\u001b[0m\u001b[0;34m\"singular matrix\"\u001b[0m\u001b[0;34m)\u001b[0m\u001b[0;34m\u001b[0m\u001b[0;34m\u001b[0m\u001b[0m\n\u001b[0m\u001b[1;32m    957\u001b[0m     \u001b[0;32mif\u001b[0m \u001b[0minfo\u001b[0m \u001b[0;34m<\u001b[0m \u001b[0;36m0\u001b[0m\u001b[0;34m:\u001b[0m\u001b[0;34m\u001b[0m\u001b[0;34m\u001b[0m\u001b[0m\n\u001b[1;32m    958\u001b[0m         raise ValueError('illegal value in %d-th argument of internal '\n",
      "\u001b[0;31mLinAlgError\u001b[0m: singular matrix"
     ]
    }
   ],
   "source": [
    "# exercise 2.1\n",
    "from scipy import linalg\n",
    "\n",
    "#To be non invertible the determinant of a square matrix must be == 0\n",
    "#A =\n",
    "#|a b|\n",
    "#|c d|\n",
    "#The determinant is det = ad-cb\n",
    "\n",
    "######################Ex1 : if ad = cb the determinant is 0\n",
    "#so a=2, d=3, c=1, b=6\n",
    "#|2 6|\n",
    "#|1 3|\n",
    "#shoud be not invertible. let's test\n",
    "A = np.array([[2,6],[1,3]])\n",
    "linalg.det(A) #=> answer is 0\n",
    "#let's try to invert A\n",
    "A_inv = linalg.inv(A) # \\\\ gives ERROR: LinAlgError: singular matrix. So Not invertible !!//\n",
    "\n",
    "#######################Ex2: if ad = cb the determinant is 0\n",
    "#so a=12, d=5, c=10, b=6\n",
    "#|12 6|\n",
    "#|10 5|\n",
    "#shoud be not invertible. let's test\n",
    "A = np.array([[12,6],[10,5]])\n",
    "linalg.det(A) #=> answer is 0\n",
    "#let's try to invert A\n",
    "A_inv = linalg.inv(A) # \\\\ gives ERROR: LinAlgError: singular matrix. So Not invertible !! //\n",
    "\n",
    "#######################Ex3: \n",
    "#A =\n",
    "#|a b c|\n",
    "#|d e f|\n",
    "#|g h i|\n",
    "#The determinant is det = aei + bfg + cdh - ceg - bdi - afh\n",
    "#if (aei + bfg + cdh) = (ceg + bdi + afh) => the determinant is 0\n",
    "#so aei=4, bfg=6, cdh=10, ceg=4, bdi=6, afh=10\n",
    "#so a= 1, e=1, i=4, b=1, f=1, g=6, c=1, d=1 h=10,\n",
    "#   c=1, e=1, g=4, b=1, d=1, i=6, a=1, f=1, h=10\n",
    "#|1  1  1|\n",
    "#|1  1  1|\n",
    "#|6 10  4|\n",
    "#shoud be not invertible. let's test\n",
    "A = np.array([[1,1,1],[1,1,1],[6,10,4]])\n",
    "linalg.det(A) #=> answer is 0\n",
    "#let's try to invert A\n",
    "A_inv = linalg.inv(A) # \\\\ gives ERROR: LinAlgError: singular matrix. So Not invertible !! //\n",
    "\n",
    "\n",
    "\n"
   ]
  },
  {
   "cell_type": "code",
   "execution_count": 95,
   "metadata": {},
   "outputs": [
    {
     "name": "stdout",
     "output_type": "stream",
     "text": [
      "GOOD Example if Identity matrix Square: \n",
      "[[1. 2. 3.]\n",
      " [4. 5. 6.]]\n",
      "the shape of A.I is IDENTICAL to A. Shape A.I =(2, 3)\n",
      "\n",
      "Bad Example if Identity matrix NOT Square: \n",
      "[[1 2 3 0]\n",
      " [4 5 6 0]]\n",
      "the shape of A.I is DIFFERENT to A. Shape A.IdentityMatrix_NOT_Square =(2, 4)\n",
      "\n"
     ]
    }
   ],
   "source": [
    "# exercise 2.2\n",
    "# When a Matrix A_m.k is multiplied by The IDENTITY Matrix I_n.n:\n",
    "# A_m.k @ I_n.n\n",
    "# n MUST equal k. \n",
    "# (Basic requirement to multiply 2 Matrixes).\n",
    "# The Identity diagonal fill out with 1. It has as many 1s as k.\n",
    "# If the Identity Matrix as more or less columns than k, the resulting matrix would not have the same dimension as the initiale A_m.k Matrix\n",
    "\n",
    "#Example if identity matrix is square:\n",
    "identity= np.identity(3)\n",
    "\n",
    "A = [               \n",
    "    [1,2,3],\n",
    "    [4,5,6]\n",
    "]\n",
    "#print(np.dot(A,identity))\n",
    "print(f'GOOD Example if Identity matrix Square: \\n{np.dot(A,identity)}')\n",
    "print(f'the shape of A.I is IDENTICAL to A. Shape A.I ={np.dot(A,identity).shape}\\n')\n",
    "\n",
    "\n",
    "#Example, if IDENTITY Matrix is not square:\n",
    "ex_IdentityMatrix_NOT_Square = [\n",
    "    [1,0,0, 0],\n",
    "    [0,1,0, 0],\n",
    "    [0,0,1, 0]\n",
    "]\n",
    "\n",
    "print(f'Bad Example if Identity matrix NOT Square: \\n{np.dot(A,C)}')\n",
    "print(f'the shape of A.I is DIFFERENT to A. Shape A.IdentityMatrix_NOT_Square ={np.dot(A,ex_IdentityMatrix_NOT_Square).shape}\\n')\n",
    "#Result is : A_2.4,  But the shape should have been A_2,3\n",
    "#[[1 2 3 0]\n",
    "# [4 5 6 0]]"
   ]
  },
  {
   "cell_type": "code",
   "execution_count": 22,
   "metadata": {},
   "outputs": [
    {
     "name": "stdout",
     "output_type": "stream",
     "text": [
      " Does trace_ABC == trace_BCA == trace_CAB ?\n",
      " trace_ABC == trace_BCA : True\n",
      " trace_BCA == trace_CAB : True \n",
      "\n",
      " Does trace_ABC == trace_CAB ?\n",
      " trace_CAB : False\n"
     ]
    }
   ],
   "source": [
    "# exercise 2.3\n",
    "from scipy import linalg\n",
    "#the trace of matrix product must be cyclic to be equal\n",
    "#Ex: tr(ABC)=tr(BCA)=tr(CAB)\n",
    "#But tr(ABC)!=tr(ACB)\n",
    "A = np.array([[1,2,3],[4,5,6],[7,8,9]]) #A.Shape: 3.3\n",
    "B = np.array([[1,2,5],[4,5,2],[7,8,1]]) #B.Shape: 3.3\n",
    "C = np.array([[2,3,5],[6,3,1],[3,5,1]])     #C.Shape: 3.3\n",
    "\n",
    "#TEST for cyclic matrix product: \n",
    "AB = np.dot(A,B)\n",
    "ABC = np.dot(AB,C)\n",
    "trace_ABC = np.trace(ABC)\n",
    "\n",
    "BC = np.dot(B,C)\n",
    "BCA = np.dot(BC,A)\n",
    "trace_BCA = np.trace(BCA)\n",
    "\n",
    "CA = np.dot(C,A)\n",
    "CAB = np.dot(CA,B)\n",
    "trace_CAB = np.trace(CAB)\n",
    "trace_CAB\n",
    "\n",
    "print(f' Does trace_ABC == trace_BCA == trace_CAB ?')\n",
    "print(f' trace_ABC == trace_BCA : {trace_ABC == trace_BCA}')\n",
    "print(f' trace_BCA == trace_CAB : {trace_BCA == trace_CAB} \\n')\n",
    "\n",
    "\n",
    "#Test for NON cyclic matrix product:\n",
    "AC = np.dot(A,C)\n",
    "ACB = np.dot(AC,B)\n",
    "trace_CAB = np.trace(ACB)\n",
    "trace_CAB\n",
    "print(f' Does trace_ABC == trace_CAB ?')\n",
    "print(f' trace_CAB : {trace_ABC == trace_CAB }')\n",
    "\n",
    "\n",
    "\n"
   ]
  },
  {
   "cell_type": "code",
   "execution_count": 197,
   "metadata": {},
   "outputs": [
    {
     "data": {
      "text/plain": [
       "array([[1., 0., 0., 0.],\n",
       "       [0., 1., 0., 0.],\n",
       "       [0., 0., 1., 0.],\n",
       "       [0., 0., 0., 1.]])"
      ]
     },
     "execution_count": 197,
     "metadata": {},
     "output_type": "execute_result"
    }
   ],
   "source": [
    "# exercise 2.4\n",
    "from numpy.linalg import matrix_power\n",
    "#let's check wither the identity matrix is idempotent\n",
    "identity1 = np.identity(4)\n",
    "identity1\n",
    "A_A = np.dot(identity1,identity1)\n",
    "A_A\n",
    "Asqr = matrix_power(identity1,2)\n",
    "Asqr\n",
    "#We have checked that \n",
    "#identity1 == A_A == Asqr"
   ]
  },
  {
   "cell_type": "code",
   "execution_count": 122,
   "metadata": {},
   "outputs": [
    {
     "name": "stdout",
     "output_type": "stream",
     "text": [
      " Y= [[ 6]\n",
      " [-4]\n",
      " [27]] \n",
      "\n",
      " A= [[ 1  1  1]\n",
      " [ 0  2  5]\n",
      " [ 2  5 -1]] \n",
      "\n",
      "the determinant of A is det(A) = -21.0 \n",
      "\n",
      "the inverted matrix A is A^-1 = [[ 1.28571429 -0.28571429 -0.14285714]\n",
      " [-0.47619048  0.14285714  0.23809524]\n",
      " [ 0.19047619  0.14285714 -0.0952381 ]]\n",
      "\n",
      "the solution X is X = [[ 5.]\n",
      " [ 3.]\n",
      " [-2.]]\n",
      "\n",
      "if we multiply A.X we should find the initial Y vector = [[ 6.]\n",
      " [-4.]\n",
      " [27.]]\n",
      "\n",
      " \\\\ The solution is correctly found // \n"
     ]
    }
   ],
   "source": [
    "# exercise 2.5\n",
    "from scipy import linalg\n",
    "\n",
    "# Solve this system:\n",
    "# x+y+z=6\n",
    "# 2y+5z=−4\n",
    "# 2𝑥+5𝑦−𝑧=27\n",
    "\n",
    "\n",
    "A = np.array([[1,1,1],[0,2,5],[2,5,-1]])\n",
    "Y = np.array([[6],[-4],[27]])\n",
    "print(f' Y= {Y} \\n' )\n",
    "print(f' A= {A} \\n')\n",
    "# Y = A.X\n",
    "# We want to find X such that A^-1.Y = X\n",
    "\n",
    "#1st Let's check whether A is Invertible i.e NonSingular:\n",
    "linalg.det(A) # => returns -21: So the matrix is invertible\n",
    "print(f'the determinant of A is det(A) = {linalg.det(A)} \\n')\n",
    "A_inv = linalg.inv(A)  # let's Compute the inverse of A\n",
    "print(f'the inverted matrix A is A^-1 = {linalg.inv(A)}\\n')\n",
    "\n",
    "#2nd Let's calculate the product of A^-1.Y\n",
    "solution = A_inv @ Y\n",
    "solution  # Solution appeared to be array([[ 5.],[ 3.],[-2.]])\n",
    "print(f'the solution X is X = {solution}\\n')\n",
    "\n",
    "#3 Let's verify the solution was the correct one\n",
    "#if we multiply A.X we should find the initial Y vector\n",
    "check = A @ solution\n",
    "check  # The check gives back the initial Y vector Y = array([[ 6.], [-4.],[27.]])\n",
    "print(f'if we multiply A.X we should find the initial Y vector = {check}\\n')\n",
    "\n",
    "\n",
    "print(' \\\\\\ The solution is correctly found // ')"
   ]
  },
  {
   "cell_type": "markdown",
   "metadata": {},
   "source": [
    "## Exercise 3: Linear Algebra\n",
    "\n",
    "Write each of the following systems of equations as a matrix and solve them using the numpy function from the lecture/pre-lecture.\n",
    "\n",
    "HINT:\n",
    "\n",
    "To solve the system for `a`, `b`, and `c`:\n",
    "\n",
    "$$\\begin{bmatrix} 2 & 1 & 2 \\\\ 1 & 5 & 3 \\\\ 4 & 1 & 2 \\end{bmatrix} \\begin{bmatrix} a \\\\ b \\\\ c \\end{bmatrix} = \\begin {bmatrix} 20\\\\ 38\\\\ 26 \\end{bmatrix} $$\n",
    "\n",
    "```\n",
    "Matrix = np.array([[2,1,2], [1,5,3], [4,1,2]])\n",
    "Solutions = np.array([20, 38, 26])\n",
    "x = np.linalg.solve(Matrix, Solutions)\n",
    "x\n",
    "```"
   ]
  },
  {
   "cell_type": "markdown",
   "metadata": {},
   "source": [
    "### Exercise 3.1\n",
    "\n",
    "$$3x + 2y + z = 7$$\n",
    "$$4x + 5y + 2z = 14$$\n",
    "$$2x + 4y + 3z = 10$$\n"
   ]
  },
  {
   "cell_type": "code",
   "execution_count": 123,
   "metadata": {},
   "outputs": [
    {
     "data": {
      "text/plain": [
       "array([1., 2., 0.])"
      ]
     },
     "execution_count": 123,
     "metadata": {},
     "output_type": "execute_result"
    }
   ],
   "source": [
    "# exercise 3.1\n",
    "Matrix = np.array([[3,2,1], [4,5,2], [2,4,3]])\n",
    "Solutions = np.array([7, 14, 10])\n",
    "x = np.linalg.solve(Matrix, Solutions)\n",
    "x"
   ]
  },
  {
   "cell_type": "markdown",
   "metadata": {},
   "source": [
    "### Exercise 3.2\n",
    "\n",
    "$$3a + 3b + c = 16$$\n",
    "$$2a + b + 3c = 11$$\n",
    "$$4a + 2b + 5c = 21$$"
   ]
  },
  {
   "cell_type": "code",
   "execution_count": 124,
   "metadata": {},
   "outputs": [
    {
     "data": {
      "text/plain": [
       "array([3., 2., 1.])"
      ]
     },
     "execution_count": 124,
     "metadata": {},
     "output_type": "execute_result"
    }
   ],
   "source": [
    "# exercise 3.2\n",
    "Matrix = np.array([[3,3,1], [2,1,3], [4,2,5]])\n",
    "Solutions = np.array([16, 11, 21])\n",
    "x = np.linalg.solve(Matrix, Solutions)\n",
    "x\n"
   ]
  },
  {
   "cell_type": "markdown",
   "metadata": {},
   "source": [
    "### Exercise 3.3\n",
    "\n",
    "$$4i + 2j + k = 0$$\n",
    "$$5i + j + 3k = 2$$\n",
    "$$3i + 3j + 4k = 8$$"
   ]
  },
  {
   "cell_type": "code",
   "execution_count": 125,
   "metadata": {},
   "outputs": [
    {
     "data": {
      "text/plain": [
       "array([-0.16666667, -0.36666667,  1.4       ])"
      ]
     },
     "execution_count": 125,
     "metadata": {},
     "output_type": "execute_result"
    }
   ],
   "source": [
    "# exercise 3.3\n",
    "Matrix = np.array([[4,2,1], [5,1,3], [3,3,4]])\n",
    "Solutions = np.array([0, 3, 4])\n",
    "x = np.linalg.solve(Matrix, Solutions)\n",
    "x"
   ]
  },
  {
   "cell_type": "markdown",
   "metadata": {},
   "source": [
    "## Exercise 4: Is it Prime?\n",
    "\n",
    "A [prime number](https://en.wikipedia.org/wiki/Prime_number) is a number that can only be divided by 1 and by itself. \n",
    "\n",
    "Write a function that takes in a positive integer and returns `True` if it's prime and `False` otherwise.\n",
    "\n",
    "```\n",
    "check_prime(5) -> True\n",
    "check_prime(13) -> True\n",
    "check_prime(9) -> False\n",
    "check_prime(15) -> False\n",
    "```"
   ]
  },
  {
   "cell_type": "code",
   "execution_count": 172,
   "metadata": {},
   "outputs": [
    {
     "name": "stdout",
     "output_type": "stream",
     "text": [
      " 5 prime ->True\n",
      " 13 prime ->True\n",
      " 9 prime ->False\n",
      " 15 prime ->False\n"
     ]
    }
   ],
   "source": [
    "# exercise 4\n",
    "def check_prime(val):\n",
    "    prime = True\n",
    "    #any number is divisible by 1 and itself, so we only check within [2,val]\n",
    "    #Beyonf val, if divided by a higher number, the results will not be integer, so not divisible\n",
    "    \n",
    "    vector = np.array(np.arange(2, val, 1))\n",
    "    # y = a.x\n",
    "    # x = y/a\n",
    "    for a in vector:\n",
    "        if val%a==0:\n",
    "            prime=False\n",
    "            break\n",
    "    \n",
    "    return prime\n",
    "\n",
    "\n",
    "#TEST\n",
    "print( ' 5 prime ->' + str(check_prime(5)) )\n",
    "print( ' 13 prime ->' + str(check_prime(13)) )\n",
    "print( ' 9 prime ->' + str(check_prime(9)) )\n",
    "print( ' 15 prime ->' + str(check_prime(15)) )\n",
    "\n",
    "\n"
   ]
  },
  {
   "cell_type": "code",
   "execution_count": null,
   "metadata": {},
   "outputs": [],
   "source": []
  }
 ],
 "metadata": {
  "kernelspec": {
   "display_name": "Python 3 (ipykernel)",
   "language": "python",
   "name": "python3"
  },
  "language_info": {
   "codemirror_mode": {
    "name": "ipython",
    "version": 3
   },
   "file_extension": ".py",
   "mimetype": "text/x-python",
   "name": "python",
   "nbconvert_exporter": "python",
   "pygments_lexer": "ipython3",
   "version": "3.9.13"
  },
  "metadata": {
   "interpreter": {
    "hash": "63fd5069d213b44bf678585dea6b12cceca9941eaf7f819626cde1f2670de90d"
   }
  }
 },
 "nbformat": 4,
 "nbformat_minor": 4
}
