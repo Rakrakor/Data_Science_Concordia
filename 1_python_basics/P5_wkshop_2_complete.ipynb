{
 "cells": [
  {
   "cell_type": "markdown",
   "metadata": {},
   "source": [
    "## Exercise 1: Line of Best Fit\n",
    "\n",
    "In school, you probably worked with scatterplots and drew lines of best fit on the data that didn't deviate too far from the scatterpoints. By doing it this way, we would minimize the **Error** of the line of best fit.\n",
    "\n",
    "It is important to choose the model that will generate the least errors when fitted to your data. This will ensure far more reliable outputs. \n",
    "\n",
    "![image.png](../assets/ex6-line-best-fit.png)\n",
    "\n",
    "There are many error functions to choose from when it comes to modelling data. In this exercise , we will look at *Ordinary Least Squares*. As you can see in the picture, the vertical distance from the line of best fit to our data point is called the error. If we square the errors and take an average of the errors, we have obtained the **Mean Square Error (MSE)** for the model.\n",
    "\n",
    "For example, given\n",
    "\n",
    "- a line of best fit with $\\hat y = mx_i$.\n",
    "- data points $(-2,5)$, $(0,0)$, $(3,-6)$.\n",
    "\n",
    " We can compute the MSE:\n",
    "\n",
    " $$ MSE = \\frac{1}{n}\\sum_{i=1}^n (y_i - \\hat y)^2$$\n",
    "\n",
    "where $n$ is the number of data points, $y_i$ is the $y$ coordinate of the data point and $hat y$ is the output the line of best fit predicts for that specific $x$ coordinate.\n",
    "\n",
    "$$ MSE = \\frac{1}{n}\\sum_{i=1}^n (y_i - mx_i)^2$$\n",
    "\n",
    "Let's plug our data points into the error function for the model.\n",
    "\n",
    "$$ MSE = \\frac {1}{3}[(5-(-2)m)^2 + (0-(0)m)^2 + (-6-3m)^2]$$"
   ]
  },
  {
   "cell_type": "markdown",
   "metadata": {},
   "source": [
    "### Exercise 1.1\n",
    "\n",
    "Use code to figure out which value of $m$ will minimize our error function. By hand, try to expand the equation for the MSE that we found above and clean it up. Then write it as a function in the cell below.\n",
    "\n",
    "Remember to format it as:\n",
    "\n",
    "```\n",
    "def f(x):\n",
    "    return...\n",
    "```\n",
    "\n",
    "When defining your function, use `x` instead of $m$."
   ]
  },
  {
   "cell_type": "code",
   "execution_count": 56,
   "metadata": {},
   "outputs": [
    {
     "name": "stdout",
     "output_type": "stream",
     "text": [
      "no solution in R: f(x) is never 0.\n",
      "\n",
      " The value of x for when f(x) is at its minimum is around: -2.1442885771543088\n",
      "f'(x) = 0.08287566437559235\n"
     ]
    }
   ],
   "source": [
    "# exercise 1.1\n",
    "import numpy as np\n",
    "\n",
    "#1- let's try to find x for Y=0\n",
    "\n",
    "def find_Solution_With_Discriminant(y):\n",
    "    #2nd degree Polynome  a^2.x + b.x + c = 0\n",
    "    #2nd degree polynom is: (13/3)x^2 + (56/3)x + 61/3 = 0\n",
    "    a=13/3\n",
    "    b=56/3\n",
    "    c=61/3\n",
    "    # Δ=b**2 - 4ac\n",
    "    #if Δ < 0 : No solution in R\n",
    "    #if Δ = 0 : 1 solution x = −b/2a. \n",
    "    #if Δ > 0 : 2 solutions\n",
    "    #x1 =( −b + √Δ ) / 2a et x2 =( −b − √Δ ) / 2a.\n",
    "    delta  = (b)**2 - 4*(a)*(c)\n",
    "    if delta < 0:\n",
    "        print('no solution in R: f(x) is never 0.')\n",
    "        x1,x2 = None, None\n",
    "    if delta == 0:\n",
    "        x1, x2 = -(b)/(2*a)\n",
    "    if delta > 0:\n",
    "        x1 = (-(b)+math.sqrt(delta))/(2*(a))\n",
    "        x2 = (-(b)-math.sqrt(delta))/(2*(a))\n",
    "    return x1,x2\n",
    "                         \n",
    "find_Solution_With_Discriminant(0)  # => RETURNS:  no solution in R. Y is never 0\n",
    "\n",
    "\n",
    "\n",
    "#2- Let's try to find x, when Y is at its minimum. It means the derivative f'(x)~0. \n",
    "#Here a value of x was found for 0<f'(x)<0.09\n",
    "\n",
    "def f(x):\n",
    "    return (13/3)*x**2 + (56/3)*x + 61/3\n",
    "\n",
    "def fprime(x):\n",
    "    h = 1e-5\n",
    "    return (f(x+h) - f(x))/h \n",
    "\n",
    "xRange = np.linspace(-10,0,500)\n",
    "#print(xRange)\n",
    "for i in range(len(fprime(xRange))):\n",
    "    if 0 < abs(fprime(xRange)[i]) and abs(fprime(xRange)[i]) < 0.09:\n",
    "        print(f\"\\n The value of x for when f(x) is at its minimum is around: {xRange[i]}\")\n",
    "        print(f'f\\'(x) = {fprime(xRange)[i]}')\n",
    "\n",
    "\n",
    "\n"
   ]
  },
  {
   "cell_type": "markdown",
   "metadata": {},
   "source": [
    "### Exercise 1.2\n",
    "\n",
    "1. Use the `linspace` function to create 29 points between -28 and 10 and save the result as `W`.\n",
    "2. After that, divide every element in W by 13 and save this new result as `W`."
   ]
  },
  {
   "cell_type": "code",
   "execution_count": 21,
   "metadata": {},
   "outputs": [
    {
     "data": {
      "text/plain": [
       "array([-2.15384615, -2.04945055, -1.94505495, -1.84065934, -1.73626374,\n",
       "       -1.63186813, -1.52747253, -1.42307692, -1.31868132, -1.21428571,\n",
       "       -1.10989011, -1.00549451, -0.9010989 , -0.7967033 , -0.69230769,\n",
       "       -0.58791209, -0.48351648, -0.37912088, -0.27472527, -0.17032967,\n",
       "       -0.06593407,  0.03846154,  0.14285714,  0.24725275,  0.35164835,\n",
       "        0.45604396,  0.56043956,  0.66483516,  0.76923077])"
      ]
     },
     "execution_count": 21,
     "metadata": {},
     "output_type": "execute_result"
    }
   ],
   "source": [
    "# exercise 1.2\n",
    "W = np.linspace(-28,10,29)\n",
    "W = W/13\n",
    "W"
   ]
  },
  {
   "cell_type": "markdown",
   "metadata": {},
   "source": [
    "### Exercise 1.3\n",
    "\n",
    "Run $f(W)$ and $fprime(W)$ in the cell below and determine the value in `W` that makes the `fprime = 0` (or very close to it!).\n",
    "\n",
    "Use the loop that you wrote in the previous exercise. That value should give us the value of $m$ that makes it so our line of best fit has the smallest error.\n",
    "\n",
    "NOTE: Make the print statement in your loop as \"The value of m that gives the smallest error is...\""
   ]
  },
  {
   "cell_type": "code",
   "execution_count": 22,
   "metadata": {},
   "outputs": [
    {
     "name": "stdout",
     "output_type": "stream",
     "text": [
      "\n",
      "The value of x is: -2.1538461538461537\n",
      "4.333315928306546e-05\n",
      "Note: The upper limit is tested with : 0.0001 accuracy\n"
     ]
    }
   ],
   "source": [
    "# exercise 1.3\n",
    "\n",
    "def f(x):\n",
    "    return (13/3)*x**2 + (56/3)*x + 61/3\n",
    "\n",
    "def fprime(x):\n",
    "    h = 1e-5\n",
    "    return (f(x+h) - f(x))/h \n",
    "\n",
    "\n",
    "MinumumSolutionsList = []\n",
    "upperLimit=0 #Let's try to find the closest value next to Zero. The UpperLimit starts from Zero and increase by 0.0001 if no solution is found where fPrime is 0\n",
    "while (len(MinumumSolutionsList)==0):\n",
    "    for i in range(len(fprime(W))):\n",
    "        if 0 < abs(fprime(W)[i]) and abs(fprime(W)[i]) < upperLimit:\n",
    "            print(f\"\\nThe value of x is: {W[i]}\")\n",
    "            print(fprime(W)[i])\n",
    "            MinumumSolutionsList.append(W[i])\n",
    "            print(f'Note: The upper limit is tested with : {upperLimit} accuracy')\n",
    "            \n",
    "    upperLimit+=0.0001\n",
    "\n",
    "\n",
    "\n",
    "\n",
    "\n"
   ]
  },
  {
   "cell_type": "markdown",
   "metadata": {},
   "source": [
    "## Exercise 2: Multivariate Calculus + Linear Algebra\n",
    "\n",
    "Up to now, we've looked at functions with respect to one variable, but what if we have more than one variable in our function and we want to take a derivative?\n",
    "\n",
    "Going back to our Error function exercise from the line of best fit, what if I wanted to fit the line:\n",
    "\n",
    "$$\\hat y = mx_i + b$$\n",
    "to the points (-3,7), (-2,5) and (-1,3).\n",
    "\n",
    "This would give a Mean Square Error function as:\n",
    "\n",
    "$$ f(m,b) = \\frac{1}{n}\\sum_{i=1}^n (y_i - mx_i - b)^2$$\n",
    "$$f(m,b) = \\frac {1}{3}[(7+3m-b)^2 + (5+2m-b)^2 + (3+m-b)^2]$$\n",
    "\n",
    "and say we wanted to find values of $m$ and $b$ that minimized this function. In this case, we'd apply a **partial derivative**. In other words, a derivative with respect to one of the variables holding the other constant. If we take derivatives of the above function with respect to $m$ and $b$, we get:\n",
    "\n",
    "$$\\frac{\\partial f(m,b)}{\\partial m} = \\frac{2}{3}[(7+3m-b)(3) + (5+2m-b)(2) + (3+m-b)] $$\n",
    "\n",
    "$$\\frac{\\partial f(m,b)}{\\partial b} = \\frac{2}{3}[(7+3m-b)(-1) + (5+2m-b)(-1) + (3+m-b)(-1)] $$\n",
    "\n",
    "> To better understand how we obtained these derivatives by hand, watch [this video](https://youtu.be/TgIl15Nlg_U) for a more detailed explanation.\n",
    "\n",
    "Let's clean up the above equations:\n",
    "\n",
    "$$\\frac{\\partial f(m,b)}{\\partial m} = \\frac{2}{3}[34 + 14m - 6b] $$\n",
    "\n",
    "$$\\frac{\\partial f(m,b)}{\\partial b} = \\frac{2}{3}[-15 -6m + 3b] $$\n",
    "\n",
    "Equating the partial derivatives to 0 since we want to obtain a minimum and multiplying both sides by $\\frac{3}{2}$ we get a familiar system of equations:\n",
    "\n",
    "$$34 + 14m - 6b = 0$$\n",
    "\n",
    "$$-15-6m+3b = 0$$\n",
    "\n",
    "Converting to matrix form, we get:\n",
    "\n",
    "$$\\begin{bmatrix} 34 & 14 & -6 \\\\ -15 & -6 & 3 \\end{bmatrix} \\begin{bmatrix} 1 \\\\ m \\\\ b \\end{bmatrix} = \\begin {bmatrix} 0\\\\ 0\\end{bmatrix} $$\n",
    "\n",
    "From here, we can use our standard matrix operations to solve for values of $m$ and $b$.\n",
    "\n",
    "We can rewrite the above equation as:\n",
    "\n",
    "$$\\begin{bmatrix} 14 & -6 \\\\ -6 & 3 \\end{bmatrix} \\begin{bmatrix} m \\\\ b \\end{bmatrix} = \\begin {bmatrix} -34\\\\ 15\\end{bmatrix} $$\n",
    "\n",
    "**EXTRA** Try to workout by hand how I was able to make the conversion between the two matrices. \n",
    "\n",
    "Use the cell below to write code that will solve the above matrix for the values of $m$ and $b$ that minimize our error."
   ]
  },
  {
   "cell_type": "code",
   "execution_count": 19,
   "metadata": {},
   "outputs": [
    {
     "name": "stdout",
     "output_type": "stream",
     "text": [
      "The determinant is 6.0000000000000036 > 0\n",
      "the solution is m=-2.0 and b=1.0 \n"
     ]
    }
   ],
   "source": [
    "# exercise 2\n",
    "from scipy import linalg\n",
    "Matrix = np.array([[14,-6],[-6,3]])\n",
    "#let's check the determinant:\n",
    "print(f'The determinant is {linalg.det(Matrix)} > 0')\n",
    "\n",
    "Solutions = np.array([-34,15])\n",
    "m,b = np.linalg.solve(Matrix, Solutions)\n",
    "print(f'the solution is m={m} and b={b} ')\n",
    "\n"
   ]
  },
  {
   "cell_type": "code",
   "execution_count": null,
   "metadata": {},
   "outputs": [],
   "source": [
    "# exercise 2 EXTRA\n",
    "1- if we calulate the result of the multiplication by anticipation (without knowing m or b)\n",
    "with the known parameters 1 of the Matrix of Unknown i.e |1|,\n",
    "it gives The final mutliplication result is as follow:\n",
    "\n",
    "            | 1 |        \n",
    "            | m |\n",
    "            | b |\n",
    "|34 14 -6| *      = | 34*1 + 14m -6b |\n",
    "|-15 -6 3|          |-15*1 - 6m  +3b |\n",
    "\n",
    "2- But we want the result of these 2 first degree polynomes to be equal to 0:\n",
    "\n",
    "| 34*1 + 14m -6b | = |0|\n",
    "|-15*1 - 6m  +3b | = |0|\n",
    "     \n",
    "3- so we can pass the known values on the right side of the equal sign\n",
    "\n",
    "| 14m -6b | = |- 34|\n",
    "|- 6m +3b | = |+ 15|\n",
    "\n",
    "4- The system becomes:\n",
    "                  \n",
    "          | m |\n",
    "          | b |\n",
    "|14 -6| *      = |-34|\n",
    "|-6  3|          | 15|\n"
   ]
  },
  {
   "cell_type": "markdown",
   "metadata": {},
   "source": [
    "_Using this method, we can fit more complicated models that have more than one parameter to our data for better results!_"
   ]
  }
 ],
 "metadata": {
  "kernelspec": {
   "display_name": "Python 3 (ipykernel)",
   "language": "python",
   "name": "python3"
  },
  "language_info": {
   "codemirror_mode": {
    "name": "ipython",
    "version": 3
   },
   "file_extension": ".py",
   "mimetype": "text/x-python",
   "name": "python",
   "nbconvert_exporter": "python",
   "pygments_lexer": "ipython3",
   "version": "3.9.13"
  }
 },
 "nbformat": 4,
 "nbformat_minor": 4
}
