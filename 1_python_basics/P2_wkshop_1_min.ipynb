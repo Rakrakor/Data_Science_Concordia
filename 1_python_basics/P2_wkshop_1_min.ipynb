{
 "cells": [
  {
   "cell_type": "markdown",
   "metadata": {},
   "source": [
    "# Fundamentals: Python Function\n",
    "\n",
    "## Warmup: adder function\n",
    "\n",
    "Create a function that takes two numbers as arguments and return their sum.\n",
    "\n",
    "### Examples\n",
    "\n",
    "- `addition(3, 2) ➞ 5`\n",
    "- `addition(-3, -6) ➞ -9`\n",
    "- `addition(7, 3) ➞ 10`"
   ]
  },
  {
   "cell_type": "code",
   "execution_count": 5,
   "metadata": {},
   "outputs": [
    {
     "name": "stdout",
     "output_type": "stream",
     "text": [
      "3\n"
     ]
    }
   ],
   "source": [
    "# write your function here\n",
    "\n",
    "def f(a,b):\n",
    "    localList = [a,b]\n",
    "    return sum(localList)\n",
    "\n",
    "print(f(1,2))"
   ]
  },
  {
   "cell_type": "code",
   "execution_count": 7,
   "metadata": {},
   "outputs": [
    {
     "name": "stdout",
     "output_type": "stream",
     "text": [
      "[4, 6, 8, 10, 12, 14, 16, 18, 20, 22, 24, 26, 28, 30, 32, 34, 36, 38, 40, 42, 44, 46, 48, 50, 52, 54, 56, 58, 60, 62, 64, 66, 68, 70, 72, 74, 76, 78, 80, 82, 84, 86, 88, 90, 92, 94, 96, 98, 100, 102, 104, 106, 108, 110, 112, 114, 116, 118, 120, 122, 124, 126, 128, 130, 132, 134, 136, 138, 140, 142, 144, 146, 148, 150, 152, 154, 156, 158, 160, 162, 164, 166, 168, 170, 172, 174, 176, 178, 180, 182, 184, 186, 188, 190, 192, 194, 196, 198, 200, 202, 204, 206, 208, 210, 212, 214, 216, 218, 220, 222, 224, 226, 228, 230, 232, 234, 236, 238, 240, 242, 244, 246, 248, 250, 252, 254, 256, 258, 260, 262, 264, 266, 268, 270, 272, 274, 276, 278, 280, 282, 284, 286, 288, 290, 292, 294, 296, 298, 300, 302, 304, 306, 308, 310, 312, 314, 316, 318, 320, 322, 324, 326, 328, 330, 332, 334, 336, 338, 340, 342, 344, 346, 348, 350, 352, 354, 356, 358, 360, 362, 364, 366, 368, 370, 372, 374, 376, 378, 380, 382, 384, 386, 388, 390, 392, 394, 396, 398, 400, 402, 404, 406, 408, 410, 412, 414, 416, 418, 420, 422, 424, 426, 428, 430, 432, 434, 436, 438, 440, 442, 444, 446, 448, 450, 452, 454, 456, 458, 460, 462, 464, 466, 468, 470, 472, 474, 476, 478, 480, 482, 484, 486, 488, 490, 492, 494, 496, 498, 500, 502, 504, 506, 508, 510, 512, 514, 516, 518, 520, 522, 524, 526, 528, 530, 532, 534, 536, 538, 540, 542, 544, 546, 548, 550, 552, 554, 556, 558, 560, 562, 564, 566, 568, 570, 572, 574, 576, 578, 580, 582, 584, 586, 588, 590, 592, 594, 596, 598, 600, 602, 604, 606, 608, 610, 612, 614, 616, 618, 620, 622, 624, 626, 628, 630, 632, 634, 636, 638, 640, 642, 644, 646, 648, 650, 652, 654, 656, 658, 660, 662, 664, 666, 668, 670, 672, 674, 676, 678, 680, 682, 684, 686, 688, 690, 692, 694, 696, 698, 700, 702, 704, 706, 708, 710, 712, 714, 716, 718, 720, 722, 724, 726, 728, 730, 732, 734, 736, 738, 740, 742, 744, 746, 748, 750, 752, 754, 756, 758, 760, 762, 764, 766, 768, 770, 772, 774, 776, 778, 780, 782, 784, 786, 788, 790, 792, 794, 796, 798, 800, 802, 804, 806, 808, 810, 812, 814, 816, 818, 820, 822, 824, 826, 828, 830, 832, 834, 836, 838, 840, 842, 844, 846, 848, 850, 852, 854, 856, 858, 860, 862, 864, 866, 868, 870, 872, 874, 876, 878, 880, 882, 884, 886, 888, 890, 892, 894, 896, 898, 900, 902, 904, 906, 908, 910, 912, 914, 916, 918, 920, 922, 924, 926, 928, 930, 932, 934, 936, 938, 940, 942, 944, 946, 948, 950, 952, 954, 956, 958, 960, 962, 964, 966, 968, 970, 972, 974, 976, 978, 980, 982, 984, 986, 988, 990, 992, 994, 996, 998, 1000, 1002, 1004, 1006, 1008, 1010, 1012, 1014, 1016, 1018, 1020, 1022, 1024, 1026, 1028, 1030, 1032, 1034, 1036, 1038, 1040, 1042, 1044, 1046, 1048, 1050, 1052, 1054, 1056, 1058, 1060, 1062, 1064, 1066, 1068, 1070, 1072, 1074, 1076, 1078, 1080, 1082, 1084, 1086, 1088, 1090, 1092, 1094, 1096, 1098, 1100, 1102, 1104, 1106, 1108, 1110, 1112, 1114, 1116, 1118, 1120, 1122, 1124, 1126, 1128, 1130, 1132, 1134, 1136, 1138, 1140, 1142, 1144, 1146, 1148, 1150, 1152, 1154, 1156, 1158, 1160, 1162, 1164, 1166, 1168, 1170, 1172, 1174, 1176, 1178, 1180, 1182, 1184, 1186, 1188, 1190, 1192, 1194, 1196, 1198, 1200, 1202, 1204, 1206, 1208, 1210, 1212, 1214, 1216, 1218, 1220, 1222, 1224, 1226, 1228, 1230, 1232, 1234, 1236, 1238, 1240, 1242, 1244, 1246, 1248, 1250, 1252, 1254, 1256, 1258, 1260, 1262, 1264, 1266, 1268, 1270, 1272, 1274, 1276, 1278, 1280, 1282, 1284, 1286, 1288, 1290, 1292, 1294, 1296, 1298, 1300, 1302, 1304, 1306, 1308, 1310, 1312, 1314, 1316, 1318, 1320, 1322, 1324, 1326, 1328, 1330, 1332, 1334, 1336, 1338, 1340, 1342, 1344, 1346, 1348, 1350, 1352, 1354, 1356, 1358, 1360, 1362, 1364, 1366, 1368, 1370, 1372, 1374, 1376, 1378, 1380, 1382, 1384, 1386, 1388, 1390, 1392, 1394, 1396, 1398, 1400, 1402, 1404, 1406, 1408, 1410, 1412, 1414, 1416, 1418, 1420, 1422, 1424, 1426, 1428, 1430, 1432, 1434, 1436, 1438, 1440, 1442, 1444, 1446, 1448, 1450, 1452, 1454, 1456, 1458, 1460, 1462, 1464, 1466, 1468, 1470, 1472, 1474, 1476, 1478, 1480, 1482, 1484, 1486, 1488, 1490, 1492, 1494, 1496, 1498, 1500, 1502, 1504, 1506, 1508, 1510, 1512, 1514, 1516, 1518, 1520, 1522, 1524, 1526, 1528, 1530, 1532, 1534, 1536, 1538, 1540, 1542, 1544, 1546, 1548, 1550, 1552, 1554, 1556, 1558, 1560, 1562, 1564, 1566, 1568, 1570, 1572, 1574, 1576, 1578, 1580, 1582, 1584, 1586, 1588, 1590, 1592, 1594, 1596, 1598, 1600, 1602, 1604, 1606, 1608, 1610, 1612, 1614, 1616, 1618, 1620, 1622, 1624, 1626, 1628, 1630, 1632, 1634, 1636, 1638, 1640, 1642, 1644, 1646, 1648, 1650, 1652, 1654, 1656, 1658, 1660, 1662, 1664, 1666, 1668, 1670, 1672, 1674, 1676, 1678, 1680, 1682, 1684, 1686, 1688, 1690, 1692, 1694, 1696, 1698, 1700, 1702, 1704, 1706, 1708, 1710, 1712, 1714, 1716, 1718, 1720, 1722, 1724, 1726, 1728, 1730, 1732, 1734, 1736, 1738, 1740, 1742, 1744, 1746, 1748, 1750, 1752, 1754, 1756, 1758, 1760, 1762, 1764, 1766, 1768, 1770, 1772, 1774, 1776, 1778, 1780, 1782, 1784, 1786, 1788, 1790, 1792, 1794, 1796, 1798, 1800, 1802, 1804, 1806, 1808, 1810, 1812, 1814, 1816, 1818, 1820, 1822, 1824, 1826, 1828, 1830, 1832, 1834, 1836, 1838, 1840, 1842, 1844, 1846, 1848, 1850, 1852, 1854, 1856, 1858, 1860, 1862, 1864, 1866, 1868, 1870, 1872, 1874, 1876, 1878, 1880, 1882, 1884, 1886, 1888, 1890, 1892, 1894, 1896, 1898, 1900, 1902, 1904, 1906, 1908, 1910, 1912, 1914, 1916, 1918, 1920, 1922, 1924, 1926, 1928, 1930, 1932, 1934, 1936, 1938, 1940, 1942, 1944, 1946, 1948, 1950, 1952, 1954, 1956, 1958, 1960, 1962, 1964, 1966, 1968, 1970, 1972, 1974, 1976, 1978, 1980, 1982, 1984, 1986, 1988, 1990, 1992, 1994, 1996, 1998, 2000, 2002, 2004, 2006, 2008, 2010, 2012, 2014, 2016, 2018, 2020, 2022, 2024, 2026, 2028, 2030, 2032, 2034, 2036, 2038, 2040, 2042, 2044, 2046, 2048, 2050, 2052, 2054, 2056, 2058, 2060, 2062, 2064, 2066, 2068, 2070, 2072, 2074, 2076, 2078, 2080, 2082, 2084, 2086, 2088, 2090, 2092, 2094, 2096, 2098, 2100, 2102, 2104, 2106, 2108, 2110, 2112, 2114, 2116, 2118, 2120, 2122, 2124, 2126, 2128, 2130, 2132, 2134, 2136, 2138, 2140, 2142, 2144, 2146, 2148, 2150, 2152, 2154, 2156, 2158, 2160, 2162, 2164, 2166, 2168, 2170, 2172, 2174, 2176, 2178, 2180, 2182, 2184, 2186, 2188, 2190, 2192, 2194, 2196, 2198, 2200, 2202, 2204, 2206, 2208, 2210, 2212, 2214, 2216, 2218, 2220, 2222, 2224, 2226, 2228, 2230, 2232, 2234, 2236, 2238, 2240, 2242, 2244, 2246, 2248, 2250, 2252, 2254, 2256, 2258, 2260, 2262, 2264, 2266, 2268, 2270, 2272, 2274, 2276, 2278, 2280, 2282, 2284, 2286, 2288, 2290, 2292, 2294, 2296, 2298, 2300, 2302, 2304, 2306, 2308, 2310, 2312, 2314, 2316, 2318, 2320, 2322, 2324, 2326, 2328, 2330, 2332, 2334, 2336, 2338, 2340, 2342, 2344, 2346, 2348, 2350, 2352, 2354, 2356, 2358, 2360, 2362, 2364, 2366, 2368, 2370, 2372, 2374, 2376, 2378, 2380, 2382, 2384, 2386, 2388, 2390, 2392, 2394, 2396, 2398, 2400, 2402, 2404, 2406, 2408, 2410, 2412, 2414, 2416, 2418, 2420, 2422, 2424, 2426, 2428, 2430, 2432, 2434, 2436, 2438, 2440, 2442, 2444, 2446, 2448, 2450, 2452, 2454, 2456, 2458, 2460, 2462, 2464, 2466, 2468, 2470, 2472, 2474, 2476, 2478, 2480, 2482, 2484, 2486, 2488, 2490, 2492, 2494, 2496, 2498, 2500, 2502, 2504, 2506, 2508, 2510, 2512, 2514, 2516, 2518, 2520, 2522, 2524, 2526, 2528, 2530, 2532, 2534, 2536, 2538, 2540, 2542, 2544, 2546, 2548, 2550, 2552, 2554, 2556, 2558, 2560, 2562, 2564, 2566, 2568, 2570, 2572, 2574, 2576, 2578, 2580, 2582, 2584, 2586, 2588, 2590, 2592, 2594, 2596, 2598, 2600, 2602, 2604, 2606, 2608, 2610, 2612, 2614, 2616, 2618, 2620, 2622, 2624, 2626, 2628, 2630, 2632, 2634, 2636, 2638, 2640, 2642, 2644, 2646, 2648, 2650, 2652, 2654, 2656, 2658, 2660, 2662, 2664, 2666, 2668, 2670, 2672, 2674, 2676, 2678, 2680, 2682, 2684, 2686, 2688, 2690, 2692, 2694, 2696, 2698, 2700, 2702, 2704, 2706, 2708, 2710, 2712, 2714, 2716, 2718, 2720, 2722, 2724, 2726, 2728, 2730, 2732, 2734, 2736, 2738, 2740, 2742, 2744, 2746, 2748, 2750, 2752, 2754, 2756, 2758, 2760, 2762, 2764, 2766, 2768, 2770, 2772, 2774, 2776, 2778, 2780, 2782, 2784, 2786, 2788, 2790, 2792, 2794, 2796, 2798, 2800, 2802, 2804, 2806, 2808, 2810, 2812, 2814, 2816, 2818, 2820, 2822, 2824, 2826, 2828, 2830, 2832, 2834, 2836, 2838, 2840, 2842, 2844, 2846, 2848, 2850, 2852, 2854, 2856, 2858, 2860, 2862, 2864, 2866, 2868, 2870, 2872, 2874, 2876, 2878, 2880, 2882, 2884, 2886, 2888, 2890, 2892, 2894, 2896, 2898, 2900, 2902, 2904, 2906, 2908, 2910, 2912, 2914, 2916, 2918, 2920, 2922, 2924, 2926, 2928, 2930, 2932, 2934, 2936, 2938, 2940, 2942, 2944, 2946, 2948, 2950, 2952, 2954, 2956, 2958, 2960, 2962, 2964, 2966, 2968, 2970, 2972, 2974, 2976, 2978, 2980, 2982, 2984, 2986, 2988, 2990, 2992, 2994, 2996, 2998, 3000, 3002, 3004, 3006, 3008, 3010, 3012, 3014, 3016, 3018, 3020, 3022, 3024, 3026, 3028, 3030, 3032, 3034, 3036, 3038, 3040, 3042, 3044, 3046, 3048]\n"
     ]
    }
   ],
   "source": [
    "# Warmup 2: even numbers\n",
    "# Generate a Python list of all the even numbers between 4 to 3048\n",
    "\n",
    "evenNumbGenList = [i for i in range(4, 3049) if i%2==0]\n",
    "print(evenNumbGenList)"
   ]
  },
  {
   "cell_type": "markdown",
   "metadata": {},
   "source": [
    "## Exercise 1: First and Last \n",
    "\n",
    "Creates a function that takes a string and returns the first and last character.\n",
    "### Examples\n",
    "\n",
    "```\n",
    "first_last(\"ganesh\") ➞ \"gh\"\n",
    "\n",
    "first_last(\"kali\") ➞ \"ki\"\n",
    "\n",
    "first_last(\"shiva\") ➞ \"sa\"\n",
    "\n",
    "first_last(\"vishnu\") ➞ \"vu\"\n",
    "\n",
    "first_last(\"durga\") ➞ \"da\"\n",
    "```"
   ]
  },
  {
   "cell_type": "code",
   "execution_count": 11,
   "metadata": {},
   "outputs": [
    {
     "name": "stdout",
     "output_type": "stream",
     "text": [
      "rr\n",
      "<class 'str'>\n"
     ]
    }
   ],
   "source": [
    "# exercise 1\n",
    "def firstLastStringChar(s):\n",
    "    first = s[0]\n",
    "    last = s[-1]\n",
    "    return first+last\n",
    "print(firstLastStringChar('roger'))\n",
    "\n"
   ]
  },
  {
   "cell_type": "markdown",
   "metadata": {},
   "source": [
    "## Exercise 2: Keys in Dict\n",
    "\n",
    "Write a function that returns `True` if a dictionary contains the specified key, and `False` otherwise.\n",
    "\n",
    "### Examples\n",
    "\n",
    "```\n",
    "has_key({ \"a\": 44, \"b\": 45, \"c\": 46 }, \"d\") ➞ False\n",
    "\n",
    "has_key({ \"craves\": True, \"midnight\": True, \"snack\": True }, \"morning\") ➞ False\n",
    "\n",
    "has_key({ \"pot\": 1, \"tot\": 2, \"not\": 3 }, \"not\") ➞ True\n",
    "```"
   ]
  },
  {
   "cell_type": "code",
   "execution_count": 26,
   "metadata": {},
   "outputs": [
    {
     "name": "stdout",
     "output_type": "stream",
     "text": [
      "False\n",
      "False\n",
      "True\n"
     ]
    }
   ],
   "source": [
    "# exercise 2\n",
    "def has_key(myDic, myKey):\n",
    "    ret = None\n",
    "    for k in myDic.keys():\n",
    "        if k == myKey:\n",
    "            ret = True\n",
    "            break\n",
    "    else:\n",
    "        ret = False\n",
    "    return ret\n",
    "\n",
    "dic1 = { \"a\": 44, \"b\": 45, \"c\": 46 }\n",
    "dic2 = { \"craves\": True, \"midnight\": True, \"snack\": True }\n",
    "dic3 = { \"pot\": 1, \"tot\": 2, \"not\": 3 }\n",
    "\n",
    "\n",
    "print(has_key(dic1, \"d\"))\n",
    "print(has_key(dic2, \"morning\"))\n",
    "print(has_key(dic3, \"not\"))"
   ]
  },
  {
   "cell_type": "markdown",
   "metadata": {},
   "source": [
    "## Exercise 3: Test Distinct\n",
    "\n",
    "Write a Python function that takes a sequence of numbers and determines whether all the numbers are different from each other.\n",
    "\n",
    "```\n",
    "test_distinct([2,3,4,5,7,8]) -> True\n",
    "test_distinct([2,3,4,5,8,8]) -> False\n",
    "```\n",
    "def test_distinct(myList):\n",
    "    ret = None\n",
    "    size_myList = len(myList)\n",
    "    rem_duplicates = len(set(myList))\n",
    "    if size_myList == rem_duplicates:\n",
    "        ret = \"Unique numbers only\"\n",
    "    else:\n",
    "        ret = \"Contains duplicates\"\n",
    "    return ret\n",
    "    \n",
    "test_distinct([2,3,4,5,7,8])\n",
    "test_distinct([2,3,4,5,8,8])"
   ]
  },
  {
   "cell_type": "code",
   "execution_count": 33,
   "metadata": {},
   "outputs": [
    {
     "data": {
      "text/plain": [
       "'Contains duplicates'"
      ]
     },
     "execution_count": 33,
     "metadata": {},
     "output_type": "execute_result"
    }
   ],
   "source": [
    "# exercise 3\n",
    "def test_distinct(myList): \n",
    "    ret = None \n",
    "    size_myList = len(myList) \n",
    "    size_rem_duplicates = len(set(myList)) \n",
    "    \n",
    "    if size_myList == size_rem_duplicates: \n",
    "        ret = \"Unique numbers only\" \n",
    "    else: \n",
    "        ret = \"Contains duplicates\" \n",
    "    return ret\n",
    "\n",
    "#test_distinct([2,3,4,5,7,8]) \n",
    "test_distinct([2,3,4,5,8,8])"
   ]
  },
  {
   "cell_type": "markdown",
   "metadata": {},
   "source": [
    "## Exercise 4: Spell Checker\n",
    "\n",
    "Create a function that takes in two lists: \n",
    "\n",
    "1. A sentence as a list of user-typed words\n",
    "\n",
    "2. The list of correctly-typed words\n",
    "\n",
    "and outputs a list containing 1s (correctly-typed words) and 0s (incorrectly-typed words).\n",
    "\n",
    "### Inputs:\n",
    "> User-typed: \\[\"cat\", \"blue\", \"skt\", \"umbrells\", \"paddy\"\\]\n",
    "\n",
    "> Correct: \\[\"cat\", \"blue\", \"sky\", \"umbrella\", \"paddy\"\\]\n",
    "\n",
    "### Output: \\[ 1, 1, 0, 0, 1 \\]\n",
    "\n",
    "### Examples\n",
    "\n",
    "```\n",
    "correct_stream(\n",
    "  [\"it\", \"is\", \"find\"],\n",
    "  [\"it\", \"is\", \"fine\"]\n",
    ") ➞ [1, 1, 0]\n",
    "\n",
    "correct_stream(\n",
    "  [\"april\", \"showrs\", \"bring\", \"may\", \"flowers\"],\n",
    "  [\"april\", \"showers\", \"bring\", \"may\", \"flowers\"]\n",
    ") ➞ [1, 0, 1, 1, 1]\n",
    "\n",
    "```"
   ]
  },
  {
   "cell_type": "code",
   "execution_count": 49,
   "metadata": {},
   "outputs": [
    {
     "data": {
      "text/plain": [
       "[1, 0, 1, 1, 1]"
      ]
     },
     "execution_count": 49,
     "metadata": {},
     "output_type": "execute_result"
    }
   ],
   "source": [
    "# exercise 4\n",
    "import numpy as np\n",
    "\n",
    "def spellChecker ( userList, correctList):\n",
    "    userList = np.array(userList)\n",
    "    correctList = np.array(correctList)\n",
    "    test = userList == correctList\n",
    "    ret = []\n",
    "    for i in range(0,len(test)):\n",
    "        if test[i] == True:\n",
    "            ret.append(1)\n",
    "        else:\n",
    "            ret.append(0)\n",
    "            \n",
    "    return ret\n",
    "\n",
    "#spellChecker([\"it\", \"is\", \"find\"],[\"it\", \"is\", \"fine\"])\n",
    "spellChecker([\"april\", \"showrs\", \"bring\", \"may\", \"flowers\"],[\"april\", \"showers\", \"bring\", \"may\", \"flowers\"])\n",
    "    "
   ]
  },
  {
   "cell_type": "markdown",
   "metadata": {},
   "source": [
    "## Exercise 5: FizzBuzz\n",
    "\n",
    "Fizzbuzz is a game for children and a drinking game for adults. It's also a classic programming interview question.\n",
    "\n",
    "Suppose we have a number n. We have to display a string representation of all numbers from 1 to n, but there are some constraints.\n",
    "\n",
    "    If the number is divisible by 3, write Fizz instead of the number\n",
    "    If the number is divisible by 5, write Buzz instead of the number\n",
    "    If the number is divisible by 3 and 5 both, write FizzBuzz instead of the number\n",
    "\n",
    "So the results are `1, 2, Fizz, 4, Buzz, ..., 14, Fizzbuzz, 16, 17, Fizz, 19, Buzz, ...`\n",
    "\n",
    "Write a python program that prints fizzbuzz for numbers 1 to 150"
   ]
  },
  {
   "cell_type": "code",
   "execution_count": 50,
   "metadata": {},
   "outputs": [
    {
     "name": "stdout",
     "output_type": "stream",
     "text": [
      "1\n",
      "2\n",
      "Fizz\n",
      "4\n",
      "Buzz\n",
      "Fizz\n",
      "7\n",
      "8\n",
      "Fizz\n",
      "Buzz\n",
      "11\n",
      "Fizz\n",
      "13\n",
      "14\n",
      "FizzBuzz\n",
      "16\n",
      "17\n",
      "Fizz\n",
      "19\n",
      "Buzz\n",
      "Fizz\n",
      "22\n",
      "23\n",
      "Fizz\n",
      "Buzz\n",
      "26\n",
      "Fizz\n",
      "28\n",
      "29\n",
      "FizzBuzz\n",
      "31\n",
      "32\n",
      "Fizz\n",
      "34\n",
      "Buzz\n",
      "Fizz\n",
      "37\n",
      "38\n",
      "Fizz\n",
      "Buzz\n",
      "41\n",
      "Fizz\n",
      "43\n",
      "44\n",
      "FizzBuzz\n",
      "46\n",
      "47\n",
      "Fizz\n",
      "49\n",
      "Buzz\n",
      "Fizz\n",
      "52\n",
      "53\n",
      "Fizz\n",
      "Buzz\n",
      "56\n",
      "Fizz\n",
      "58\n",
      "59\n",
      "FizzBuzz\n",
      "61\n",
      "62\n",
      "Fizz\n",
      "64\n",
      "Buzz\n",
      "Fizz\n",
      "67\n",
      "68\n",
      "Fizz\n",
      "Buzz\n",
      "71\n",
      "Fizz\n",
      "73\n",
      "74\n",
      "FizzBuzz\n",
      "76\n",
      "77\n",
      "Fizz\n",
      "79\n",
      "Buzz\n",
      "Fizz\n",
      "82\n",
      "83\n",
      "Fizz\n",
      "Buzz\n",
      "86\n",
      "Fizz\n",
      "88\n",
      "89\n",
      "FizzBuzz\n",
      "91\n",
      "92\n",
      "Fizz\n",
      "94\n",
      "Buzz\n",
      "Fizz\n",
      "97\n",
      "98\n",
      "Fizz\n",
      "Buzz\n",
      "101\n",
      "Fizz\n",
      "103\n",
      "104\n",
      "FizzBuzz\n",
      "106\n",
      "107\n",
      "Fizz\n",
      "109\n",
      "Buzz\n",
      "Fizz\n",
      "112\n",
      "113\n",
      "Fizz\n",
      "Buzz\n",
      "116\n",
      "Fizz\n",
      "118\n",
      "119\n",
      "FizzBuzz\n",
      "121\n",
      "122\n",
      "Fizz\n",
      "124\n",
      "Buzz\n",
      "Fizz\n",
      "127\n",
      "128\n",
      "Fizz\n",
      "Buzz\n",
      "131\n",
      "Fizz\n",
      "133\n",
      "134\n",
      "FizzBuzz\n",
      "136\n",
      "137\n",
      "Fizz\n",
      "139\n",
      "Buzz\n",
      "Fizz\n",
      "142\n",
      "143\n",
      "Fizz\n",
      "Buzz\n",
      "146\n",
      "Fizz\n",
      "148\n",
      "149\n",
      "FizzBuzz\n"
     ]
    }
   ],
   "source": [
    "# exercise 5\n",
    "for i in range(1, 151):\n",
    "    ret = i\n",
    "    if i%3==0 and i%5==0:\n",
    "        ret='FizzBuzz'\n",
    "    elif i%3==0:\n",
    "        ret='Fizz'\n",
    "    elif i%5==0:\n",
    "        ret='Buzz'\n",
    "    else:\n",
    "        ret=i\n",
    "        \n",
    "    print(ret)\n"
   ]
  },
  {
   "cell_type": "markdown",
   "metadata": {},
   "source": [
    "## Exercise 6: Palindrome?\n",
    "\n",
    "A palindrome is a word which reads the same backward as forwards. Write a function that returns True if a string is a palindrome:\n",
    "\n",
    "    “laval” ⇒ Yes\n",
    "    “montreal” ⇒ No"
   ]
  },
  {
   "cell_type": "code",
   "execution_count": 76,
   "metadata": {},
   "outputs": [
    {
     "name": "stdout",
     "output_type": "stream",
     "text": [
      "No\n"
     ]
    }
   ],
   "source": [
    "# exercise 6\n",
    "import numpy as np\n",
    "\n",
    "#created a Function to reverse a string\n",
    "def revertString(myString):\n",
    "    ret=[myString[i] for i in range(len(myString)-1,-1,-1)]\n",
    "    return ret\n",
    "\n",
    "#myString = 'laval'\n",
    "myString = 'montreal'\n",
    "\n",
    "np_original = np.array(list(myString))\n",
    "np_reverted = np.array(list(revertString(myString)))\n",
    "#test will contain a numpy list containing True or False whenever the 2 characters at a specific index are equal\n",
    "test = np_original == np_reverted\n",
    "\n",
    "# we want to print Yes or No rather than a list of True or False\n",
    "if False in test:\n",
    "    ret = 'No'\n",
    "else:\n",
    "    ret = 'Yes'\n",
    "print(ret)\n",
    "\n",
    "   \n",
    "    "
   ]
  },
  {
   "cell_type": "markdown",
   "metadata": {},
   "source": [
    "## Exercise 7: Counting Country IDs\n",
    "\n",
    "We have a list of user IDS with identifiers of form \"userid-COUNTRYID\". Calculate how many countries we have.\n",
    "\n",
    "Ex:\n",
    "\n",
    "`[gyhwefy7832ryyg-US, iu7ytf87gyuwef-CA, 98yfyg82t3r-US]` -> `{'US': 2, 'CA': 1}`\n",
    "\n",
    "```\n",
    "[gyhwefy7832ryyg-US, iu7ytf87gyuwef-CA, 98yfyg82t3r-US,\n",
    "    iuhsdf897y3righsfe-US, iushdf98h23ryg-IT, GHsg1s54sda8-CA, iuhdf9h32ryu9gf-IT,\n",
    "    IUufgh98y34-FR, 98yfdiuhdfbviuh8-UK, 45asdjJHHghsdas-CA\n",
    "] -> {'US': 3, 'CA': 3, \"IT\": 2, 'UK':1, 'FR':1}\n",
    "```"
   ]
  },
  {
   "cell_type": "code",
   "execution_count": 112,
   "metadata": {},
   "outputs": [
    {
     "name": "stdout",
     "output_type": "stream",
     "text": [
      "{'US': 3, 'CA': 3, 'IT': 2, 'FR': 1, 'UK': 1}\n"
     ]
    }
   ],
   "source": [
    "# exercise 7\n",
    "\n",
    "def buildListOfCountries(myList):\n",
    "    listOfCountries=[]\n",
    "    \n",
    "    for elt in myList:\n",
    "        \n",
    "        #1-find the hyphen in an element\n",
    "        hyphPosition = elt.index('-')\n",
    "        #2-read the country ID by slicing\n",
    "        countryID = elt[hyphPosition+1:]\n",
    "        #3-add the country to the local list\n",
    "        listOfCountries.append(countryID)\n",
    "    return listOfCountries\n",
    "\n",
    "\n",
    "def addUpCountry(listCountries):\n",
    "    dic={}\n",
    "    for country in listCountries:\n",
    "        if country in dic.keys():\n",
    "            dic[country]+=1\n",
    "        else:\n",
    "            dic.update({country:1})\n",
    "    return dic\n",
    "\n",
    "\n",
    "#useridCOUNTRYID = ['gyhwefy7832ryyg-US', 'iu7ytf87gyuwef-CA', '98yfyg82t3r-US']\n",
    "useridCOUNTRYID = ['gyhwefy7832ryyg-US', 'iu7ytf87gyuwef-CA', '98yfyg82t3r-US','iuhsdf897y3righsfe-US', 'iushdf98h23ryg-IT', 'GHsg1s54sda8-CA', 'iuhdf9h32ryu9gf-IT', 'IUufgh98y34-FR', '98yfdiuhdfbviuh8-UK', '45asdjJHHghsdas-CA']\n",
    "\n",
    "listCountries = buildListOfCountries(useridCOUNTRYID)\n",
    "print(addUpCountry(listCountries))\n",
    "\n",
    "\n"
   ]
  },
  {
   "cell_type": "markdown",
   "metadata": {},
   "source": [
    "## Exercise 8: Docstrings\n",
    "\n",
    "Write the completed docstrings for each function covered in the \"Big O Notation Examples\" Section from lecture.\n",
    "\n",
    "Docstring format is as follows:\n",
    "\n",
    "```\n",
    "\"\"\"[Summary]\n",
    "\n",
    ":param [ParamName]: [ParamDescription], defaults to [DefaultParamVal]\n",
    ":type [ParamName]: [ParamType](, optional)\n",
    "...\n",
    ":raises [ErrorType]: [ErrorDescription]\n",
    "...\n",
    ":return: [ReturnDescription]\n",
    ":rtype: [ReturnType]\n",
    "\"\"\"\n",
    "```"
   ]
  },
  {
   "cell_type": "code",
   "execution_count": 107,
   "metadata": {},
   "outputs": [
    {
     "ename": "TypeError",
     "evalue": "multiply() missing 1 required positional argument: 'val_2'",
     "output_type": "error",
     "traceback": [
      "\u001b[0;31m---------------------------------------------------------------------------\u001b[0m",
      "\u001b[0;31mTypeError\u001b[0m                                 Traceback (most recent call last)",
      "\u001b[0;32m/var/folders/v_/xxkztlq96zjg39p73r1dvnl00000gn/T/ipykernel_65741/3264684117.py\u001b[0m in \u001b[0;36m<module>\u001b[0;34m\u001b[0m\n\u001b[1;32m     16\u001b[0m \u001b[0;34m\u001b[0m\u001b[0m\n\u001b[1;32m     17\u001b[0m \u001b[0;31m#help(multiply)\u001b[0m\u001b[0;34m\u001b[0m\u001b[0;34m\u001b[0m\u001b[0m\n\u001b[0;32m---> 18\u001b[0;31m \u001b[0mmultiply\u001b[0m\u001b[0;34m(\u001b[0m\u001b[0;36m1\u001b[0m\u001b[0;34m)\u001b[0m\u001b[0;34m\u001b[0m\u001b[0;34m\u001b[0m\u001b[0m\n\u001b[0m",
      "\u001b[0;31mTypeError\u001b[0m: multiply() missing 1 required positional argument: 'val_2'"
     ]
    }
   ],
   "source": [
    "def multiply(val_1, val_2):\n",
    "    \"\"\"\n",
    "    [Summary]\n",
    "    :param [val_1]:[first value]\n",
    "    :type [val_1] : [float]\n",
    "    :param [val_2]:[second value]\n",
    "    :type [val_2] : [float]\n",
    "    ...\n",
    "    :raises [TypeError]:[wrong type for the attribute]\n",
    "    ... \n",
    "    :return: [the mathematical multiplication of val_1 by val_2]\n",
    "    :rtype: [float]\n",
    "    \n",
    "    \"\"\"\n",
    "    return val_1 * val_2\n",
    "\n",
    "help(multiply)\n",
    "\n"
   ]
  },
  {
   "cell_type": "code",
   "execution_count": 109,
   "metadata": {},
   "outputs": [
    {
     "data": {
      "text/plain": [
       "4.0"
      ]
     },
     "execution_count": 109,
     "metadata": {},
     "output_type": "execute_result"
    }
   ],
   "source": [
    "def power(val, exponent):\n",
    "    \"\"\"\n",
    "    [Summary]\n",
    "    :param [val]:[ value]\n",
    "    :type [val] : [float]\n",
    "    :param [exponent]:[exponent value]\n",
    "    :type [exponent] : [integer]\n",
    "    ...\n",
    "    :raises [TypeError]:[wrong type for the attribute]\n",
    "    ... \n",
    "    :return: [return the val raised to the power of exponent]\n",
    "    :rtype: [float]\n",
    "    \n",
    "    \"\"\"\n",
    "    \n",
    "    return val**exponent\n",
    "\n",
    "#help(power)\n"
   ]
  },
  {
   "cell_type": "code",
   "execution_count": 110,
   "metadata": {},
   "outputs": [
    {
     "name": "stdout",
     "output_type": "stream",
     "text": [
      "Help on function last_value_in_list in module __main__:\n",
      "\n",
      "last_value_in_list(lst)\n",
      "    [Summary]\n",
      "    :param [lst]:[ list parameter]\n",
      "    :type [lst] : [list type]\n",
      "    \n",
      "    ...\n",
      "    :raises [TypeError]:[wrong type for the attribute]\n",
      "    ... \n",
      "    :return: [return the value in the list]\n",
      "    :rtype: [type of the last element in the list]\n",
      "\n"
     ]
    }
   ],
   "source": [
    "def last_value_in_list(lst):\n",
    "    \"\"\"\n",
    "    [Summary]\n",
    "    :param [lst]:[ list parameter]\n",
    "    :type [lst] : [list type]\n",
    "    \n",
    "    ...\n",
    "    :raises [TypeError]:[wrong type for the attribute]\n",
    "    ... \n",
    "    :return: [return the value in the list]\n",
    "    :rtype: [type of the last element in the list]\n",
    "    \n",
    "    \"\"\"\n",
    "    \n",
    "    \n",
    "    return lst[-1]\n",
    "\n",
    "help(last_value_in_list)"
   ]
  },
  {
   "cell_type": "code",
   "execution_count": 111,
   "metadata": {},
   "outputs": [
    {
     "name": "stdout",
     "output_type": "stream",
     "text": [
      "Help on function reverse_vals in module __main__:\n",
      "\n",
      "reverse_vals(lst)\n",
      "    [Summary]\n",
      "    :param [lst]:[ list parameter]\n",
      "    :type [lst] : [list type]\n",
      "    \n",
      "    ...\n",
      "    :raises [TypeError]:[wrong type for the attribute]\n",
      "    ... \n",
      "    :return: [return the reversed list]\n",
      "    :rtype: [list type]\n",
      "\n"
     ]
    }
   ],
   "source": [
    "def reverse_vals(lst):\n",
    "    \"\"\"\n",
    "    [Summary]\n",
    "    :param [lst]:[ list parameter]\n",
    "    :type [lst] : [list type]\n",
    "    \n",
    "    ...\n",
    "    :raises [TypeError]:[wrong type for the attribute]\n",
    "    ... \n",
    "    :return: [return the reversed list]\n",
    "    :rtype: [list type]\n",
    "    \n",
    "    \"\"\"\n",
    "    \n",
    "    return lst[::-1]\n",
    "\n",
    "help(reverse_vals)"
   ]
  },
  {
   "cell_type": "code",
   "execution_count": null,
   "metadata": {},
   "outputs": [],
   "source": []
  }
 ],
 "metadata": {
  "file_extension": ".py",
  "kernelspec": {
   "display_name": "Python 3 (ipykernel)",
   "language": "python",
   "name": "python3"
  },
  "language_info": {
   "codemirror_mode": {
    "name": "ipython",
    "version": 3
   },
   "file_extension": ".py",
   "mimetype": "text/x-python",
   "name": "python",
   "nbconvert_exporter": "python",
   "pygments_lexer": "ipython3",
   "version": "3.9.13"
  },
  "metadata": {
   "interpreter": {
    "hash": "63fd5069d213b44bf678585dea6b12cceca9941eaf7f819626cde1f2670de90d"
   }
  },
  "mimetype": "text/x-python",
  "name": "python",
  "npconvert_exporter": "python",
  "pygments_lexer": "ipython3",
  "version": 3
 },
 "nbformat": 4,
 "nbformat_minor": 2
}
