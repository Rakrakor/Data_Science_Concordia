{
 "cells": [
  {
   "cell_type": "markdown",
   "metadata": {
    "id": "bgbjt8DR9QEx"
   },
   "source": [
    "## Interview Questions\n",
    "\n",
    "### Exercise 1: Reverse Words in a String\n",
    "\n",
    "Given a string, you need to reverse the order of characters in each word within a sentence while still preserving whitespace and initial word order.\n",
    "\n",
    "```\n",
    "Input: \"Let's take LeetCode contest\"\n",
    "Output: \"s'teL ekat edoCteeL tsetnoc\"\n",
    "```"
   ]
  },
  {
   "cell_type": "code",
   "execution_count": 7,
   "metadata": {
    "id": "7PJSUUlR8KyP"
   },
   "outputs": [
    {
     "data": {
      "text/plain": [
       "\"s'teL ekat edoCteeL tsetnoc\""
      ]
     },
     "execution_count": 7,
     "metadata": {},
     "output_type": "execute_result"
    }
   ],
   "source": [
    "# exercise 1\n",
    "initalString = \"Let's take LeetCode contest\"\n",
    "stringToList = initalString.split()\n",
    "for i in range(0,len(stringToList)):\n",
    "    stringToList[i]=stringToList[i][::-1]\n",
    "    \n",
    "\" \".join(stringToList)\n",
    "    \n"
   ]
  },
  {
   "cell_type": "markdown",
   "metadata": {
    "id": "J6i-4ZjuDGZE"
   },
   "source": [
    "### Exercise 2: Length of Last Word\n",
    "\n",
    "Given a string s consists of some words separated by spaces, return the length of the last word in the string. If the last word does not exist, return 0.\n",
    "\n",
    "A word is a maximal substring consisting of non-space characters only.\n",
    "\n",
    "```\n",
    "Input: s = \"Hello World\"\n",
    "Output: 5\n",
    "```"
   ]
  },
  {
   "cell_type": "code",
   "execution_count": 22,
   "metadata": {
    "id": "Myybbgp9-rav"
   },
   "outputs": [
    {
     "name": "stdout",
     "output_type": "stream",
     "text": [
      "5\n"
     ]
    }
   ],
   "source": [
    "# exercise 2\n",
    "lenLastWorld = 0\n",
    "s = \"Hello World \"\n",
    "stringToList = s.split()\n",
    "if 0<len(stringToList):\n",
    "    lastWord =stringToList[-1]\n",
    "    lenLastWorld =len(lastWord)\n",
    "\n",
    "print(lenLastWorld)\n",
    "\n",
    "\n"
   ]
  },
  {
   "cell_type": "markdown",
   "metadata": {
    "id": "MafgWwBzE7WF"
   },
   "source": [
    "### Exercise 3: Plus One\n",
    "\n",
    "Given a non-empty array of decimal digits representing a non-negative integer, increment one to the integer.\n",
    "\n",
    "The digits are stored such that the most significant digit is at the head of the list, and each element in the array contains a single digit.\n",
    "\n",
    "You may assume the integer does not contain any leading zero, except the number 0 itself.\n",
    "\n",
    "```\n",
    "Input: digits = [1,2,3]\n",
    "Output: [1,2,4]\n",
    "Explanation: The array represents the integer 123.\n",
    "\n",
    "Input: digits = [4,3,2,1]\n",
    "Output: [4,3,2,2]\n",
    "Explanation: The array represents the integer 4321.\n",
    "\n",
    "Input: digits = [0]\n",
    "Output: [1]\n",
    "```"
   ]
  },
  {
   "cell_type": "code",
   "execution_count": 1,
   "metadata": {
    "id": "4DukVkvyG-n5"
   },
   "outputs": [
    {
     "name": "stdout",
     "output_type": "stream",
     "text": [
      "[4, 3, 2, 2]\n"
     ]
    }
   ],
   "source": [
    "# exercise 3\n",
    "\n",
    "def checkAndShift(digits):\n",
    "    carry = 0\n",
    "\n",
    "    #processing each digit carry\n",
    "    for i in range(len(digits)-1,-1,-1):\n",
    "        \n",
    "        #if any carry is already present we add it to the current number\n",
    "        digits[i]+= carry\n",
    "        carry = 0 #the carry is reset\n",
    "\n",
    "        # if the current number is >9, it is set to 0, and the carry is set to 1\n",
    "        #The carry will be passed to the next digit via the for loop next increment\n",
    "        if digits[i]>9:\n",
    "            digits[i]=0\n",
    "            carry = 1\n",
    "\n",
    "    #After the excution of the FOR loop, if the carry is still at 1, we add a new MostSignificant Digit\n",
    "    if carry!=0:\n",
    "        digits.insert(0,1)\n",
    "    return digits\n",
    "            \n",
    "\n",
    "\n",
    "#Tests Cases: Remove # to test different inputs\n",
    "#digits = [9, 9, 9]\n",
    "#digits = [1,2,3]\n",
    "digits = [4,3,2,1]\n",
    "#digits = [0]\n",
    "\n",
    "\n",
    "\n",
    "#Algorithm:\n",
    "#1st condition: when the array is empty we must fill it with a 1 value\n",
    "#2nd condition: when the array is not empty, we must add 1 to the LeastSignificant Digit.\n",
    "#Then we must check the max is 9. See checkAndShift() function above\n",
    "#If the sum > 9,\n",
    "#then we must stored 0 at the current index \n",
    "#keep the carry in memory \n",
    "#add the carry to the next digit\n",
    "#and so on\n",
    "\n",
    "\n",
    "if len(digits)==0:\n",
    "   digits.append(1) \n",
    "else:\n",
    "    digits[-1]+=1\n",
    "    checkAndShift(digits)\n",
    "        \n",
    "print(digits)\n",
    "\n",
    "    \n"
   ]
  },
  {
   "cell_type": "markdown",
   "metadata": {
    "id": "8qpJp_3-GEod"
   },
   "source": [
    "\n",
    "### Exercise 4: Capitalize!\n",
    "\n",
    "You are asked to ensure that the first and last names of people begin with a capital letter in their passports. For example, alison heck should be capitalised correctly as Alison Heck.\n",
    "\n",
    "Given a full name, your task is to capitalize the name appropriately.\n",
    "\n",
    "Input Format\n",
    "\n",
    "A single line of input containing the full name, .\n",
    "\n",
    "Constraints\n",
    "\n",
    "The string consists of alphanumeric characters and spaces.\n",
    "Note: in a word only the first character is capitalized. Example 12abc when capitalized remains 12abc.\n",
    "\n",
    "Output Format\n",
    "\n",
    "Print the capitalized string\n",
    "\n",
    "```\n",
    "Sample Input\n",
    "chris alan\n",
    "\n",
    "Sample Output\n",
    "Chris Alan\n",
    "```"
   ]
  },
  {
   "cell_type": "code",
   "execution_count": 80,
   "metadata": {
    "id": "3NnBoV4sK_gE"
   },
   "outputs": [
    {
     "data": {
      "text/plain": [
       "'Chris Alan'"
      ]
     },
     "execution_count": 80,
     "metadata": {},
     "output_type": "execute_result"
    }
   ],
   "source": [
    "# exercise 4\n",
    "\n",
    "s = 'chris alan'\n",
    "capitalizedName = s.title()\n",
    "capitalizedName"
   ]
  },
  {
   "cell_type": "markdown",
   "metadata": {
    "id": "jgRi472DNQ9O"
   },
   "source": [
    "### Exercise 5: sWAP cASE\n",
    "\n",
    "You are given a string and your task is to swap cases. In other words, convert all lowercase letters to uppercase letters and vice versa.\n",
    "\n",
    "```\n",
    "Www.HackerRank.com → wWW.hACKERrANK.COM\n",
    "Pythonist 2 → pYTHONIST 2\n",
    "```"
   ]
  },
  {
   "cell_type": "code",
   "execution_count": 79,
   "metadata": {
    "id": "I_DfipGOL1RV"
   },
   "outputs": [
    {
     "data": {
      "text/plain": [
       "'wWW.hACKERrANK.COM'"
      ]
     },
     "execution_count": 79,
     "metadata": {},
     "output_type": "execute_result"
    }
   ],
   "source": [
    "# exercise 5\n",
    "\n",
    "s = 'Www.HackerRank.com'\n",
    "#s = 'Pythonist 2'\n",
    "\n",
    "swappedString = s.swapcase()\n",
    "swappedString"
   ]
  },
  {
   "cell_type": "markdown",
   "metadata": {},
   "source": [
    "### Exercise 6: Basic Calculator\n",
    "\n",
    "Given a string `s` which represents an expression, evaluate this expression and return its value. \n",
    "\n",
    "The integer division should truncate toward zero.\n",
    "\n",
    "```\n",
    "Input: s = \"3+2*2\"\n",
    "Output: 7\n",
    "```\n",
    "\n",
    "```\n",
    "Input: s = \" 3/2 \"\n",
    "Output: 1\n",
    "```"
   ]
  },
  {
   "cell_type": "code",
   "execution_count": 143,
   "metadata": {},
   "outputs": [
    {
     "name": "stdout",
     "output_type": "stream",
     "text": [
      "priority : * \n",
      "LeftDigit:2, RightDigit:2\n",
      "operation: *\n",
      "Intermediate result: 4\n",
      "priority : / \n",
      "LeftDigit:4, RightDigit:2\n",
      "operation: /\n",
      "Intermediate result: 2\n",
      "['3', '+', 2]\n",
      "priority : + \n",
      "LeftDigit:3, RightDigit:2\n",
      "operation: +\n",
      "Intermediate result: 5\n",
      "RESULT: [5]\n"
     ]
    }
   ],
   "source": [
    "# exercise 6\n",
    "\n",
    "def operation(left,oper,right):\n",
    "    left = int(left)\n",
    "    right = int(right)\n",
    "    print(f'LeftDigit:{left}, RightDigit:{right}')\n",
    "    #print(f'TypeLeft:{type(left)}, TypeRight:{type(right)}')\n",
    "    \n",
    "    if oper=='+':\n",
    "        print('operation: +')\n",
    "        print(f'Intermediate result: {left + right}')\n",
    "        return left + right\n",
    "    if oper=='-':\n",
    "        print('operation: -')\n",
    "        print(f'Intermediate result: {left - right}')\n",
    "        return left - right\n",
    "\n",
    "    if oper=='*':\n",
    "        print('operation: *')\n",
    "        print(f'Intermediate result: {left * right}')\n",
    "        return left * right\n",
    "\n",
    "    if oper=='/':\n",
    "        print('operation: /')\n",
    "        print(f'Intermediate result: {left // right}')\n",
    "        return left // right\n",
    "\n",
    "\n",
    "    \n",
    "\n",
    "#INPUT TESTS\n",
    "s = \"3+2*2/2\"\n",
    "#s = \" 3/2 \"\n",
    "\n",
    "#Algorithm:\n",
    "#1- the input string is striped left and right from any leading and trailing empty cell list\n",
    "#2- While the cells in the input list are not shrank to 1, we keep scanning for the priority operations: while loop\n",
    "#3- the priority operator, its left operand, its right operand are passed as paramaters to the calculation function operation()\n",
    "#4- the intermediate result of the operation is stored instead of the cell list containing the operator\n",
    "#5- the left and right operands cell are removed\n",
    "\n",
    "#1\n",
    "stripLeadingSpaces = s.strip()\n",
    "stringToList = list(stripLeadingSpaces)\n",
    "\n",
    "\n",
    "#2 scan for the priority operations\n",
    "while len(stringToList)!=1:\n",
    "    \n",
    "    if '*' in stringToList:\n",
    "        print('priority : * ')\n",
    "        #3\n",
    "        result = operation ( stringToList[stringToList.index('*')-1],'*',stringToList[stringToList.index('*')+1])\n",
    "        #5\n",
    "        stringToList[stringToList.index('*')-1]=' ' #empty this cell\n",
    "        stringToList[stringToList.index('*')+1]=' ' #empty this cell\n",
    "        #4\n",
    "        stringToList[stringToList.index('*')]=result   #store the operation result here\n",
    "        #5\n",
    "        stringToList = [x for x in stringToList if x!=' '] #remove empty cells\n",
    "\n",
    "    elif '/' in stringToList:\n",
    "        print('priority : / ')\n",
    "        result = operation ( stringToList[stringToList.index('/')-1],'/',stringToList[stringToList.index('/')+1])\n",
    "        stringToList[stringToList.index('/')-1]=' ' #empty this cell\n",
    "        stringToList[stringToList.index('/')+1]=' ' #empty this cell\n",
    "        stringToList[stringToList.index('/')]= result #store the operation result here\n",
    "        stringToList = [x for x in stringToList if x!=' '] #remove empty cells\n",
    "        print(stringToList)\n",
    "        \n",
    "    elif '+' in stringToList:\n",
    "        print('priority : + ')\n",
    "        result = operation ( stringToList[stringToList.index('+')-1],'+',stringToList[stringToList.index('+')+1])\n",
    "        stringToList[stringToList.index('+')-1]=' ' #empty this cell\n",
    "        stringToList[stringToList.index('+')+1]=' ' #empty this cell\n",
    "        stringToList[stringToList.index('+')]=result #store the operation result here\n",
    "        \n",
    "        stringToList = [x for x in stringToList if x!=' '] #remove empty cells\n",
    "    else:\n",
    "        print('priority : - ')\n",
    "        result = operation ( (stringToList.index('-')-1),'-',(stringToList.index('-')+1))\n",
    "        stringToList[stringToList.index('-')-1]=' ' #empty this cell\n",
    "        stringToList[stringToList.index('-')+1]=' ' #empty this cell\n",
    "        stringToList[stringToList.index('-')]=result #store the operation result here\n",
    "        \n",
    "        stringToList = [x for x in stringToList if x!=' '] #remove empty cells\n",
    "\n",
    "        \n",
    "print(f'RESULT: {stringToList}')\n",
    "\n",
    "\n",
    "\n",
    "\n",
    "    \n",
    "\n",
    "    \n",
    "\n",
    "\n",
    "\n"
   ]
  },
  {
   "cell_type": "code",
   "execution_count": null,
   "metadata": {},
   "outputs": [],
   "source": []
  }
 ],
 "metadata": {
  "colab": {
   "collapsed_sections": [],
   "name": "Workshop_Intro_to_Numpy_Pandas.ipynb",
   "provenance": [
    {
     "file_id": "17rm0JUpeerGmU9Qlp4w7JsmyCfhtD-ce",
     "timestamp": 1613133385584
    },
    {
     "file_id": "1sQqzpgtaK8AVoTqc88cyI2MMfrMuF4rl",
     "timestamp": 1613109971015
    }
   ],
   "toc_visible": true
  },
  "kernelspec": {
   "display_name": "Python 3 (ipykernel)",
   "language": "python",
   "name": "python3"
  },
  "language_info": {
   "codemirror_mode": {
    "name": "ipython",
    "version": 3
   },
   "file_extension": ".py",
   "mimetype": "text/x-python",
   "name": "python",
   "nbconvert_exporter": "python",
   "pygments_lexer": "ipython3",
   "version": "3.9.13"
  },
  "metadata": {
   "interpreter": {
    "hash": "63fd5069d213b44bf678585dea6b12cceca9941eaf7f819626cde1f2670de90d"
   }
  }
 },
 "nbformat": 4,
 "nbformat_minor": 1
}
