{
 "cells": [
  {
   "cell_type": "markdown",
   "metadata": {
    "id": "UXL9hpom_zZ_"
   },
   "source": [
    "# Fundamentals: Python Intro\n",
    "\n",
    "## Warm Up\n",
    "\n",
    "In the cell below, import numpy and name it 'np' and create a list with the python data types that you learned about in the pre-lecture. Name the list \"types\".\n",
    "Ex.\n",
    "\n",
    "```\n",
    "import ... as ...\n",
    "types = [...]\n",
    "```"
   ]
  },
  {
   "cell_type": "code",
   "execution_count": 138,
   "metadata": {},
   "outputs": [],
   "source": [
    "# import numpy and create the list here\n",
    "import numpy as np\n",
    "\n",
    "#the list contains a Boolean, a Integer, a float, a String\n",
    "types = [False,2, 3.5678,'Hello world']\n",
    "\n"
   ]
  },
  {
   "cell_type": "code",
   "execution_count": 139,
   "metadata": {
    "id": "r7yDtDnwARh_"
   },
   "outputs": [
    {
     "data": {
      "text/plain": [
       "[3.5678, 'Hello world']"
      ]
     },
     "execution_count": 139,
     "metadata": {},
     "output_type": "execute_result"
    }
   ],
   "source": [
    "# Warmup 1: Call the first element in types and slice the last 2 elements. Print both results.\n",
    "#Call 1st elements\n",
    "types[0]\n",
    "#Slice 2 last elements of the types list\n",
    "types[-2:]"
   ]
  },
  {
   "cell_type": "code",
   "execution_count": 140,
   "metadata": {
    "id": "966SjVwbDEq0"
   },
   "outputs": [
    {
     "data": {
      "text/plain": [
       "0.5"
      ]
     },
     "execution_count": 140,
     "metadata": {},
     "output_type": "execute_result"
    }
   ],
   "source": [
    "# Warmup 2: Divide by 4, the second element in \"types\". \n",
    "\n",
    "types[1]/4\n",
    "\n",
    "\n",
    "\n"
   ]
  },
  {
   "cell_type": "markdown",
   "metadata": {
    "id": "rVDgBSgQ9QZz"
   },
   "source": [
    "In this text cell, explain why or why not the code was able to execute. (Your explanation does _not_ need to be very detailed.)"
   ]
  },
  {
   "cell_type": "markdown",
   "metadata": {
    "id": "TJ1OKy5fDVd1"
   },
   "source": [
    "## Exercise 1: Creating Data Containers\n",
    "\n",
    "Create a list, a set, a tuple and an array. \n",
    "\n",
    "- The list (in order) should have\n",
    "  - any 2 numbers as integers\n",
    "  - any 2 numbers as floating point numbers\n",
    "  - 2 of your favourite music artists as strings\n",
    "  - 6 elements total. Name this list **'First'** and print it. \n",
    "- The Set (in order) should have\n",
    "  - 1 even number less than 20\n",
    "  - 3 of the first letters of the alphabet as strings in seperate entries.\n",
    "  - 4 elements total. Name this set **'Second'** and print it.\n",
    "- The Tuple (in order) should have\n",
    "  - 6 negative numbers.\n",
    "  - 6 elements total. Name this Tuple **'Third'** and print it.\n",
    "- The array (in order) should have\n",
    "  - the same 6 elements as the tuple but these numbers should be positive.\n",
    "  - 6 elements total. Name this array **'Fourth'** and print it."
   ]
  },
  {
   "cell_type": "code",
   "execution_count": 141,
   "metadata": {
    "id": "rhW-sun-HwFI"
   },
   "outputs": [
    {
     "name": "stdout",
     "output_type": "stream",
     "text": [
      "[10, 50, 1.2457, 6.0978675, 'Ray Charles', 'Roger Troutman']\n"
     ]
    }
   ],
   "source": [
    "# The list\n",
    "First = [10,50,1.2457,6.0978675,'Ray Charles', 'Roger Troutman']\n",
    "print(First)\n"
   ]
  },
  {
   "cell_type": "code",
   "execution_count": 142,
   "metadata": {
    "id": "1yKK4z0rHwSA"
   },
   "outputs": [
    {
     "name": "stdout",
     "output_type": "stream",
     "text": [
      "{8, 'a', 'c', 'e'}\n"
     ]
    }
   ],
   "source": [
    "# The set\n",
    "Second = {8,'a','c','e'}\n",
    "print(Second)\n"
   ]
  },
  {
   "cell_type": "code",
   "execution_count": 143,
   "metadata": {},
   "outputs": [
    {
     "name": "stdout",
     "output_type": "stream",
     "text": [
      "(-16, -15, -14, -13, -12, -11)\n"
     ]
    }
   ],
   "source": [
    "# The tuple\n",
    "Third = -16,-15,-14,-13,-12,-11\n",
    "print(Third)\n"
   ]
  },
  {
   "cell_type": "code",
   "execution_count": 144,
   "metadata": {},
   "outputs": [
    {
     "name": "stdout",
     "output_type": "stream",
     "text": [
      "[16, 15, 14, 13, 12, 11]\n"
     ]
    }
   ],
   "source": [
    "# The array\n",
    "Fourth = [16,15,14,13,12,11]\n",
    "print(Fourth)\n"
   ]
  },
  {
   "cell_type": "code",
   "execution_count": 145,
   "metadata": {
    "id": "PmeI6k0DLIPD"
   },
   "outputs": [
    {
     "name": "stdout",
     "output_type": "stream",
     "text": [
      "10\n"
     ]
    }
   ],
   "source": [
    "# Add the second element of 'First', and the last elements of 'Third' and 'Fourth'. Print the result.\n",
    "result = First[0]+Third[-1]+Fourth[-1]\n",
    "print(result)"
   ]
  },
  {
   "cell_type": "code",
   "execution_count": null,
   "metadata": {},
   "outputs": [],
   "source": []
  },
  {
   "cell_type": "code",
   "execution_count": 146,
   "metadata": {
    "id": "Iw6KZ_oxLvJK"
   },
   "outputs": [
    {
     "data": {
      "text/plain": [
       "[10, 50, 1.2457, 6.0978675, 'Ray Charles', 'Roger Troutman', [13, 12, 11]]"
      ]
     },
     "execution_count": 146,
     "metadata": {},
     "output_type": "execute_result"
    }
   ],
   "source": [
    "# Slice the last 3 elements of 'Fourth' and append them to the list 'First'. Print the result.\n",
    "First.append(Fourth[-3:])\n",
    "First"
   ]
  },
  {
   "cell_type": "markdown",
   "metadata": {
    "id": "RX55PeiwNNz7"
   },
   "source": [
    "## Exercise 2: A Dictionary\n",
    "\n",
    "Create a dictionary with the following keys, 'Name', 'Year', 'Music' and 'Food'. The values associated with each key (in order) should be your name, the current year, you favourite genre of music and one of your favourite foods. Name the dictionary 'Me' and print it. "
   ]
  },
  {
   "cell_type": "code",
   "execution_count": 147,
   "metadata": {
    "id": "TLD8x4OaPhNI"
   },
   "outputs": [
    {
     "name": "stdout",
     "output_type": "stream",
     "text": [
      "{'Name': 'Samuel', 'Year': 2023, 'Music': 'Funk', 'Food': 'Pizza'}\n"
     ]
    }
   ],
   "source": [
    "# your dictionary here\n",
    "Me = {'Name':'Samuel', 'Year':2023,'Music':'Funk','Food':'Pizza'}\n",
    "print(Me)"
   ]
  },
  {
   "cell_type": "code",
   "execution_count": 148,
   "metadata": {
    "id": "So_1ge7KPhkP"
   },
   "outputs": [
    {
     "name": "stdout",
     "output_type": "stream",
     "text": [
      "{'Name': 'Samuel', 'Year': 2023, 'Music': 'Funk', 'Food': 'Pasta'}\n"
     ]
    }
   ],
   "source": [
    "# Replace the value associated with 'Food' to another one of your favourite foods. Print the updated dictionary.\n",
    "Me['Food']='Pasta'\n",
    "print(Me)"
   ]
  },
  {
   "cell_type": "markdown",
   "metadata": {
    "id": "PHorHCyjC3F9"
   },
   "source": [
    "## Exercise 3: An \"original\" List\n",
    "\n",
    "- Create a list with entries 1, 3, 2, 1, 5, 3, 5, 1, 4 and name it 'original'.\n",
    "- Create another list called 'unique' that only contains unique numbers from original.\n",
    "\n",
    "Example:\n",
    "\n",
    "```\n",
    "Input\n",
    "[1, 2, 3, 1]\n",
    "\n",
    "Output\n",
    "[1, 2, 3]\n",
    "```\n",
    "**Hint:** Think about the properties of a set from lecture.\n"
   ]
  },
  {
   "cell_type": "code",
   "execution_count": 149,
   "metadata": {
    "id": "cPWYXHe1C1hX"
   },
   "outputs": [],
   "source": [
    "# List 1\n",
    "\n",
    "original = [1,3,2,1,5,3,5,1,4]\n",
    "\n",
    "\n",
    "\n"
   ]
  },
  {
   "cell_type": "code",
   "execution_count": 150,
   "metadata": {},
   "outputs": [
    {
     "name": "stdout",
     "output_type": "stream",
     "text": [
      "[1, 2, 3, 4, 5]\n"
     ]
    }
   ],
   "source": [
    "# List 2\n",
    "original = set(original)\n",
    "unique = list(original)\n",
    "print(unique)\n"
   ]
  },
  {
   "cell_type": "markdown",
   "metadata": {
    "id": "_cVTBnphH84j"
   },
   "source": [
    "## Exercise 4: Do the Math!\n",
    "\n",
    "Call the last element of the array \"Fourth\" that you created above. Raise this element to the second power and add it to the second element of the list \"First\"."
   ]
  },
  {
   "cell_type": "code",
   "execution_count": 151,
   "metadata": {
    "id": "Ik8NnTQ9VSeD"
   },
   "outputs": [
    {
     "data": {
      "text/plain": [
       "[10, 171, 1.2457, 6.0978675, 'Ray Charles', 'Roger Troutman', [13, 12, 11]]"
      ]
     },
     "execution_count": 151,
     "metadata": {},
     "output_type": "execute_result"
    }
   ],
   "source": [
    "# do the math here...\n",
    "lastEltFourth = Fourth[-1]\n",
    "Square = lastEltFourth**2\n",
    "First[1]+=Square\n",
    "#it show the 2nd element is 171\n",
    "First"
   ]
  },
  {
   "cell_type": "code",
   "execution_count": 152,
   "metadata": {
    "id": "4HOSQvJDVTEE"
   },
   "outputs": [
    {
     "data": {
      "text/plain": [
       "[10, 135, 1.2457, 6.0978675, 'Ray Charles', 'Roger Troutman', [13, 12, 11]]"
      ]
     },
     "execution_count": 152,
     "metadata": {},
     "output_type": "execute_result"
    }
   ],
   "source": [
    "# Add the last three elements of \"Third\". \n",
    "\n",
    "\n",
    "First[1]+=sum(Third[-3:])\n",
    "#sum(Third[-3:]) will return the sum of the last 3 items form Third -36\n",
    "#then we add 36 to the 2nd value of First\n",
    "# -36 + 171 = 135\n",
    "First\n",
    "\n",
    "\n"
   ]
  },
  {
   "cell_type": "markdown",
   "metadata": {
    "id": "lXS3i_GRVmk5"
   },
   "source": [
    "## Exercise 5: Conversion\n",
    "\n",
    "- Convert the tuple, \"Third\" to an array.\n",
    "- Double all the elements in \"Third\"\n",
    "- Add the elements in this array to the elements in \"Fourth\".\n",
    "\n",
    "To do this, use only 1 arithmetic statement. Store this result as \"Fifth\" and print it.\n",
    "\n",
    "**Hint** Answer should look like this. \n",
    "\n",
    "```\n",
    "Fifth = 2*___(____) + _____\n",
    "print (Fifth)\n",
    "```"
   ]
  },
  {
   "cell_type": "code",
   "execution_count": 153,
   "metadata": {
    "id": "5T35jbY3YL04"
   },
   "outputs": [
    {
     "data": {
      "text/plain": [
       "array([0, 0, 0, 0, 0, 0])"
      ]
     },
     "execution_count": 153,
     "metadata": {},
     "output_type": "execute_result"
    }
   ],
   "source": [
    "# conversion here\n",
    "Third = np.array(Third)\n",
    "#return [-16 -15 -14 -13 -12 -11]\n",
    "#now we double each item\n",
    "Third*2\n",
    "#then we add the element of the array into Fourth\n",
    "Fifth = Fourth + Third\n",
    "Fifth\n",
    "\n",
    "#it return a list of 6 value equal to 0\n",
    "\n"
   ]
  },
  {
   "cell_type": "markdown",
   "metadata": {
    "id": "afaH5uSsJFeD"
   },
   "source": [
    "## Exercise 6: Conditionals\n",
    "\n",
    "Convert \"Fifth\" to a tuple and use a print statement to see if Fifth is equal to \"Third\"."
   ]
  },
  {
   "cell_type": "code",
   "execution_count": 154,
   "metadata": {
    "id": "x_9YDynWaAUz"
   },
   "outputs": [
    {
     "name": "stdout",
     "output_type": "stream",
     "text": [
      "[False False False False False False]\n"
     ]
    }
   ],
   "source": [
    "# conditionals here\n",
    "print(Fifth == Third)"
   ]
  },
  {
   "cell_type": "code",
   "execution_count": null,
   "metadata": {},
   "outputs": [],
   "source": []
  }
 ],
 "metadata": {
  "colab": {
   "collapsed_sections": [],
   "name": "Workshop_Data_Types.ipynb",
   "provenance": []
  },
  "kernelspec": {
   "display_name": "Python 3",
   "language": "python",
   "name": "python3"
  },
  "language_info": {
   "codemirror_mode": {
    "name": "ipython",
    "version": 3
   },
   "file_extension": ".py",
   "mimetype": "text/x-python",
   "name": "python",
   "nbconvert_exporter": "python",
   "pygments_lexer": "ipython3",
   "version": "3.9.0"
  },
  "metadata": {
   "interpreter": {
    "hash": "b8bdd4e700647ba2b08c59e5df8b7da1dcf50a218bcd4c1bcd9b3dc92e8788e5"
   }
  },
  "vscode": {
   "interpreter": {
    "hash": "397704579725e15f5c7cb49fe5f0341eb7531c82d19f2c29d197e8b64ab5776b"
   }
  }
 },
 "nbformat": 4,
 "nbformat_minor": 1
}
