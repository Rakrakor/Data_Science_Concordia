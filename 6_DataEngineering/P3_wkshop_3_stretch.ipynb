{
 "cells": [
  {
   "cell_type": "markdown",
   "metadata": {
    "id": "N_IJzUFfBrP8"
   },
   "source": [
    "## Exercise 4: IMDB scraping\n",
    "\n",
    "IMDB has structured web pages. We can exploit this to scrape movie data.\n",
    "\n",
    "Using the following URL:\n",
    "\n",
    "`https://www.imdb.com/search/title/?groups=top_1000&start={PAGE_NUMBER}&ref_=adv_nxt`\n",
    "\n",
    "With the following headers in your `GET` request: `{\"Accept-Language\": \"en-US,en;q=0.5\"}`\n",
    "\n",
    "You can generate a dataframe like this one by cycling over the page numbers in the URL requested:\n",
    "\n",
    "![](../assets/IMDB.png)\n",
    "\n",
    "Note that the following  page attributes will be of interest:\n",
    "\n",
    "- `div` with a class of `lister-item mode-advanced`\n",
    "- Various `span` objects within that `div` like `lister-item-year` and `runtime` and `metascore`"
   ]
  },
  {
   "cell_type": "code",
   "execution_count": 1,
   "metadata": {
    "id": "Ay1t8VuTBrP9",
    "outputId": "79795a51-c13b-48f6-855c-ce14e2b110c5"
   },
   "outputs": [],
   "source": [
    "# exercise 4\n"
   ]
  },
  {
   "cell_type": "code",
   "execution_count": null,
   "metadata": {},
   "outputs": [],
   "source": []
  }
 ],
 "metadata": {
  "colab": {
   "name": "workshop.ipynb",
   "provenance": []
  },
  "file_extension": ".py",
  "kernelspec": {
   "display_name": "Python 3 (ipykernel)",
   "language": "python",
   "name": "python3"
  },
  "language_info": {
   "codemirror_mode": {
    "name": "ipython",
    "version": 3
   },
   "file_extension": ".py",
   "mimetype": "text/x-python",
   "name": "python",
   "nbconvert_exporter": "python",
   "pygments_lexer": "ipython3",
   "version": "3.8.12"
  },
  "mimetype": "text/x-python",
  "name": "python",
  "npconvert_exporter": "python",
  "pygments_lexer": "ipython3",
  "version": 3
 },
 "nbformat": 4,
 "nbformat_minor": 1
}
