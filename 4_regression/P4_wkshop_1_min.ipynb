{
 "cells": [
  {
   "cell_type": "markdown",
   "id": "d7fbb69d",
   "metadata": {},
   "source": [
    "# Regression - Classification\n",
    "\n",
    "## Exercise 1: Titanic, but correctly this time!\n",
    "\n",
    "Take your linear regression model from the previous workshop on the titanic dataset.\n",
    "\n",
    "Swap OLS for logistic regresssion and compare the classification model metrics (accuracy, ROC plot, F1, precision/recall).\n",
    "\n",
    "How much better is logistic regression than OLS on binary data?"
   ]
  },
  {
   "cell_type": "code",
   "execution_count": 2,
   "id": "a72150f2",
   "metadata": {},
   "outputs": [],
   "source": [
    "import matplotlib.pyplot as plt \n",
    "import numpy as np \n",
    "from statsmodels.formula.api import ols\n",
    "import pandas as pd\n",
    "from patsy import dmatrices\n",
    "import scipy.stats as sc\n",
    "from sklearn.preprocessing import PolynomialFeatures\n",
    "from sklearn.metrics import r2_score\n",
    "import seaborn as sns \n",
    "import statsmodels.api as sm\n",
    "\n",
    "from sklearn.linear_model import LinearRegression\n",
    "from sklearn.linear_model import LogisticRegression\n",
    "from sklearn.model_selection import train_test_split\n",
    "from sklearn import linear_model\n",
    "from sklearn import metrics\n",
    "from sklearn.pipeline import make_pipeline\n",
    "from sklearn.metrics import r2_score\n",
    "from sklearn.base import BaseEstimator, TransformerMixin\n",
    "from sklearn.metrics import classification_report\n",
    "from sklearn.metrics import confusion_matrix\n",
    "from sklearn.linear_model import Ridge\n",
    "\n",
    "import scipy.stats\n",
    "import scipy.special\n",
    "\n",
    "\n",
    "\n",
    "from sklearn.model_selection import train_test_split\n",
    "\n",
    "sns.set()"
   ]
  },
  {
   "cell_type": "code",
   "execution_count": 3,
   "id": "cd2bec5d",
   "metadata": {},
   "outputs": [],
   "source": [
    "# exercise 1"
   ]
  },
  {
   "cell_type": "code",
   "execution_count": 4,
   "id": "6f189d65",
   "metadata": {},
   "outputs": [
    {
     "name": "stdout",
     "output_type": "stream",
     "text": [
      "<class 'pandas.core.frame.DataFrame'>\n",
      "Int64Index: 714 entries, 0 to 890\n",
      "Data columns (total 15 columns):\n",
      " #   Column       Non-Null Count  Dtype   \n",
      "---  ------       --------------  -----   \n",
      " 0   survived     714 non-null    int64   \n",
      " 1   pclass       714 non-null    int64   \n",
      " 2   sex          714 non-null    object  \n",
      " 3   age          714 non-null    float64 \n",
      " 4   sibsp        714 non-null    int64   \n",
      " 5   parch        714 non-null    int64   \n",
      " 6   fare         714 non-null    float64 \n",
      " 7   embarked     712 non-null    object  \n",
      " 8   class        714 non-null    category\n",
      " 9   who          714 non-null    object  \n",
      " 10  adult_male   714 non-null    bool    \n",
      " 11  deck         184 non-null    category\n",
      " 12  embark_town  712 non-null    object  \n",
      " 13  alive        714 non-null    object  \n",
      " 14  alone        714 non-null    bool    \n",
      "dtypes: bool(2), category(2), float64(2), int64(4), object(5)\n",
      "memory usage: 70.2+ KB\n"
     ]
    }
   ],
   "source": [
    "df_titan = sns.load_dataset('titanic')\n",
    "df_titan.dropna()\n",
    "df_titan = df_titan[df_titan['age'].notnull()]\n",
    "df_titan.isnull().sum()\n",
    "df_titan.info()"
   ]
  },
  {
   "cell_type": "code",
   "execution_count": 5,
   "id": "1c2d48ce",
   "metadata": {},
   "outputs": [
    {
     "name": "stdout",
     "output_type": "stream",
     "text": [
      "<class 'pandas.core.frame.DataFrame'>\n",
      "Int64Index: 714 entries, 0 to 890\n",
      "Data columns (total 15 columns):\n",
      " #   Column       Non-Null Count  Dtype   \n",
      "---  ------       --------------  -----   \n",
      " 0   survived     714 non-null    bool    \n",
      " 1   pclass       714 non-null    int64   \n",
      " 2   sex          714 non-null    object  \n",
      " 3   age          714 non-null    float64 \n",
      " 4   sibsp        714 non-null    int64   \n",
      " 5   parch        714 non-null    int64   \n",
      " 6   fare         714 non-null    float64 \n",
      " 7   embarked     712 non-null    object  \n",
      " 8   class        714 non-null    category\n",
      " 9   who          714 non-null    object  \n",
      " 10  adult_male   714 non-null    bool    \n",
      " 11  deck         184 non-null    category\n",
      " 12  embark_town  712 non-null    object  \n",
      " 13  alive        714 non-null    object  \n",
      " 14  alone        714 non-null    bool    \n",
      "dtypes: bool(3), category(2), float64(2), int64(3), object(5)\n",
      "memory usage: 65.3+ KB\n"
     ]
    },
    {
     "name": "stderr",
     "output_type": "stream",
     "text": [
      "/var/folders/v_/xxkztlq96zjg39p73r1dvnl00000gn/T/ipykernel_18726/3387650245.py:1: DeprecationWarning: `np.bool` is a deprecated alias for the builtin `bool`. To silence this warning, use `bool` by itself. Doing this will not modify any behavior and is safe. If you specifically wanted the numpy scalar type, use `np.bool_` here.\n",
      "Deprecated in NumPy 1.20; for more details and guidance: https://numpy.org/devdocs/release/1.20.0-notes.html#deprecations\n",
      "  df_titan['survived'] = df_titan['survived'].astype(np.bool)\n"
     ]
    }
   ],
   "source": [
    "df_titan['survived'] = df_titan['survived'].astype(np.bool)\n",
    "df_titan.info()"
   ]
  },
  {
   "cell_type": "code",
   "execution_count": 6,
   "id": "45dd9650",
   "metadata": {},
   "outputs": [
    {
     "data": {
      "text/html": [
       "<div>\n",
       "<style scoped>\n",
       "    .dataframe tbody tr th:only-of-type {\n",
       "        vertical-align: middle;\n",
       "    }\n",
       "\n",
       "    .dataframe tbody tr th {\n",
       "        vertical-align: top;\n",
       "    }\n",
       "\n",
       "    .dataframe thead th {\n",
       "        text-align: right;\n",
       "    }\n",
       "</style>\n",
       "<table border=\"1\" class=\"dataframe\">\n",
       "  <thead>\n",
       "    <tr style=\"text-align: right;\">\n",
       "      <th></th>\n",
       "      <th>pclass</th>\n",
       "      <th>sex_</th>\n",
       "      <th>age</th>\n",
       "      <th>fare</th>\n",
       "    </tr>\n",
       "  </thead>\n",
       "  <tbody>\n",
       "    <tr>\n",
       "      <th>0</th>\n",
       "      <td>3</td>\n",
       "      <td>1</td>\n",
       "      <td>22.0</td>\n",
       "      <td>7.2500</td>\n",
       "    </tr>\n",
       "    <tr>\n",
       "      <th>1</th>\n",
       "      <td>1</td>\n",
       "      <td>0</td>\n",
       "      <td>38.0</td>\n",
       "      <td>71.2833</td>\n",
       "    </tr>\n",
       "    <tr>\n",
       "      <th>2</th>\n",
       "      <td>3</td>\n",
       "      <td>0</td>\n",
       "      <td>26.0</td>\n",
       "      <td>7.9250</td>\n",
       "    </tr>\n",
       "    <tr>\n",
       "      <th>3</th>\n",
       "      <td>1</td>\n",
       "      <td>0</td>\n",
       "      <td>35.0</td>\n",
       "      <td>53.1000</td>\n",
       "    </tr>\n",
       "    <tr>\n",
       "      <th>4</th>\n",
       "      <td>3</td>\n",
       "      <td>1</td>\n",
       "      <td>35.0</td>\n",
       "      <td>8.0500</td>\n",
       "    </tr>\n",
       "    <tr>\n",
       "      <th>...</th>\n",
       "      <td>...</td>\n",
       "      <td>...</td>\n",
       "      <td>...</td>\n",
       "      <td>...</td>\n",
       "    </tr>\n",
       "    <tr>\n",
       "      <th>885</th>\n",
       "      <td>3</td>\n",
       "      <td>0</td>\n",
       "      <td>39.0</td>\n",
       "      <td>29.1250</td>\n",
       "    </tr>\n",
       "    <tr>\n",
       "      <th>886</th>\n",
       "      <td>2</td>\n",
       "      <td>1</td>\n",
       "      <td>27.0</td>\n",
       "      <td>13.0000</td>\n",
       "    </tr>\n",
       "    <tr>\n",
       "      <th>887</th>\n",
       "      <td>1</td>\n",
       "      <td>0</td>\n",
       "      <td>19.0</td>\n",
       "      <td>30.0000</td>\n",
       "    </tr>\n",
       "    <tr>\n",
       "      <th>889</th>\n",
       "      <td>1</td>\n",
       "      <td>1</td>\n",
       "      <td>26.0</td>\n",
       "      <td>30.0000</td>\n",
       "    </tr>\n",
       "    <tr>\n",
       "      <th>890</th>\n",
       "      <td>3</td>\n",
       "      <td>1</td>\n",
       "      <td>32.0</td>\n",
       "      <td>7.7500</td>\n",
       "    </tr>\n",
       "  </tbody>\n",
       "</table>\n",
       "<p>714 rows × 4 columns</p>\n",
       "</div>"
      ],
      "text/plain": [
       "     pclass  sex_   age     fare\n",
       "0         3     1  22.0   7.2500\n",
       "1         1     0  38.0  71.2833\n",
       "2         3     0  26.0   7.9250\n",
       "3         1     0  35.0  53.1000\n",
       "4         3     1  35.0   8.0500\n",
       "..      ...   ...   ...      ...\n",
       "885       3     0  39.0  29.1250\n",
       "886       2     1  27.0  13.0000\n",
       "887       1     0  19.0  30.0000\n",
       "889       1     1  26.0  30.0000\n",
       "890       3     1  32.0   7.7500\n",
       "\n",
       "[714 rows x 4 columns]"
      ]
     },
     "execution_count": 6,
     "metadata": {},
     "output_type": "execute_result"
    }
   ],
   "source": [
    "x = df_titan[['pclass', 'sex', 'age','fare']]\n",
    "y = df_titan[['survived']]\n",
    "sex = pd.get_dummies(x['sex'],drop_first=True )\n",
    "x = x.drop('sex', axis=1)\n",
    "x.insert(1,'sex_',sex)\n",
    "\n",
    "x#.to_numpy()"
   ]
  },
  {
   "cell_type": "code",
   "execution_count": 7,
   "id": "ec3dc9ed",
   "metadata": {},
   "outputs": [
    {
     "data": {
      "text/plain": [
       "(714, 4)"
      ]
     },
     "execution_count": 7,
     "metadata": {},
     "output_type": "execute_result"
    }
   ],
   "source": [
    "x.shape # (714, 4)"
   ]
  },
  {
   "cell_type": "code",
   "execution_count": 14,
   "id": "a0293ab8",
   "metadata": {},
   "outputs": [
    {
     "name": "stdout",
     "output_type": "stream",
     "text": [
      "Coefficients:  [[-1.22051444e+00 -2.45568980e+00 -3.45896943e-02  2.27956330e-03]]\n",
      "INTERCEPT:  [4.69772197] [[-1.22051444e+00 -2.45568980e+00 -3.45896943e-02  2.27956330e-03]]\n"
     ]
    },
    {
     "name": "stderr",
     "output_type": "stream",
     "text": [
      "/Users/Sam/opt/anaconda3/lib/python3.9/site-packages/sklearn/utils/validation.py:993: DataConversionWarning: A column-vector y was passed when a 1d array was expected. Please change the shape of y to (n_samples, ), for example using ravel().\n",
      "  y = column_or_1d(y, warn=True)\n"
     ]
    }
   ],
   "source": [
    "X_train, X_test, y_train, y_test = train_test_split(x, y, test_size=0.3, random_state=0)\n",
    "\n",
    "model_LG = LogisticRegression(C=1e8, random_state=0)\n",
    "model_LG.fit(X_train,y_train)\n",
    "print('Coefficients: ', model_LG.coef_)\n",
    "print('INTERCEPT: ', model_LG.intercept_, model_LG.coef_)"
   ]
  },
  {
   "cell_type": "code",
   "execution_count": 82,
   "id": "eb80c173",
   "metadata": {},
   "outputs": [
    {
     "data": {
      "text/html": [
       "<div>\n",
       "<style scoped>\n",
       "    .dataframe tbody tr th:only-of-type {\n",
       "        vertical-align: middle;\n",
       "    }\n",
       "\n",
       "    .dataframe tbody tr th {\n",
       "        vertical-align: top;\n",
       "    }\n",
       "\n",
       "    .dataframe thead th {\n",
       "        text-align: right;\n",
       "    }\n",
       "</style>\n",
       "<table border=\"1\" class=\"dataframe\">\n",
       "  <thead>\n",
       "    <tr style=\"text-align: right;\">\n",
       "      <th></th>\n",
       "      <th>pclass</th>\n",
       "      <th>sex_</th>\n",
       "      <th>age</th>\n",
       "      <th>fare</th>\n",
       "    </tr>\n",
       "  </thead>\n",
       "  <tbody>\n",
       "    <tr>\n",
       "      <th>803</th>\n",
       "      <td>3</td>\n",
       "      <td>1</td>\n",
       "      <td>0.42</td>\n",
       "      <td>8.5167</td>\n",
       "    </tr>\n",
       "    <tr>\n",
       "      <th>755</th>\n",
       "      <td>2</td>\n",
       "      <td>1</td>\n",
       "      <td>0.67</td>\n",
       "      <td>14.5000</td>\n",
       "    </tr>\n",
       "    <tr>\n",
       "      <th>644</th>\n",
       "      <td>3</td>\n",
       "      <td>0</td>\n",
       "      <td>0.75</td>\n",
       "      <td>19.2583</td>\n",
       "    </tr>\n",
       "    <tr>\n",
       "      <th>469</th>\n",
       "      <td>3</td>\n",
       "      <td>0</td>\n",
       "      <td>0.75</td>\n",
       "      <td>19.2583</td>\n",
       "    </tr>\n",
       "    <tr>\n",
       "      <th>78</th>\n",
       "      <td>2</td>\n",
       "      <td>1</td>\n",
       "      <td>0.83</td>\n",
       "      <td>29.0000</td>\n",
       "    </tr>\n",
       "    <tr>\n",
       "      <th>...</th>\n",
       "      <td>...</td>\n",
       "      <td>...</td>\n",
       "      <td>...</td>\n",
       "      <td>...</td>\n",
       "    </tr>\n",
       "    <tr>\n",
       "      <th>116</th>\n",
       "      <td>3</td>\n",
       "      <td>1</td>\n",
       "      <td>70.50</td>\n",
       "      <td>7.7500</td>\n",
       "    </tr>\n",
       "    <tr>\n",
       "      <th>493</th>\n",
       "      <td>1</td>\n",
       "      <td>1</td>\n",
       "      <td>71.00</td>\n",
       "      <td>49.5042</td>\n",
       "    </tr>\n",
       "    <tr>\n",
       "      <th>96</th>\n",
       "      <td>1</td>\n",
       "      <td>1</td>\n",
       "      <td>71.00</td>\n",
       "      <td>34.6542</td>\n",
       "    </tr>\n",
       "    <tr>\n",
       "      <th>851</th>\n",
       "      <td>3</td>\n",
       "      <td>1</td>\n",
       "      <td>74.00</td>\n",
       "      <td>7.7750</td>\n",
       "    </tr>\n",
       "    <tr>\n",
       "      <th>630</th>\n",
       "      <td>1</td>\n",
       "      <td>1</td>\n",
       "      <td>80.00</td>\n",
       "      <td>30.0000</td>\n",
       "    </tr>\n",
       "  </tbody>\n",
       "</table>\n",
       "<p>714 rows × 4 columns</p>\n",
       "</div>"
      ],
      "text/plain": [
       "     pclass  sex_    age     fare\n",
       "803       3     1   0.42   8.5167\n",
       "755       2     1   0.67  14.5000\n",
       "644       3     0   0.75  19.2583\n",
       "469       3     0   0.75  19.2583\n",
       "78        2     1   0.83  29.0000\n",
       "..      ...   ...    ...      ...\n",
       "116       3     1  70.50   7.7500\n",
       "493       1     1  71.00  49.5042\n",
       "96        1     1  71.00  34.6542\n",
       "851       3     1  74.00   7.7750\n",
       "630       1     1  80.00  30.0000\n",
       "\n",
       "[714 rows x 4 columns]"
      ]
     },
     "execution_count": 82,
     "metadata": {},
     "output_type": "execute_result"
    }
   ],
   "source": [
    "x_plot = x.copy()\n",
    "x_plot = x_plot.sort_values(by=['age'])\n",
    "x_plot"
   ]
  },
  {
   "cell_type": "code",
   "execution_count": 83,
   "id": "a4800e23",
   "metadata": {},
   "outputs": [],
   "source": [
    "\n",
    "y_preds = model_LG.predict(x_plot)\n"
   ]
  },
  {
   "cell_type": "code",
   "execution_count": 15,
   "id": "96a7e88f",
   "metadata": {},
   "outputs": [],
   "source": [
    "min_age = x['age'].min()\n",
    "max_age = x['age'].max()\n",
    "age_range = np.linspace(min_age, max_age, 714)"
   ]
  },
  {
   "cell_type": "code",
   "execution_count": 49,
   "id": "8ccf6b28",
   "metadata": {},
   "outputs": [
    {
     "data": {
      "text/html": [
       "<div>\n",
       "<style scoped>\n",
       "    .dataframe tbody tr th:only-of-type {\n",
       "        vertical-align: middle;\n",
       "    }\n",
       "\n",
       "    .dataframe tbody tr th {\n",
       "        vertical-align: top;\n",
       "    }\n",
       "\n",
       "    .dataframe thead th {\n",
       "        text-align: right;\n",
       "    }\n",
       "</style>\n",
       "<table border=\"1\" class=\"dataframe\">\n",
       "  <thead>\n",
       "    <tr style=\"text-align: right;\">\n",
       "      <th></th>\n",
       "      <th>pclass</th>\n",
       "      <th>sex_</th>\n",
       "      <th>age</th>\n",
       "      <th>fare</th>\n",
       "    </tr>\n",
       "  </thead>\n",
       "  <tbody>\n",
       "    <tr>\n",
       "      <th>0</th>\n",
       "      <td>2.236695</td>\n",
       "      <td>0.634454</td>\n",
       "      <td>0.420000</td>\n",
       "      <td>34.694514</td>\n",
       "    </tr>\n",
       "    <tr>\n",
       "      <th>1</th>\n",
       "      <td>2.236695</td>\n",
       "      <td>0.634454</td>\n",
       "      <td>0.531613</td>\n",
       "      <td>34.694514</td>\n",
       "    </tr>\n",
       "    <tr>\n",
       "      <th>2</th>\n",
       "      <td>2.236695</td>\n",
       "      <td>0.634454</td>\n",
       "      <td>0.643226</td>\n",
       "      <td>34.694514</td>\n",
       "    </tr>\n",
       "    <tr>\n",
       "      <th>3</th>\n",
       "      <td>2.236695</td>\n",
       "      <td>0.634454</td>\n",
       "      <td>0.754839</td>\n",
       "      <td>34.694514</td>\n",
       "    </tr>\n",
       "    <tr>\n",
       "      <th>4</th>\n",
       "      <td>2.236695</td>\n",
       "      <td>0.634454</td>\n",
       "      <td>0.866452</td>\n",
       "      <td>34.694514</td>\n",
       "    </tr>\n",
       "    <tr>\n",
       "      <th>...</th>\n",
       "      <td>...</td>\n",
       "      <td>...</td>\n",
       "      <td>...</td>\n",
       "      <td>...</td>\n",
       "    </tr>\n",
       "    <tr>\n",
       "      <th>885</th>\n",
       "      <td>2.236695</td>\n",
       "      <td>0.634454</td>\n",
       "      <td>79.553548</td>\n",
       "      <td>34.694514</td>\n",
       "    </tr>\n",
       "    <tr>\n",
       "      <th>886</th>\n",
       "      <td>2.236695</td>\n",
       "      <td>0.634454</td>\n",
       "      <td>79.665161</td>\n",
       "      <td>34.694514</td>\n",
       "    </tr>\n",
       "    <tr>\n",
       "      <th>887</th>\n",
       "      <td>2.236695</td>\n",
       "      <td>0.634454</td>\n",
       "      <td>79.776774</td>\n",
       "      <td>34.694514</td>\n",
       "    </tr>\n",
       "    <tr>\n",
       "      <th>889</th>\n",
       "      <td>2.236695</td>\n",
       "      <td>0.634454</td>\n",
       "      <td>79.888387</td>\n",
       "      <td>34.694514</td>\n",
       "    </tr>\n",
       "    <tr>\n",
       "      <th>890</th>\n",
       "      <td>2.236695</td>\n",
       "      <td>0.634454</td>\n",
       "      <td>80.000000</td>\n",
       "      <td>34.694514</td>\n",
       "    </tr>\n",
       "  </tbody>\n",
       "</table>\n",
       "<p>714 rows × 4 columns</p>\n",
       "</div>"
      ],
      "text/plain": [
       "       pclass      sex_        age       fare\n",
       "0    2.236695  0.634454   0.420000  34.694514\n",
       "1    2.236695  0.634454   0.531613  34.694514\n",
       "2    2.236695  0.634454   0.643226  34.694514\n",
       "3    2.236695  0.634454   0.754839  34.694514\n",
       "4    2.236695  0.634454   0.866452  34.694514\n",
       "..        ...       ...        ...        ...\n",
       "885  2.236695  0.634454  79.553548  34.694514\n",
       "886  2.236695  0.634454  79.665161  34.694514\n",
       "887  2.236695  0.634454  79.776774  34.694514\n",
       "889  2.236695  0.634454  79.888387  34.694514\n",
       "890  2.236695  0.634454  80.000000  34.694514\n",
       "\n",
       "[714 rows x 4 columns]"
      ]
     },
     "execution_count": 49,
     "metadata": {},
     "output_type": "execute_result"
    }
   ],
   "source": [
    "X = x.copy()\n",
    "for col in X.columns:\n",
    "    X[str(col)]=X[col].mean()\n",
    "X['age'] = age_range\n",
    "X"
   ]
  },
  {
   "cell_type": "code",
   "execution_count": 87,
   "id": "220ec46a",
   "metadata": {},
   "outputs": [
    {
     "data": {
      "text/plain": [
       "0      0.616411\n",
       "1      0.615498\n",
       "2      0.614584\n",
       "3      0.613669\n",
       "4      0.612753\n",
       "         ...   \n",
       "885    0.094246\n",
       "886    0.093917\n",
       "887    0.093589\n",
       "889    0.093262\n",
       "890    0.092936\n",
       "Length: 714, dtype: float64"
      ]
     },
     "execution_count": 87,
     "metadata": {},
     "output_type": "execute_result"
    }
   ],
   "source": [
    "loss_func = scipy.special.expit(X@(model_LG.coef_[0]) + model_LG.intercept_)#.ravel()\n",
    "loss_func"
   ]
  },
  {
   "cell_type": "code",
   "execution_count": null,
   "id": "7fa20e2c",
   "metadata": {},
   "outputs": [],
   "source": []
  },
  {
   "cell_type": "code",
   "execution_count": 92,
   "id": "1c5b388a",
   "metadata": {
    "scrolled": false
   },
   "outputs": [
    {
     "data": {
      "image/png": "[encoded data removed]",
      "text/plain": [
       "<Figure size 2500x1000 with 2 Axes>"
      ]
     },
     "metadata": {},
     "output_type": "display_data"
    }
   ],
   "source": [
    "\n",
    "fig, (ax1, ax2) = plt.subplots(2, figsize=(25, 10))\n",
    "\n",
    "ax1.scatter(x['age'], y,color='orange')\n",
    "ax2.plot(x_plot['age'], y_preds,color='green')\n",
    "ax1.plot(age_range, loss_func,color='red');\n",
    "\n",
    "\n",
    "ax1.set_title('Survived vs. age')\n",
    "ax1.set_xlabel('AGE', labelpad=10)\n",
    "ax1.set_ylabel('SURVIVED', labelpad=10)\n",
    "\n",
    "ax2.set_title('Survived vs. age')\n",
    "ax2.set_xlabel('AGE', labelpad=10)\n",
    "ax2.set_ylabel('SURVIVED', labelpad=10)\n",
    "\n",
    "\n",
    "\n",
    "plt.show()"
   ]
  },
  {
   "cell_type": "code",
   "execution_count": null,
   "id": "74967278",
   "metadata": {},
   "outputs": [],
   "source": [
    "# We've obtained a sigmoid\n",
    "# showing the sharp decline in survival from 0->50 years old\n",
    "# then showing a slower slopes between 50->80 years old"
   ]
  },
  {
   "cell_type": "code",
   "execution_count": 135,
   "id": "8eb04b9a",
   "metadata": {},
   "outputs": [
    {
     "data": {
      "text/plain": [
       "'please resubmit with answers to the discussion questions \\n (use the metrics provided to measure the difference in model performance).\\n compare the classification model metrics (accuracy, ROC plot, F1, precision/recall).'"
      ]
     },
     "execution_count": 135,
     "metadata": {},
     "output_type": "execute_result"
    }
   ],
   "source": [
    "#----------------------- ADDRESSING FEEDBACK from Instructor Review ----------------------------- #\n",
    "\n",
    "\"\"\"please resubmit with answers to the discussion questions \n",
    " (use the metrics provided to measure the difference in model performance).\n",
    " compare the classification model metrics (accuracy, ROC plot, F1, precision/recall).\"\"\""
   ]
  },
  {
   "cell_type": "code",
   "execution_count": 132,
   "id": "4fd9c122",
   "metadata": {},
   "outputs": [
    {
     "data": {
      "image/png": "[encoded data removed]",
      "text/plain": [
       "<Figure size 640x480 with 1 Axes>"
      ]
     },
     "metadata": {},
     "output_type": "display_data"
    }
   ],
   "source": [
    "# roc curve\n",
    "from sklearn.metrics import roc_auc_score\n",
    "from sklearn.metrics import roc_curve\n",
    "\n",
    "logit_roc_auc = roc_auc_score(y_test, model_LG.predict(X_test)) #logreg is because it's using a sigmoid inside\n",
    "\n",
    "fpr, tpr, thresholds = roc_curve(y_test, model_LG.predict_proba(X_test)[:,1])\n",
    "\n",
    "plt.figure()\n",
    "plt.plot(fpr, tpr, label='Logistic Regression (area = %0.2f)' % logit_roc_auc)\n",
    "plt.plot([0, 1], [0, 1],'r--')\n",
    "plt.xlim([0.0, 1.0])\n",
    "plt.ylim([0.0, 1.05])\n",
    "plt.xlabel('False Positive Rate')\n",
    "plt.ylabel('True Positive Rate')\n",
    "plt.title('Receiver operating characteristic')\n",
    "plt.legend(loc=\"lower right\")\n",
    "plt.savefig('Log_ROC')\n",
    "plt.show()"
   ]
  },
  {
   "cell_type": "code",
   "execution_count": 133,
   "id": "2d30a01b",
   "metadata": {},
   "outputs": [
    {
     "name": "stdout",
     "output_type": "stream",
     "text": [
      "[[109  16]\n",
      " [ 20  70]]\n"
     ]
    }
   ],
   "source": [
    "from sklearn.metrics import confusion_matrix\n",
    "print(confusion_matrix(y_test, model_LG.predict(X_test))) \n",
    "\n"
   ]
  },
  {
   "cell_type": "code",
   "execution_count": 129,
   "id": "accbf93f",
   "metadata": {},
   "outputs": [
    {
     "ename": "IndentationError",
     "evalue": "unexpected indent (4097441323.py, line 2)",
     "output_type": "error",
     "traceback": [
      "\u001b[0;36m  File \u001b[0;32m\"/var/folders/v_/xxkztlq96zjg39p73r1dvnl00000gn/T/ipykernel_18726/4097441323.py\"\u001b[0;36m, line \u001b[0;32m2\u001b[0m\n\u001b[0;31m    ---\u001b[0m\n\u001b[0m    ^\u001b[0m\n\u001b[0;31mIndentationError\u001b[0m\u001b[0;31m:\u001b[0m unexpected indent\n"
     ]
    }
   ],
   "source": [
    "TN | FP\n",
    "  ---\n",
    "FN | TP"
   ]
  },
  {
   "cell_type": "code",
   "execution_count": 134,
   "id": "f72caf11",
   "metadata": {},
   "outputs": [
    {
     "name": "stdout",
     "output_type": "stream",
     "text": [
      "              precision    recall  f1-score   support\n",
      "\n",
      "       False       0.84      0.87      0.86       125\n",
      "        True       0.81      0.78      0.80        90\n",
      "\n",
      "    accuracy                           0.83       215\n",
      "   macro avg       0.83      0.82      0.83       215\n",
      "weighted avg       0.83      0.83      0.83       215\n",
      "\n"
     ]
    }
   ],
   "source": [
    "from sklearn.metrics import classification_report\n",
    "print(classification_report(y_test, model_LG.predict(X_test)))"
   ]
  },
  {
   "cell_type": "code",
   "execution_count": null,
   "id": "9553576d",
   "metadata": {},
   "outputs": [],
   "source": [
    "# INTERPRETATION:\n",
    "The ROC score is 0.82>0.5. (A score >0.5 is considered GOOD).\n",
    "Based on the blue line, the rate of True Positive evolves faster than the rate of False Positive.\n",
    "\n",
    "\n",
    "Precision = TP /(TP + FP). Ability to predict precise output: when FP is low the PRECISION ~1\n",
    "Recall = TP/(TP + FN). Ability to recall what the output should be: when FN is low the RECALL ~1\n",
    "Accuracy: TP + TN / (TP+TN +FP +FN). Ability to give accurate output: when FP and FN are low, ACCURACY ~1\n",
    "        \n",
    "Here,\n",
    "precision = 0.80  GOOD\n",
    "recall ~> 0.8     GOOD\n",
    "Accuracy = 0.83   GOOD\n",
    "F1_score >0.8.    GOOD\n",
    "\n",
    "\n",
    "Overall this model is accurate and provides meaningful representation of the reality. 80%.\n",
    "NOTE: This model is particularly good when the 0 < TruePositive rate <0.8\n",
    "When 0.8<TruePositive rate <1 the rate of false Positive tends to climb faster. \n",
    "We could try to find another improved model when 0.8<TruePositive rate <1, to get better predictions."
   ]
  },
  {
   "cell_type": "markdown",
   "id": "047a6fec",
   "metadata": {},
   "source": [
    "## Exercise 2: Intro To Computer Vision\n",
    "\n",
    "The [MNIST dataset](https://en.wikipedia.org/wiki/MNIST_database) is a classic in computer vision. It's a database of manually written digits (from 0 to 9) scanned into a 28x28 pixel image.\n",
    "\n",
    "The `X` matrix is 784 numbers (28x28) with numbers saying how dark the pixel is. The `y` variable is the number. The task is to use the images to do optical recognition.\n",
    "\n",
    "You can fetch the dataset with the following command:\n",
    "\n",
    "```\n",
    "from sklearn.datasets import fetch_openml\n",
    "fetch_openml('mnist_784', version=1, return_X_y=True, as_frame=False)\n",
    "```\n",
    "\n",
    "Use sklearn's logistic regression and any of the tricks you want to boost predictive accuracy. Here's a few notes:\n",
    "\n",
    "- Use the sklearn `train_test_split` we saw in class to keep some holdout data to test on.\n",
    "- You can use whatever sklearn preprocessing you think is relevant. Here's a few: \n",
    "\n",
    "```\n",
    "from sklearn.preprocessing import StandardScaler\n",
    "from sklearn.preprocessing import PolynomialFeatures\n",
    "```\n",
    "\n",
    "- Since there's many features (especially if you use data augmentation like polynomial features), this is a good time to use regularization. Try to find the best regularization parameters possible.\n",
    "- You should be able to get at least 80% on a test set size of 10_000"
   ]
  },
  {
   "cell_type": "code",
   "execution_count": null,
   "id": "375f52cc",
   "metadata": {},
   "outputs": [],
   "source": [
    "# exercise 2"
   ]
  },
  {
   "cell_type": "code",
   "execution_count": 132,
   "id": "27098e66",
   "metadata": {},
   "outputs": [],
   "source": [
    "from sklearn.datasets import fetch_openml\n",
    "X, y = fetch_openml('mnist_784', version=1, return_X_y=True, as_frame=False)"
   ]
  },
  {
   "cell_type": "code",
   "execution_count": 133,
   "id": "f94631d2",
   "metadata": {},
   "outputs": [
    {
     "data": {
      "text/plain": [
       "array([[0., 0., 0., ..., 0., 0., 0.],\n",
       "       [0., 0., 0., ..., 0., 0., 0.],\n",
       "       [0., 0., 0., ..., 0., 0., 0.],\n",
       "       ...,\n",
       "       [0., 0., 0., ..., 0., 0., 0.],\n",
       "       [0., 0., 0., ..., 0., 0., 0.],\n",
       "       [0., 0., 0., ..., 0., 0., 0.]])"
      ]
     },
     "execution_count": 133,
     "metadata": {},
     "output_type": "execute_result"
    }
   ],
   "source": [
    "X.shape # (70000, 784)  # 28 * 28 = 784\n",
    "X"
   ]
  },
  {
   "cell_type": "code",
   "execution_count": 134,
   "id": "7bf36663",
   "metadata": {},
   "outputs": [
    {
     "data": {
      "text/plain": [
       "array(['5', '0', '4', ..., '4', '5', '6'], dtype=object)"
      ]
     },
     "execution_count": 134,
     "metadata": {},
     "output_type": "execute_result"
    }
   ],
   "source": [
    "y.shape #(70000,)\n",
    "y"
   ]
  },
  {
   "cell_type": "code",
   "execution_count": 135,
   "id": "4cc5a1fc",
   "metadata": {},
   "outputs": [],
   "source": [
    "X_train, X_test, y_train, y_test = train_test_split(X, y, test_size=0.3, random_state=0)\n"
   ]
  },
  {
   "cell_type": "code",
   "execution_count": 136,
   "id": "52955853",
   "metadata": {},
   "outputs": [],
   "source": [
    "from math import sqrt, exp\n",
    "def optimizeModel(x_train, x_test, y_train, y_test, C=1):\n",
    "    C_ = exp(C)\n",
    "    logreg =  LogisticRegression(C=C_,random_state=0)\n",
    "    # We can play with the C to prevent the OVERFIT. Higher C, less overfit\n",
    "    logreg.fit(x_train,y_train)\n",
    "    y_pred = logreg.predict(x_test)\n",
    "\n",
    "    \n",
    "    return logreg.score(x_test, y_test)\n",
    "\n",
    "def best_score(score_rec):\n",
    "\n",
    "    score_ref = 1    \n",
    "    list_S = score_rec.values()\n",
    "\n",
    "    best_score = min(list_S, key=lambda x:abs(x-score_ref)) # We take the score that has the minimum distance with our Reference\n",
    "    \n",
    "    for k,v in score_rec.items():\n",
    "        if v==best_score:\n",
    "            return k, v\n",
    "\n"
   ]
  },
  {
   "cell_type": "code",
   "execution_count": 99,
   "id": "ac8ff9a0",
   "metadata": {},
   "outputs": [
    {
     "name": "stderr",
     "output_type": "stream",
     "text": [
      "/Users/Sam/opt/anaconda3/lib/python3.9/site-packages/sklearn/linear_model/_logistic.py:814: ConvergenceWarning: lbfgs failed to converge (status=1):\n",
      "STOP: TOTAL NO. of ITERATIONS REACHED LIMIT.\n",
      "\n",
      "Increase the number of iterations (max_iter) or scale the data as shown in:\n",
      "    https://scikit-learn.org/stable/modules/preprocessing.html\n",
      "Please also refer to the documentation for alternative solver options:\n",
      "    https://scikit-learn.org/stable/modules/linear_model.html#logistic-regression\n",
      "  n_iter_i = _check_optimize_result(\n",
      "/Users/Sam/opt/anaconda3/lib/python3.9/site-packages/sklearn/linear_model/_logistic.py:814: ConvergenceWarning: lbfgs failed to converge (status=1):\n",
      "STOP: TOTAL NO. of ITERATIONS REACHED LIMIT.\n",
      "\n",
      "Increase the number of iterations (max_iter) or scale the data as shown in:\n",
      "    https://scikit-learn.org/stable/modules/preprocessing.html\n",
      "Please also refer to the documentation for alternative solver options:\n",
      "    https://scikit-learn.org/stable/modules/linear_model.html#logistic-regression\n",
      "  n_iter_i = _check_optimize_result(\n",
      "/Users/Sam/opt/anaconda3/lib/python3.9/site-packages/sklearn/linear_model/_logistic.py:814: ConvergenceWarning: lbfgs failed to converge (status=1):\n",
      "STOP: TOTAL NO. of ITERATIONS REACHED LIMIT.\n",
      "\n",
      "Increase the number of iterations (max_iter) or scale the data as shown in:\n",
      "    https://scikit-learn.org/stable/modules/preprocessing.html\n",
      "Please also refer to the documentation for alternative solver options:\n",
      "    https://scikit-learn.org/stable/modules/linear_model.html#logistic-regression\n",
      "  n_iter_i = _check_optimize_result(\n",
      "/Users/Sam/opt/anaconda3/lib/python3.9/site-packages/sklearn/linear_model/_logistic.py:814: ConvergenceWarning: lbfgs failed to converge (status=1):\n",
      "STOP: TOTAL NO. of ITERATIONS REACHED LIMIT.\n",
      "\n",
      "Increase the number of iterations (max_iter) or scale the data as shown in:\n",
      "    https://scikit-learn.org/stable/modules/preprocessing.html\n",
      "Please also refer to the documentation for alternative solver options:\n",
      "    https://scikit-learn.org/stable/modules/linear_model.html#logistic-regression\n",
      "  n_iter_i = _check_optimize_result(\n",
      "/Users/Sam/opt/anaconda3/lib/python3.9/site-packages/sklearn/linear_model/_logistic.py:814: ConvergenceWarning: lbfgs failed to converge (status=1):\n",
      "STOP: TOTAL NO. of ITERATIONS REACHED LIMIT.\n",
      "\n",
      "Increase the number of iterations (max_iter) or scale the data as shown in:\n",
      "    https://scikit-learn.org/stable/modules/preprocessing.html\n",
      "Please also refer to the documentation for alternative solver options:\n",
      "    https://scikit-learn.org/stable/modules/linear_model.html#logistic-regression\n",
      "  n_iter_i = _check_optimize_result(\n",
      "/Users/Sam/opt/anaconda3/lib/python3.9/site-packages/sklearn/linear_model/_logistic.py:814: ConvergenceWarning: lbfgs failed to converge (status=1):\n",
      "STOP: TOTAL NO. of ITERATIONS REACHED LIMIT.\n",
      "\n",
      "Increase the number of iterations (max_iter) or scale the data as shown in:\n",
      "    https://scikit-learn.org/stable/modules/preprocessing.html\n",
      "Please also refer to the documentation for alternative solver options:\n",
      "    https://scikit-learn.org/stable/modules/linear_model.html#logistic-regression\n",
      "  n_iter_i = _check_optimize_result(\n",
      "/Users/Sam/opt/anaconda3/lib/python3.9/site-packages/sklearn/linear_model/_logistic.py:814: ConvergenceWarning: lbfgs failed to converge (status=1):\n",
      "STOP: TOTAL NO. of ITERATIONS REACHED LIMIT.\n",
      "\n",
      "Increase the number of iterations (max_iter) or scale the data as shown in:\n",
      "    https://scikit-learn.org/stable/modules/preprocessing.html\n",
      "Please also refer to the documentation for alternative solver options:\n",
      "    https://scikit-learn.org/stable/modules/linear_model.html#logistic-regression\n",
      "  n_iter_i = _check_optimize_result(\n",
      "/Users/Sam/opt/anaconda3/lib/python3.9/site-packages/sklearn/linear_model/_logistic.py:814: ConvergenceWarning: lbfgs failed to converge (status=1):\n",
      "STOP: TOTAL NO. of ITERATIONS REACHED LIMIT.\n",
      "\n",
      "Increase the number of iterations (max_iter) or scale the data as shown in:\n",
      "    https://scikit-learn.org/stable/modules/preprocessing.html\n",
      "Please also refer to the documentation for alternative solver options:\n",
      "    https://scikit-learn.org/stable/modules/linear_model.html#logistic-regression\n",
      "  n_iter_i = _check_optimize_result(\n",
      "/Users/Sam/opt/anaconda3/lib/python3.9/site-packages/sklearn/linear_model/_logistic.py:814: ConvergenceWarning: lbfgs failed to converge (status=1):\n",
      "STOP: TOTAL NO. of ITERATIONS REACHED LIMIT.\n",
      "\n",
      "Increase the number of iterations (max_iter) or scale the data as shown in:\n",
      "    https://scikit-learn.org/stable/modules/preprocessing.html\n",
      "Please also refer to the documentation for alternative solver options:\n",
      "    https://scikit-learn.org/stable/modules/linear_model.html#logistic-regression\n",
      "  n_iter_i = _check_optimize_result(\n",
      "/Users/Sam/opt/anaconda3/lib/python3.9/site-packages/sklearn/linear_model/_logistic.py:814: ConvergenceWarning: lbfgs failed to converge (status=1):\n",
      "STOP: TOTAL NO. of ITERATIONS REACHED LIMIT.\n",
      "\n",
      "Increase the number of iterations (max_iter) or scale the data as shown in:\n",
      "    https://scikit-learn.org/stable/modules/preprocessing.html\n",
      "Please also refer to the documentation for alternative solver options:\n",
      "    https://scikit-learn.org/stable/modules/linear_model.html#logistic-regression\n",
      "  n_iter_i = _check_optimize_result(\n",
      "/Users/Sam/opt/anaconda3/lib/python3.9/site-packages/sklearn/linear_model/_logistic.py:814: ConvergenceWarning: lbfgs failed to converge (status=1):\n",
      "STOP: TOTAL NO. of ITERATIONS REACHED LIMIT.\n",
      "\n",
      "Increase the number of iterations (max_iter) or scale the data as shown in:\n",
      "    https://scikit-learn.org/stable/modules/preprocessing.html\n",
      "Please also refer to the documentation for alternative solver options:\n",
      "    https://scikit-learn.org/stable/modules/linear_model.html#logistic-regression\n",
      "  n_iter_i = _check_optimize_result(\n",
      "/Users/Sam/opt/anaconda3/lib/python3.9/site-packages/sklearn/linear_model/_logistic.py:814: ConvergenceWarning: lbfgs failed to converge (status=1):\n",
      "STOP: TOTAL NO. of ITERATIONS REACHED LIMIT.\n",
      "\n",
      "Increase the number of iterations (max_iter) or scale the data as shown in:\n",
      "    https://scikit-learn.org/stable/modules/preprocessing.html\n",
      "Please also refer to the documentation for alternative solver options:\n",
      "    https://scikit-learn.org/stable/modules/linear_model.html#logistic-regression\n",
      "  n_iter_i = _check_optimize_result(\n",
      "/Users/Sam/opt/anaconda3/lib/python3.9/site-packages/sklearn/linear_model/_logistic.py:814: ConvergenceWarning: lbfgs failed to converge (status=1):\n",
      "STOP: TOTAL NO. of ITERATIONS REACHED LIMIT.\n",
      "\n",
      "Increase the number of iterations (max_iter) or scale the data as shown in:\n",
      "    https://scikit-learn.org/stable/modules/preprocessing.html\n",
      "Please also refer to the documentation for alternative solver options:\n",
      "    https://scikit-learn.org/stable/modules/linear_model.html#logistic-regression\n",
      "  n_iter_i = _check_optimize_result(\n"
     ]
    },
    {
     "name": "stdout",
     "output_type": "stream",
     "text": [
      "C: 1 Score: 0.9189047619047619\n"
     ]
    },
    {
     "name": "stderr",
     "output_type": "stream",
     "text": [
      "/Users/Sam/opt/anaconda3/lib/python3.9/site-packages/sklearn/linear_model/_logistic.py:814: ConvergenceWarning: lbfgs failed to converge (status=1):\n",
      "STOP: TOTAL NO. of ITERATIONS REACHED LIMIT.\n",
      "\n",
      "Increase the number of iterations (max_iter) or scale the data as shown in:\n",
      "    https://scikit-learn.org/stable/modules/preprocessing.html\n",
      "Please also refer to the documentation for alternative solver options:\n",
      "    https://scikit-learn.org/stable/modules/linear_model.html#logistic-regression\n",
      "  n_iter_i = _check_optimize_result(\n"
     ]
    }
   ],
   "source": [
    "\n",
    "c_range = np.arange(1,15,1)\n",
    "\n",
    "\n",
    "score_rec = {}\n",
    "for c in c_range:\n",
    "    score = optimizeModel(X_train, X_test, y_train, y_test, C=c)\n",
    "    score_rec.update({c:score})\n",
    "    \n",
    "combo = best_score(score_rec)\n",
    "K,V = combo[0], combo[1]\n",
    "\n",
    "print('C:', K, 'Score:',V)"
   ]
  },
  {
   "cell_type": "code",
   "execution_count": 137,
   "id": "5532565e",
   "metadata": {},
   "outputs": [
    {
     "name": "stderr",
     "output_type": "stream",
     "text": [
      "/Users/Sam/opt/anaconda3/lib/python3.9/site-packages/sklearn/linear_model/_logistic.py:814: ConvergenceWarning: lbfgs failed to converge (status=1):\n",
      "STOP: TOTAL NO. of ITERATIONS REACHED LIMIT.\n",
      "\n",
      "Increase the number of iterations (max_iter) or scale the data as shown in:\n",
      "    https://scikit-learn.org/stable/modules/preprocessing.html\n",
      "Please also refer to the documentation for alternative solver options:\n",
      "    https://scikit-learn.org/stable/modules/linear_model.html#logistic-regression\n",
      "  n_iter_i = _check_optimize_result(\n"
     ]
    },
    {
     "data": {
      "text/plain": [
       "LogisticRegression(C=10.0, random_state=0)"
      ]
     },
     "execution_count": 137,
     "metadata": {},
     "output_type": "execute_result"
    }
   ],
   "source": [
    "logreg = LogisticRegression(C=1e1,random_state=0) # Lower C : overfitting\n",
    "logreg.fit(X_train, y_train)"
   ]
  },
  {
   "cell_type": "code",
   "execution_count": 138,
   "id": "a0e2caef",
   "metadata": {},
   "outputs": [
    {
     "name": "stdout",
     "output_type": "stream",
     "text": [
      "Accuracy of logistic regression classifier on test set: 0.92\n"
     ]
    }
   ],
   "source": [
    "y_pred = logreg.predict(X_test) #Predict on the test not train!\n",
    "print('Accuracy of logistic regression classifier on test set: {:.2f}'.format(logreg.score(X_test, y_test))) #Percentage\n"
   ]
  },
  {
   "cell_type": "code",
   "execution_count": 109,
   "id": "d5b8a6fd",
   "metadata": {},
   "outputs": [
    {
     "name": "stdout",
     "output_type": "stream",
     "text": [
      "              precision    recall  f1-score   support\n",
      "\n",
      "           0       0.96      0.97      0.97      2077\n",
      "           1       0.96      0.98      0.97      2385\n",
      "           2       0.91      0.90      0.91      2115\n",
      "           3       0.91      0.88      0.90      2117\n",
      "           4       0.91      0.93      0.92      2004\n",
      "           5       0.88      0.86      0.87      1900\n",
      "           6       0.94      0.95      0.94      2045\n",
      "           7       0.94      0.93      0.93      2189\n",
      "           8       0.87      0.88      0.88      2042\n",
      "           9       0.90      0.90      0.90      2126\n",
      "\n",
      "    accuracy                           0.92     21000\n",
      "   macro avg       0.92      0.92      0.92     21000\n",
      "weighted avg       0.92      0.92      0.92     21000\n",
      "\n"
     ]
    }
   ],
   "source": [
    "from sklearn.metrics import classification_report\n",
    "print(classification_report(y_test,y_pred))"
   ]
  },
  {
   "cell_type": "code",
   "execution_count": 139,
   "id": "2f3e365e",
   "metadata": {},
   "outputs": [
    {
     "data": {
      "text/plain": [
       "array(['0', '1', '2', '3', '4', '5', '6', '7', '8', '9'], dtype=object)"
      ]
     },
     "execution_count": 139,
     "metadata": {},
     "output_type": "execute_result"
    }
   ],
   "source": [
    "logreg.classes_"
   ]
  },
  {
   "cell_type": "code",
   "execution_count": 111,
   "id": "68de8a2a",
   "metadata": {},
   "outputs": [
    {
     "data": {
      "text/plain": [
       "array([[9.13361922e-01, 4.35238993e-12, 6.75308604e-06, 1.38046245e-08,\n",
       "        6.19261196e-06, 6.32512705e-04, 6.96926879e-02, 2.61155164e-10,\n",
       "        1.62995932e-02, 3.24718541e-07],\n",
       "       [2.37143976e-06, 2.44524744e-11, 2.13862001e-06, 1.93278084e-05,\n",
       "        9.98398457e-01, 3.02056922e-05, 2.08156947e-06, 7.61156279e-06,\n",
       "        2.98833339e-04, 1.23897290e-03],\n",
       "       [2.19654799e-11, 9.98117795e-01, 4.96426029e-06, 7.30383799e-04,\n",
       "        1.19486703e-06, 4.10969154e-05, 3.87249149e-07, 1.05558031e-05,\n",
       "        1.71005656e-04, 9.22616037e-04],\n",
       "       [6.30534253e-04, 2.58131235e-10, 9.91228550e-01, 2.99949938e-04,\n",
       "        7.89365001e-08, 8.62219280e-04, 2.60500965e-04, 1.01207285e-10,\n",
       "        6.71815591e-03, 1.05129247e-08],\n",
       "       [3.46660330e-07, 3.24050048e-09, 1.59490693e-08, 1.79568567e-05,\n",
       "        4.57981601e-01, 2.23379710e-05, 3.57813667e-05, 5.18762085e-01,\n",
       "        9.92776074e-06, 2.31699443e-02],\n",
       "       [7.75588622e-04, 1.52144331e-08, 8.67312597e-02, 2.26029690e-03,\n",
       "        1.42062433e-01, 2.73981095e-04, 1.72910961e-02, 5.65124087e-01,\n",
       "        2.77343697e-03, 1.82707806e-01],\n",
       "       [8.48627010e-11, 7.44330501e-17, 1.83795949e-08, 3.92803586e-06,\n",
       "        9.33847819e-12, 1.53719924e-09, 6.83272964e-18, 9.99995368e-01,\n",
       "        2.72012077e-08, 6.56553305e-07],\n",
       "       [3.20728349e-09, 9.21058317e-01, 2.03527071e-03, 4.74294155e-03,\n",
       "        2.84552798e-07, 5.48569574e-04, 7.67703912e-05, 1.41367054e-08,\n",
       "        7.15279570e-02, 9.87197043e-06],\n",
       "       [4.62673891e-06, 9.24185958e-01, 6.00512005e-02, 3.87835599e-03,\n",
       "        3.64003053e-04, 2.66583402e-04, 1.26006626e-03, 3.13983095e-04,\n",
       "        9.54248896e-03, 1.32733557e-04],\n",
       "       [1.82212120e-11, 1.44577118e-05, 5.24880009e-05, 1.80807567e-01,\n",
       "        1.70675457e-07, 2.62206879e-03, 4.85496717e-09, 8.10715144e-01,\n",
       "        1.36876603e-03, 4.41933290e-03]])"
      ]
     },
     "execution_count": 111,
     "metadata": {},
     "output_type": "execute_result"
    }
   ],
   "source": [
    "logreg.predict_proba(X_test)[:10]"
   ]
  },
  {
   "cell_type": "code",
   "execution_count": 140,
   "id": "a5d0623d",
   "metadata": {},
   "outputs": [],
   "source": [
    "y_output = logreg.predict(X_test)[:10000]"
   ]
  },
  {
   "cell_type": "code",
   "execution_count": 141,
   "id": "c072196b",
   "metadata": {},
   "outputs": [],
   "source": [
    "y_ref = y_test[:10000]"
   ]
  },
  {
   "cell_type": "code",
   "execution_count": 142,
   "id": "ba823642",
   "metadata": {},
   "outputs": [
    {
     "name": "stdout",
     "output_type": "stream",
     "text": [
      "The % of success is:  91.64  %\n"
     ]
    }
   ],
   "source": [
    "match_list = []\n",
    "for i in zip(y_output,y_ref):\n",
    "    if i[0]==i[1]:\n",
    "        match_list.append(1)\n",
    "    else:\n",
    "        match_list.append(0)\n",
    "result = sum(match_list)/len(match_list)\n",
    "print('The % of detection success is: ', result*100, ' %')\n",
    "    "
   ]
  },
  {
   "cell_type": "code",
   "execution_count": null,
   "id": "33c89e8f",
   "metadata": {},
   "outputs": [],
   "source": [
    "# On a sample of 10000 we can see the score reflected: > 91.5% of correct answers"
   ]
  }
 ],
 "metadata": {
  "kernelspec": {
   "display_name": "Python 3 (ipykernel)",
   "language": "python",
   "name": "python3"
  },
  "language_info": {
   "codemirror_mode": {
    "name": "ipython",
    "version": 3
   },
   "file_extension": ".py",
   "mimetype": "text/x-python",
   "name": "python",
   "nbconvert_exporter": "python",
   "pygments_lexer": "ipython3",
   "version": "3.9.13"
  }
 },
 "nbformat": 4,
 "nbformat_minor": 5
}
