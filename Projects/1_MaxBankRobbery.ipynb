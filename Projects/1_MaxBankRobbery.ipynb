{
 "cells": [
  {
   "cell_type": "code",
   "execution_count": 4,
   "id": "e671588b",
   "metadata": {},
   "outputs": [],
   "source": [
    "import numpy as np\n",
    "import pandas as pd\n",
    "from check_solution import check_solution\n",
    "\n",
    "df = pd.read_csv('../data/bank_data.csv')\n",
    "\n",
    "# find the list and value of the best route for top n banks\n",
    "def robbed_list(df, n):\n",
    "    \n",
    "    # create an array of the top n banks that have the best money to time ratio\n",
    "    df['weight'] = df['money']/df['time (hr)']\n",
    "    best_list = df.sort_values('weight', ascending=False).id.head(n).reset_index(drop=True).to_numpy()\n",
    "    \n",
    "    # get the bank id with the best weight\n",
    "    currentid = df[['weight']].idxmax()[0] \n",
    "    \n",
    "    robbed = [currentid]\n",
    "    money = 0\n",
    "    \n",
    "    # index of values will be the bank id\n",
    "    coordinates = df[['x_coordinate', 'y_coordinate']].values # index of values will be the bank id\n",
    "    \n",
    "    # initialize the time calculations\n",
    "    time_left = 24.0\n",
    "    time_left -= df['time (hr)'][currentid]\n",
    "    time_to_escape = (np.linalg.norm(coordinates[currentid] - (0,0)) / 30) # distance to center over 30 to get hours\n",
    "    \n",
    "    while time_left >= time_to_escape:\n",
    "        \n",
    "        # returns best_list array with already robbed banks removed\n",
    "        best_list = np.setdiff1d(best_list, robbed, assume_unique=True)\n",
    "        \n",
    "        # create an array of distances to all other banks with higher value banks shortening the distance\n",
    "        node_weights = df.iloc[best_list].weight.to_numpy()\n",
    "        distances = np.linalg.norm(coordinates[best_list] - coordinates[currentid], axis=1)\n",
    "        distance_weights = distances / node_weights\n",
    "        \n",
    "        # get the lowest weight distance and select the bank at that location\n",
    "        next_bank = best_list[distance_weights.argmin()]\n",
    "        \n",
    "        # update time\n",
    "        time_to_rob = df['time (hr)'][next_bank]\n",
    "        time_to_travel = (np.linalg.norm(coordinates[currentid] - coordinates[next_bank]) / 30)\n",
    "        time_left = time_left - time_to_rob - time_to_travel\n",
    "        time_to_escape = (np.linalg.norm(coordinates[next_bank] - (0,0)) / 30)\n",
    "        \n",
    "        # add next bank to robbed list and take money from current bank\n",
    "        robbed.append(next_bank)\n",
    "        money += df.money[currentid]\n",
    "        \n",
    "        currentid = next_bank\n",
    "        \n",
    "    return robbed[:-1], money \n",
    "        # rounding errors cause issues with submitting full list so just remove last element\n",
    "\n",
    "\n",
    "# function to determine how many of the top weighted banks to include in the list\n",
    "def best_robbed_list(df):\n",
    "    \n",
    "    best_robbed_dict = {}\n",
    "    \n",
    "    # get lists and money value for different sizes of best_list\n",
    "    for i in range(270,500):\n",
    "        best_robbed_dict.update({i : robbed_list(df,i)[1]})\n",
    "    \n",
    "    # find the best_list size that returns the highest value\n",
    "    vals = best_robbed_dict.values()\n",
    "    mx = max(vals)\n",
    "    for key, val in best_robbed_dict.items():\n",
    "        if val == mx:\n",
    "            best_id = key\n",
    "\n",
    "    return robbed_list(df, best_id)[0]\n",
    "\n",
    "\n",
    "bank_id_list = best_robbed_list(df)"
   ]
  },
  {
   "cell_type": "code",
   "execution_count": 5,
   "id": "b08b04f8",
   "metadata": {},
   "outputs": [
    {
     "name": "stdout",
     "output_type": "stream",
     "text": [
      "Time Remaining: 0.046716781529124694\n"
     ]
    },
    {
     "data": {
      "text/plain": [
       "14119600.0"
      ]
     },
     "execution_count": 5,
     "metadata": {},
     "output_type": "execute_result"
    }
   ],
   "source": [
    "check_solution(bank_id_list, df, speed=30.)"
   ]
  }
 ],
 "metadata": {
  "kernelspec": {
   "display_name": "Python 3 (ipykernel)",
   "language": "python",
   "name": "python3"
  },
  "language_info": {
   "codemirror_mode": {
    "name": "ipython",
    "version": 3
   },
   "file_extension": ".py",
   "mimetype": "text/x-python",
   "name": "python",
   "nbconvert_exporter": "python",
   "pygments_lexer": "ipython3",
   "version": "3.9.13"
  }
 },
 "nbformat": 4,
 "nbformat_minor": 5
}
