{
 "cells": [
  {
   "cell_type": "markdown",
   "metadata": {
    "id": "JhHe67V18V3_"
   },
   "source": [
    "\n",
    "# Algorithms - Subset - Sum Problem\n",
    "\n",
    "The *subset-sum problem*:  given a set of integers $S = \\{s_1, s_2, \\ldots, s_n\\}$ and a target number $T$, find a subset of $S$ which adds up exactly to $T$.  \n",
    "\n",
    "For example, if $S = \\{1,2,5, 9, 10\\}$, there is a subset that adds up to $T = 22$, but not to $T = 23$.  Complete the following tasks related to this problem."
   ]
  },
  {
   "cell_type": "markdown",
   "metadata": {
    "id": "7XN-ycJK8V4A"
   },
   "source": [
    "## Exercise 1 \n",
    "\n",
    "Find a subset of $S = \\{1,2,5, 9, 10\\}$ with sum $T = 22$.  Explain the process (algorithm) you used mentally to find the subset.  Then apply the same process in an attempt to find a subset with sum $T = 23$.  \n",
    "\n",
    "How do you know there is no such subset?"
   ]
  },
  {
   "cell_type": "code",
   "execution_count": null,
   "metadata": {},
   "outputs": [],
   "source": [
    "### exercise 1 (answer)\n",
    "#1- I bascially create a Matrix of 5*5:\n",
    "#where the resulst of each cell(i,j) is the sum of all the 2 digit combinaison. \n",
    "#NOTE: 0 mean the combinaison is not possible. An item of S is only used once.\n",
    "\\ j)1  2  5  9  10\n",
    "(i\n",
    "1   0  3  6  10 11 \n",
    "2   3  0  7  11 12\n",
    "5   6  7  0  14 15\n",
    "9   10 11 14  0 19\n",
    "10  11 12 15 19  0\n",
    "\n",
    "#if the result is present in this table, I return all the cells (i,j ) that matches T=22\n",
    "#T=22 is not present, so we continue and add another layer of S to this results. \n",
    "\n",
    "#2-  all combinaisons of 3 unique digits from S, that match the result\n",
    "#So I create another matrix. Ideally a 3*3*3.\n",
    "#But, because we are in 2D, we will just reuse the previous results, paying attention to only use a digit Once.\n",
    "#Rows are the 3 layer of S, added to the previous results, reported in the columns.\n",
    "#The goal is to sum up all combinaisons of 3 digits.\n",
    " \n",
    "\\r1)3  6  7  10  11  12  14  15  19 \n",
    "(h\n",
    "1   0  0  8  0   12  13  15  16  20\n",
    "2   0  8  0  12  0   0   16  17  21\n",
    "5   8  0  0  15  16  17  0   0   24\n",
    "9   12 15 16 0   0   21  0   24  0\n",
    "10  13 16 17 20  21  0   24  0   0\n",
    "\n",
    "#T=22 is NOT present in the possible results\n",
    "#We add another layer of S to these results, paying attention that the digits should be unique\n",
    "\n",
    "\\r2) 8  12  13  15  16  17  20  21  24 \n",
    "(g\n",
    "1    0   0   0   0  17  18   0  22  25    \n",
    "2    0   0   0   17  0   0  22   0  26  \n",
    "5    0   17  18  0   0   0  25  26   0\n",
    "9    17  0   22  0   0  26   0   0   0\n",
    "10   18  21   0  25  0   0   0   0   0\n",
    "\n",
    "#We find that 3 combinaisons of cells(g,h,i,j) match the  T=22:\n",
    "(9, 10, 2, 1)\n",
    "\n",
    "\n",
    "\n"
   ]
  },
  {
   "cell_type": "code",
   "execution_count": 72,
   "metadata": {},
   "outputs": [
    {
     "data": {
      "text/plain": [
       "(1, 2, 9, 10)"
      ]
     },
     "execution_count": 72,
     "metadata": {},
     "output_type": "execute_result"
    }
   ],
   "source": [
    "#IMPLEMENTATION:\n",
    "#Let's try to implement the solution to find T=22\n",
    "import numpy as np\n",
    "from itertools import combinations\n",
    "from collections import Counter\n",
    "\n",
    "#Algorithm:\n",
    "#1- Build a dictionary (we use the count() function instead)\n",
    "#1- find all the combinaisons of i elements (stored in the Keys of the dict)\n",
    "#2- add them up ( Store the sum in the value of the dict)\n",
    "#3- return the k combinaison for which the sum value is equal to the searched T, if value==T\n",
    "#4- Repeat the process for the length of the vector which is the maximum sum we can get with unique digits.\n",
    "\n",
    "def sum_problem(s, T):\n",
    "    for i in range(1,len(s)+1):\n",
    "        combinaison = Counter()\n",
    "        combinaison.update(Counter(combinations(s, i)))\n",
    "        combinaison = dict(combinaison)\n",
    "        for k,v in combinaison.items():\n",
    "            combinaison[k]=sum(k) #value takes the sum of the list in k\n",
    "        for k,v in combinaison.items():\n",
    "            if v==T:\n",
    "                return k\n",
    "    return 'No match'\n",
    "\n",
    "\n",
    "T=22\n",
    "s = np.array([1,2,5,9,10])\n",
    "\n",
    "sum_problem(s, T)\n",
    "\n"
   ]
  },
  {
   "cell_type": "code",
   "execution_count": 73,
   "metadata": {},
   "outputs": [
    {
     "data": {
      "text/plain": [
       "'No match'"
      ]
     },
     "execution_count": 73,
     "metadata": {},
     "output_type": "execute_result"
    }
   ],
   "source": [
    "T=23\n",
    "s = np.array([1,2,5,9,10])\n",
    "\n",
    "sum_problem(s, T)\n",
    "    "
   ]
  },
  {
   "cell_type": "markdown",
   "metadata": {
    "collapsed": true,
    "id": "u-amEAHY8V4B"
   },
   "source": [
    "## Exercise 2\n",
    "\n",
    "Consider the following possible algorithm for the subset-sum problem, written in pseudocode:\n",
    "\n",
    "```python\n",
    "subset_sum(S[], T):\n",
    "    K = empty\n",
    "    for each i < size(S)\n",
    "        if sum(K) + S[i] <= T, put S[i] into K\n",
    "    if sum(K) = T, return K, else return False.\n",
    "```\n",
    "\n",
    "1. Describe what this algorithm does in English.  \n",
    "2. Implement this algorithm in Python and run it on the $S$ and $T$ above.\n",
    "3. Prove that this algorithm is NOT correct.  That is, find a counterexample: a set $S$ and number $T$ for which there is a solution, but not one that the algorithm finds.\n",
    "4. Verify that this particular $S$ and $T$ does not give the right output when entered to your Python program."
   ]
  },
  {
   "cell_type": "markdown",
   "metadata": {},
   "source": [
    "### 2.1 (answer)\n"
   ]
  },
  {
   "cell_type": "code",
   "execution_count": null,
   "metadata": {},
   "outputs": [],
   "source": [
    "### 2.2 (answer)\n",
    "This algorithm is taking 2 inputs: a List S[] of integers, and a digit T.\n",
    "The sum of a subset of S should match T.\n",
    "\n",
    "A list K is initialized. \n",
    "We run through each item of the input list S.\n",
    "    If the next item i, picked from the S, and added to the previous items of K, are smaller or equal to T\n",
    "    then this item is added to the list K.\n",
    "    (If the sum of items in K, added to i are more than T, the item is not added to the list)\n",
    "If the sum of the items of K are equal to T,\n",
    "then the combinaison K is returned\n",
    "else False is returned\n"
   ]
  },
  {
   "cell_type": "code",
   "execution_count": 78,
   "metadata": {},
   "outputs": [
    {
     "name": "stdout",
     "output_type": "stream",
     "text": [
      "[1, 2, 5, 9]\n"
     ]
    },
    {
     "data": {
      "text/plain": [
       "False"
      ]
     },
     "execution_count": 78,
     "metadata": {},
     "output_type": "execute_result"
    }
   ],
   "source": [
    "### 2.3 (answer)\n",
    "\n",
    "def subset_sum(S, T):\n",
    "    K = []\n",
    "    for i in range(len(S)):\n",
    "        if sum(K)+S[i] <= T:\n",
    "            K.append(S[i])\n",
    "    print(K)\n",
    "    if sum(K) == T:\n",
    "        return K\n",
    "    else:\n",
    "        return False\n",
    "\n",
    "T=22\n",
    "S = np.array([1,2,5,9,10])\n",
    "subset_sum(S, T)\n"
   ]
  },
  {
   "cell_type": "markdown",
   "metadata": {},
   "source": [
    "### 2.4 (answer)\n",
    "\n",
    "The problem with this algo, is that it takes the input sequentially.\n",
    "It doesnt explore all the possible combinaisons.\n",
    "So if the first digits make up to the sum T, it's good. At best it will only be an approximation of the sum.\n",
    "If we take our 1st exercise with T=22,and S=[1,2,5,9,10]\n",
    "this algorithm would work only if the 4 first S list items sequence matches the expected combinaison. Whatever the permutation of these 4 first digits.\n",
    "[1, 2, 9, 10, ...] or [9, 1, 2, 10, ...] ,etc\n",
    "But wouldn't work if the 5 is among the first 4 digits:\n",
    "Ex: wouldn't work for S = [1,2,5,9,10]"
   ]
  },
  {
   "cell_type": "code",
   "execution_count": 79,
   "metadata": {},
   "outputs": [
    {
     "name": "stdout",
     "output_type": "stream",
     "text": [
      "[1, 2, 9, 10]\n"
     ]
    },
    {
     "data": {
      "text/plain": [
       "[1, 2, 9, 10]"
      ]
     },
     "execution_count": 79,
     "metadata": {},
     "output_type": "execute_result"
    }
   ],
   "source": [
    "T=22\n",
    "S = np.array([1,2,9,10,5])\n",
    "subset_sum(S, T) #SOLUTION FOUND THANKS TO THE RE-ARRANGED INPUT"
   ]
  },
  {
   "cell_type": "code",
   "execution_count": 80,
   "metadata": {},
   "outputs": [
    {
     "name": "stdout",
     "output_type": "stream",
     "text": [
      "[1, 2, 5, 9]\n"
     ]
    },
    {
     "data": {
      "text/plain": [
       "False"
      ]
     },
     "execution_count": 80,
     "metadata": {},
     "output_type": "execute_result"
    }
   ],
   "source": [
    "T=22\n",
    "S = np.array([1,2,5,9,10])\n",
    "subset_sum(S, T)  ##SOLUTION IS NOT FOUND WITH INITIAL ORDER OF THE ARRAY"
   ]
  },
  {
   "cell_type": "markdown",
   "metadata": {
    "id": "ELM9eyRP8V4D"
   },
   "source": [
    "## Exercise 3 \n",
    "\n",
    "Another try: What if you put the elements in the subset from largest to smallest?  Check that this too is not a correct algorithm."
   ]
  },
  {
   "cell_type": "code",
   "execution_count": 85,
   "metadata": {
    "id": "lWZVOfi58V4E"
   },
   "outputs": [
    {
     "name": "stdout",
     "output_type": "stream",
     "text": [
      "[1, 2, 5, 9, 10]\n",
      "[1, 2, 5, 9]\n"
     ]
    },
    {
     "data": {
      "text/plain": [
       "False"
      ]
     },
     "execution_count": 85,
     "metadata": {},
     "output_type": "execute_result"
    }
   ],
   "source": [
    "### exercise 3\n",
    "T=22\n",
    "S = np.array([1, 2, 9, 10, 5])  # This initial order should bring a correct answer\n",
    "\n",
    "S1 =sorted(S)\n",
    "print(S1)\n",
    "subset_sum(S1, T)  # This sorted order doesn't result in a correct answer\n"
   ]
  },
  {
   "cell_type": "markdown",
   "metadata": {
    "id": "KQdqQykN8V4E"
   },
   "source": [
    "## Exercise 4\n",
    "\n",
    "Describe a correct algorithm for the subset-sum problem, both in English and in pseudocode.  Then implement the algorithm in Python.  Explain how you know your algorithm is correct (even if it might not be efficient)."
   ]
  },
  {
   "cell_type": "markdown",
   "metadata": {
    "id": "i00PKLrb8V4F"
   },
   "source": [
    "### exercise 4 (algorithm --English and pseudocode)\n",
    "\n",
    "For this algorithm to work,\n",
    "it needs to also consider the permutations of the input array to find the solution.\n",
    "We need to incorporate the permutations of the input.\n",
    "And check the found solution for each specific permutation\n",
    "-\n",
    "\n",
    "So what needs to be done is to encapsulate the previous algorithm in the for loop which checks all the possible permutaions.\n",
    "\n",
    "PSEUDOCODE:\n",
    "\n",
    "subset_sum(S[], T):\n",
    "    for each p permutation of S\n",
    "        K = empty\n",
    "        for each i < size(S)\n",
    "            if sum(K) + p[i] <= T, put p[i] into K\n",
    "        if sum(K) = T, return K, \n",
    "     return False."
   ]
  },
  {
   "cell_type": "code",
   "execution_count": 94,
   "metadata": {},
   "outputs": [
    {
     "data": {
      "text/plain": [
       "[1, 2, 9, 10]"
      ]
     },
     "execution_count": 94,
     "metadata": {},
     "output_type": "execute_result"
    }
   ],
   "source": [
    "#Python code ex4\n",
    "\n",
    "from itertools import permutations\n",
    "\n",
    "def subset_sum(S, T):\n",
    "    \n",
    "    for p in permutations(S):\n",
    "        K = []\n",
    "        for i in range(len(S)):\n",
    "            if sum(K)+p[i] <= T:\n",
    "                K.append(p[i])\n",
    "        if sum(K) == T:\n",
    "            return K\n",
    "    \n",
    "    return False\n",
    "    \n",
    "T=22\n",
    "S = np.array([1,2,5,9,10])    #Now it works\n",
    "subset_sum(S, T)\n"
   ]
  },
  {
   "cell_type": "markdown",
   "metadata": {
    "collapsed": true,
    "id": "fl51IaPm8V4G"
   },
   "source": [
    "## Exercise 5: Generating correct change\n",
    "\n",
    "Now, we will be making change using the fewest coins. \n",
    "\n",
    "Suppose you are a programmer for a vending machine manufacturer. Your company wants to streamline effort by giving out the fewest possible coins in change for each transaction. Suppose a customer puts in a dollar bill and purchases an item for 37 cents. What is the smallest number of coins you can use to make change? The answer is six coins: two quarters, one dime, and three pennies. \n",
    "\n",
    "How did we arrive at the answer of six coins? We start with the largest coin in our arsenal (a quarter) and use as many of those as possible, then we go to the next lowest coin value and use as many of those as possible. This is the greedy algorithm for change-making.\n",
    "\n",
    "**Question:** Write the greedy algorithm for change making.\n",
    "\n",
    "The input is the amount of change to generate (in pennies) and a list of coin sizes (in pennies)\n",
    "\n",
    "The output is the minimum number of coins to gener\n",
    "\n",
    "```\n",
    "# buys with 1 dollar for 37 pennies\n",
    "# Second argument says we can give quarters, dimes, nickels and pennies\n",
    "make_change(100 - 37, [25, 10, 5, 1])\n",
    "\n",
    "# 2 quarters, one dime, and three pennies\n",
    "output --> 6 # Output would be equivalent to the choices [2, 1, 0, 3]\n",
    "```"
   ]
  },
  {
   "cell_type": "code",
   "execution_count": null,
   "metadata": {},
   "outputs": [],
   "source": [
    "# exercise 5"
   ]
  },
  {
   "cell_type": "code",
   "execution_count": 121,
   "metadata": {
    "id": "pnFl8-g28V4G"
   },
   "outputs": [
    {
     "name": "stdout",
     "output_type": "stream",
     "text": [
      "13\n",
      "3\n",
      "3\n",
      "0\n"
     ]
    },
    {
     "data": {
      "text/plain": [
       "[2, 1, 0, 3]"
      ]
     },
     "execution_count": 121,
     "metadata": {},
     "output_type": "execute_result"
    }
   ],
   "source": [
    "import numpy as np\n",
    "\n",
    "#Algo\n",
    "#1- convert the dollar into cents\n",
    "#2- intialize the list reversed sorted available coins\n",
    "#3- initialize a return list containing the numbe of each picked coins\n",
    "#4- For each coin, we evaluate the maximum number the machine can hand back\n",
    "#5- this loop is repeated until the total change is given back, and within the available coin limit\n",
    "\n",
    "def giveChange(dollars, price):\n",
    "    change_due = dollars*100-price\n",
    "    coins = [25, 10, 5, 1]\n",
    "    change = []\n",
    "    \n",
    "    c = 0 \n",
    "    while change_due !=0 and c < len(coins):\n",
    "       \n",
    "        change.append(change_due // coins[c])\n",
    "        change_due -= change[c] * coins[c]\n",
    "        c+=1\n",
    "    \n",
    "    return change\n",
    "\n",
    "giveChange(1, 37)"
   ]
  },
  {
   "cell_type": "code",
   "execution_count": null,
   "metadata": {},
   "outputs": [],
   "source": []
  }
 ],
 "metadata": {
  "colab": {
   "name": "workshop knapsack.ipynb",
   "provenance": []
  },
  "kernelspec": {
   "display_name": "Python 3 (ipykernel)",
   "language": "python",
   "name": "python3"
  },
  "language_info": {
   "codemirror_mode": {
    "name": "ipython",
    "version": 3
   },
   "file_extension": ".py",
   "mimetype": "text/x-python",
   "name": "python",
   "nbconvert_exporter": "python",
   "pygments_lexer": "ipython3",
   "version": "3.9.13"
  }
 },
 "nbformat": 4,
 "nbformat_minor": 1
}
