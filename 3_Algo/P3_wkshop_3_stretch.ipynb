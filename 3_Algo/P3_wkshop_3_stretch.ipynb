{
 "cells": [
  {
   "cell_type": "markdown",
   "metadata": {
    "id": "P1MSdToBvHEO"
   },
   "source": [
    "\n",
    "## Exercise 3: Dijkstra's Shortest Path Algorithm\n",
    "\n",
    "Dijkstra's algorithm uses breadth first search to find the **shortest path** between two nodes in a graph.\n",
    "\n",
    "It goes like this:\n",
    "\n",
    "----\n",
    "\n",
    "Let the node at which we are starting be called the initial node. Let the distance of node Y be the distance from the initial node to Y. Dijkstra's algorithm will assign some initial distance values and will try to improve them step by step.\n",
    "\n",
    "1. Mark all nodes unvisited. Create a set of all the unvisited nodes called the unvisited set.\n",
    "2. Assign to every node a tentative distance value: set it to zero for our initial node and to infinity for all other nodes. Set the initial node as current.\n",
    "3. For the current node, consider all of its unvisited neighbours and calculate their tentative distances through the current node. Compare the newly calculated tentative distance to the current assigned value and assign the smaller one. For example, if the current node A is marked with a distance of 6, and the edge connecting it with a neighbour B has length 2, then the distance to B through A will be 6 + 2 = 8. If B was previously marked with a distance greater than 8 then change it to 8. Otherwise, the current value will be kept.(Assuming that each edge has a distance of 1)\n",
    "4. When we are done considering all of the unvisited neighbours of the current node, mark the current node as visited and remove it from the unvisited set. A visited node will never be checked again.\n",
    "5. If the destination node has been marked visited (when planning a route between two specific nodes) or if the smallest tentative distance among the nodes in the unvisited set is infinity (when planning a complete traversal; occurs when there is no connection between the initial node and remaining unvisited nodes), then stop. The algorithm has finished.\n",
    "6. Otherwise, select the unvisited node that is marked with the smallest tentative distance, set it as the new \"current node\", and go back to step 3.\n",
    "\n",
    "----\n",
    "\n",
    "Here is a GIF of it in action:\n",
    "\n",
    "![progress animation](../assets/Dijkstras_progress_animation.gif)\n",
    "\n",
    "Implement `shortest_path(G, start_node, end_node)` which takes in a networkX graph, a starting node and an end node and outputs a list of nodes which is the shortest path between the start and end.\n",
    "\n",
    "You can use networkX's shortest path function to test your result, but not to implement it."
   ]
  },
  {
   "cell_type": "code",
   "execution_count": 60,
   "metadata": {
    "id": "mNQOuxiMvHEP"
   },
   "outputs": [],
   "source": [
    "# exercise 3\n",
    "import networkx as nx\n",
    "\n",
    "class Stack: \n",
    "    def __init__(self): \n",
    "        self.elements = [] \n",
    "    \n",
    "    def push(self, data): \n",
    "        self.elements.append(data) \n",
    "        return data \n",
    "    \n",
    "    def pop(self): \n",
    "        return self.elements.pop() \n",
    "        \n",
    "    def peek(self): \n",
    "        return self.elements[-1] \n",
    "        \n",
    "    def is_empty(self): \n",
    "        return len(self.elements) == 0\n",
    "    \n",
    "    def info(self):\n",
    "        return self.elements\n",
    "    \n",
    "    \n",
    "def shortest_path(G, start_node, end_node):\n",
    "    \n",
    "    currentNode = start_node\n",
    "    unvisitedNodes = {}\n",
    "    for node in G.nodes:\n",
    "        unvisitedNodes.update({node:0})\n",
    "    print(unvisitedNodes)\n",
    "        \n",
    "    \n",
    "    print('currentNode ',currentNode)\n",
    "    while len(unvisitedNodes)>0 or end_node not in unvisitedNodes:\n",
    "        neightbors = Stack()\n",
    "        for n in G[currentNode]:\n",
    "            neightbors.push(n)\n",
    "            \n",
    "        next_shorter_Path = float('inf')\n",
    "        while len(neightbors.elements)!=0:\n",
    "\n",
    "            neightb = neightbors.pop()\n",
    "            print('neightb: ',neightb)\n",
    "            print('neightbors.elements: ',neightbors.elements)\n",
    "            \n",
    "\n",
    "            print(unvisitedNodes[currentNode])\n",
    "            print(unvisitedNodes[neightb])\n",
    "            unvisitedNodes[neightb] = unvisitedNodes[currentNode] + 1\n",
    "            \n",
    "            if neightb == end_node:\n",
    "                return unvisitedNodes[neightb]\n",
    "            \n",
    "            if unvisitedNodes[neightb] < next_shorter_Path :\n",
    "                next_shorter_Path = unvisitedNodes[neightb]\n",
    "                nextCandidateNode = neightb\n",
    "                print('nextCandidateNode', nextCandidateNode)\n",
    "        \n",
    "        #assign new currentNode\n",
    "        currentNode = nextCandidateNode\n",
    "        \n",
    "        unvisitedNodes.pop(currentNode)\n",
    "        \n",
    "        \n",
    "        \n",
    "\n"
   ]
  },
  {
   "cell_type": "code",
   "execution_count": 34,
   "metadata": {},
   "outputs": [
    {
     "data": {
      "image/png": "[encoded data removed]",
      "text/plain": [
       "<Figure size 640x480 with 1 Axes>"
      ]
     },
     "metadata": {},
     "output_type": "display_data"
    }
   ],
   "source": [
    "import networkx as nx\n",
    "G= nx.Graph([('C','E'),('A','C'),('A','E'),('A','D'),('A','F'),('F','E'),('E','D'),('D','B')])\n",
    "\n",
    "nx.draw(G, with_labels=True, node_color='red')\n"
   ]
  },
  {
   "cell_type": "code",
   "execution_count": 61,
   "metadata": {},
   "outputs": [
    {
     "name": "stdout",
     "output_type": "stream",
     "text": [
      "{'C': 0, 'E': 0, 'A': 0, 'D': 0, 'F': 0, 'B': 0}\n",
      "currentNode  A\n",
      "neightb:  F\n",
      "neightbors.elements:  ['C', 'E', 'D']\n",
      "0\n",
      "0\n",
      "nextCandidateNode F\n",
      "neightb:  D\n",
      "neightbors.elements:  ['C', 'E']\n",
      "0\n",
      "0\n",
      "neightb:  E\n",
      "neightbors.elements:  ['C']\n",
      "0\n",
      "0\n",
      "neightb:  C\n",
      "neightbors.elements:  []\n",
      "0\n",
      "0\n",
      "neightb:  E\n",
      "neightbors.elements:  ['A']\n"
     ]
    },
    {
     "ename": "KeyError",
     "evalue": "'F'",
     "output_type": "error",
     "traceback": [
      "\u001b[0;31m---------------------------------------------------------------------------\u001b[0m",
      "\u001b[0;31mKeyError\u001b[0m                                  Traceback (most recent call last)",
      "\u001b[0;32m/var/folders/v_/xxkztlq96zjg39p73r1dvnl00000gn/T/ipykernel_75238/341424419.py\u001b[0m in \u001b[0;36m<module>\u001b[0;34m\u001b[0m\n\u001b[0;32m----> 1\u001b[0;31m \u001b[0mshortest_path\u001b[0m\u001b[0;34m(\u001b[0m\u001b[0mG\u001b[0m\u001b[0;34m,\u001b[0m \u001b[0;34m'A'\u001b[0m\u001b[0;34m,\u001b[0m \u001b[0;34m'B'\u001b[0m\u001b[0;34m)\u001b[0m\u001b[0;34m\u001b[0m\u001b[0;34m\u001b[0m\u001b[0m\n\u001b[0m",
      "\u001b[0;32m/var/folders/v_/xxkztlq96zjg39p73r1dvnl00000gn/T/ipykernel_75238/1800559535.py\u001b[0m in \u001b[0;36mshortest_path\u001b[0;34m(G, start_node, end_node)\u001b[0m\n\u001b[1;32m     46\u001b[0m \u001b[0;34m\u001b[0m\u001b[0m\n\u001b[1;32m     47\u001b[0m \u001b[0;34m\u001b[0m\u001b[0m\n\u001b[0;32m---> 48\u001b[0;31m             \u001b[0mprint\u001b[0m\u001b[0;34m(\u001b[0m\u001b[0munvisitedNodes\u001b[0m\u001b[0;34m[\u001b[0m\u001b[0mcurrentNode\u001b[0m\u001b[0;34m]\u001b[0m\u001b[0;34m)\u001b[0m\u001b[0;34m\u001b[0m\u001b[0;34m\u001b[0m\u001b[0m\n\u001b[0m\u001b[1;32m     49\u001b[0m             \u001b[0mprint\u001b[0m\u001b[0;34m(\u001b[0m\u001b[0munvisitedNodes\u001b[0m\u001b[0;34m[\u001b[0m\u001b[0mneightb\u001b[0m\u001b[0;34m]\u001b[0m\u001b[0;34m)\u001b[0m\u001b[0;34m\u001b[0m\u001b[0;34m\u001b[0m\u001b[0m\n\u001b[1;32m     50\u001b[0m             \u001b[0munvisitedNodes\u001b[0m\u001b[0;34m[\u001b[0m\u001b[0mneightb\u001b[0m\u001b[0;34m]\u001b[0m \u001b[0;34m=\u001b[0m \u001b[0munvisitedNodes\u001b[0m\u001b[0;34m[\u001b[0m\u001b[0mcurrentNode\u001b[0m\u001b[0;34m]\u001b[0m \u001b[0;34m+\u001b[0m \u001b[0;36m1\u001b[0m\u001b[0;34m\u001b[0m\u001b[0;34m\u001b[0m\u001b[0m\n",
      "\u001b[0;31mKeyError\u001b[0m: 'F'"
     ]
    }
   ],
   "source": [
    "shortest_path(G, 'A', 'B')"
   ]
  },
  {
   "cell_type": "code",
   "execution_count": null,
   "metadata": {},
   "outputs": [],
   "source": []
  }
 ],
 "metadata": {
  "colab": {
   "collapsed_sections": [],
   "name": "Workshop Graphs.ipynb",
   "provenance": []
  },
  "kernelspec": {
   "display_name": "Python 3 (ipykernel)",
   "language": "python",
   "name": "python3"
  },
  "language_info": {
   "codemirror_mode": {
    "name": "ipython",
    "version": 3
   },
   "file_extension": ".py",
   "mimetype": "text/x-python",
   "name": "python",
   "nbconvert_exporter": "python",
   "pygments_lexer": "ipython3",
   "version": "3.9.13"
  },
  "metadata": {
   "interpreter": {
    "hash": "63fd5069d213b44bf678585dea6b12cceca9941eaf7f819626cde1f2670de90d"
   }
  }
 },
 "nbformat": 4,
 "nbformat_minor": 1
}
