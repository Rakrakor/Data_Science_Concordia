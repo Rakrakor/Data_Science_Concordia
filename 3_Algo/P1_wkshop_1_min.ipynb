{
 "cells": [
  {
   "cell_type": "markdown",
   "metadata": {
    "colab_type": "text",
    "id": "c8zuAcfM5lDz"
   },
   "source": [
    "# Algorithms and Big-O\n",
    "\n",
    "## Exercise 1: Big-O Theory\n",
    "\n",
    "### 1.1. What is the big-O of the following algorithm? Assume `A` is an array of numbers\n",
    "\n",
    "```python\n",
    "def number_in_array(A, num):\n",
    "  for i in range(len(A)):\n",
    "    if A[i] == num:\n",
    "      return True\n",
    "  return False\n",
    "```"
   ]
  },
  {
   "cell_type": "code",
   "execution_count": null,
   "metadata": {},
   "outputs": [],
   "source": [
    "# 1.1: Write your answer here.\n",
    "# => This is a linear process : O(n)\n",
    "# the algorithm runs through each item n, of the array"
   ]
  },
  {
   "cell_type": "markdown",
   "metadata": {},
   "source": [
    "### 1.2. What is the big-O of the following algorithm? Assume `A` and `B` are arrays of numbers of the **same length n**\n",
    "\n",
    "```python\n",
    "def number_in_two_arrays(A, B, num):\n",
    "  arr_len = len(A)\n",
    "  for i in range(arr_len):\n",
    "    if A[i] == num:\n",
    "      return True\n",
    "  for i in range(arr_len):\n",
    "    if B[i] == num:\n",
    "      return True\n",
    "  return False\n",
    "```"
   ]
  },
  {
   "cell_type": "code",
   "execution_count": null,
   "metadata": {},
   "outputs": [],
   "source": [
    "# 1.2: Write your answer here.\n",
    "# => this is also a linear process : O(n)\n",
    "# Inputs: len (A + B ) == n\n",
    "#Each for loop runs sequentially through each array\n",
    "#so it take O(n) time complexity to run this function\n"
   ]
  },
  {
   "cell_type": "markdown",
   "metadata": {},
   "source": [
    "### 1.3. What would be the big-O above if `A` was length `n` and `B` was length `m`?\n"
   ]
  },
  {
   "cell_type": "code",
   "execution_count": null,
   "metadata": {},
   "outputs": [],
   "source": [
    "# 1.3: Write your answer here.\n",
    "# the time complexity does not care about the actual size of the arrays.\n",
    "#It represents the worst case n, where n or m could eventually tend to infinity\n",
    "#The bigO here is : O(n)"
   ]
  },
  {
   "cell_type": "markdown",
   "metadata": {},
   "source": [
    "### 1.4. What is the big-O of the following algorithm? Assume `A` and `B` are arrays of numbers of the **same length n**\n",
    "\n",
    "```python\n",
    "def number_in_two_arrays(A, B, num):\n",
    "  arr_len = len(A)\n",
    "  for i in range(arr_len):\n",
    "    for j in range(arr_len):\n",
    "    if A[i] == B[j]:\n",
    "      return True\n",
    "  return False\n",
    "```"
   ]
  },
  {
   "cell_type": "code",
   "execution_count": null,
   "metadata": {},
   "outputs": [],
   "source": [
    "# 1.4: Write your answer here.\n",
    "#We have a nested FOR loop, into another FOR loop.\n",
    "#For each element of the first FOR loop, we go through each element of the 2nd FOR loop\n",
    "#i.e the process takes n * n is time complexity\n",
    "#The bigO here is: O(𝑛2)"
   ]
  },
  {
   "cell_type": "markdown",
   "metadata": {
    "colab_type": "text",
    "id": "4lz1Ha-E_CQ1"
   },
   "source": [
    "## Exercise 2: Reverse Sort\n",
    "\n",
    "Rewrite `selection_sort` so that it sorts in **reverse order** instead (biggest element first, smallest last)"
   ]
  },
  {
   "cell_type": "code",
   "execution_count": 1,
   "metadata": {},
   "outputs": [
    {
     "data": {
      "text/plain": [
       "4"
      ]
     },
     "execution_count": 1,
     "metadata": {},
     "output_type": "execute_result"
    }
   ],
   "source": [
    "# Part 1: Linear Search \n",
    "\n",
    "def linear_search(arr):\n",
    "    \n",
    "    #Returns the index of the MAXIMUM element\n",
    "    \n",
    "\n",
    "    current_max = -float('inf')\n",
    "    current_max_idx = 0\n",
    "    for i in range(len(arr)):\n",
    "        #print(current_min)\n",
    "        if arr[i] > current_max:\n",
    "            current_max = arr[i]\n",
    "            current_min_idx = i\n",
    "    return current_min_idx\n",
    "\n",
    "linear_search([1,4,3,-99,5])"
   ]
  },
  {
   "cell_type": "code",
   "execution_count": 2,
   "metadata": {},
   "outputs": [
    {
     "data": {
      "text/plain": [
       "[777, 111, 66.6, 44.4, 22, 5, 4, 3]"
      ]
     },
     "execution_count": 2,
     "metadata": {},
     "output_type": "execute_result"
    }
   ],
   "source": [
    "# Part 2: selection sort \n",
    "\n",
    "def selection_sort(arr):\n",
    "    \n",
    "    offset = 0 \n",
    "    while offset < len(arr):\n",
    "        get_max_idx = linear_search(arr[offset:]) + offset  #Len(arr) is decrease by -1 at each iteration to search the remaining Max values\n",
    "        #print(min_idx)\n",
    "        #print(arr[n_sorted:])\n",
    "        to_swap = arr[offset] \n",
    "    #to_swap <= arr[0]\n",
    "    #to_swap <= arr[1]\n",
    "    #to_swap <= arr[2]\n",
    "    #etc ...\n",
    "        arr[offset] = arr[get_max_idx] \n",
    "    #Value of Max Element is stored at OFFSETED beginning of the array  \n",
    "    #arr[n_sorted=0] <= arr[IndexMaxItem + 0] \n",
    "    #arr[n_sorted=1] <= arr[IndexMaxItem + 1]  #The start of the array is OFFSET +1 at each interation,\n",
    "    #arr[n_sorted=2] <= arr[IndexMaxItem + 2]  #so we don't erase the previous smallest value\n",
    "    # etc ... \n",
    "        arr[get_max_idx] = to_swap \n",
    "    #The previous start value, is pushed back right, at the Index of the Max Value found\n",
    "    #arr[IndexMaxItem + 0] <= arr[0]\n",
    "    #arr[IndexMaxItem + 1] <= arr[1]\n",
    "    #arr[IndexMaxItem + 2] <= arr[2]\n",
    "    #etc ..\n",
    "    \n",
    "        offset += 1\n",
    "    return arr\n",
    "\n",
    "\n",
    "arr = [111,4,3,22,5,44.4,66.6,777]\n",
    "selection_sort(arr)"
   ]
  },
  {
   "cell_type": "markdown",
   "metadata": {
    "colab": {},
    "colab_type": "code",
    "id": "kLzOQr8tAAIG"
   },
   "source": [
    "## Exercise 3a: Two sum (Brute Force)\n",
    "\n",
    "Two sum. Given an array and a number N, return True if there are numbers A, B in the array such that A + B = N. Otherwise, return False.\n",
    "\n",
    "```\n",
    "two_sum([1, 2, 3, 4], 5) ⇒ True\n",
    "two_sum([3, 4, 6], 6) ⇒ False\n",
    "```\n",
    "\n",
    "Write a brute force $O(n^2)$ algorithm"
   ]
  },
  {
   "cell_type": "code",
   "execution_count": 54,
   "metadata": {},
   "outputs": [
    {
     "name": "stdout",
     "output_type": "stream",
     "text": [
      "True\n",
      "False\n",
      "Extra Test : True\n"
     ]
    }
   ],
   "source": [
    "# exercise 3a\n",
    "\n",
    "#Algorithm: 𝑂(𝑛2)\n",
    "#FOR each item, we pair it up with the remaining items of the array\n",
    "#We check if the sum of the pair is equal to the desire number N\n",
    "#If yes we return True\n",
    "#When all the pairs have been checked, we return False, as no matching Pair where found\n",
    "#Brute Force\n",
    "# Ex: [1,2,3] \n",
    "# |..., 1*2 , 1*3|\n",
    "# |2*1, ...,  2*3|\n",
    "# |..., ...,  ...|\n",
    "\n",
    "\n",
    "def two_sum(lst, N):\n",
    "    ret = False\n",
    "    for i in range(len(lst)):\n",
    "        start = i+1\n",
    "        for j in range(start,len((lst))):\n",
    "            calc = lst[i]+lst[j]\n",
    "            if calc == N:\n",
    "                ret = True\n",
    "            \n",
    "    return ret\n",
    "\n",
    "print(two_sum([1, 2, 3, 4], 5))\n",
    "print(two_sum([3, 4, 6], 6))\n",
    "\n",
    "print(f'Extra Test : {two_sum([1, 2, 3],3)}')\n"
   ]
  },
  {
   "cell_type": "markdown",
   "metadata": {},
   "source": [
    "## Exercise 3b: Two Sum (Fast Version)\n",
    "\n",
    "Write a linear time version $O(N)$ for the two sum problem"
   ]
  },
  {
   "cell_type": "code",
   "execution_count": 55,
   "metadata": {},
   "outputs": [
    {
     "name": "stdout",
     "output_type": "stream",
     "text": [
      "(1, 4)\n",
      "None\n",
      "Extra Test : (1, 2)\n"
     ]
    }
   ],
   "source": [
    "# exercise 3b\n",
    "#Algorithm:\n",
    "#Let's reduce the number of calculations the 2 FOR loops have to run through\n",
    "#We use a dictionary that has an access time complexity of O(1)\n",
    "#Each time a pair is calculated. We stored the Key:tuple(a,b), Value:Sum(a,b) into the dictionary\n",
    "#This way before even calculating a sum, we will use the dictionary as a look up table, and skip the calculation if already done\n",
    "\n",
    "#Ex: [1,2,3]\n",
    "#Brute Force\n",
    "# [..., 1*2 , 1*3]\n",
    "# [2*1, ...,  2*3]\n",
    "# [..., ...,  ...]\n",
    "\n",
    "#Better Version: All possible redundant calculation is skipped:But This is still 𝑂(𝑛2)\n",
    "#Ex: With a dictionary we can actually skip the redundant 2*1 calculation\n",
    "#Faster\n",
    "# [..., 1*2 , 1*3]\n",
    "# [..., ...,  2*3]\n",
    "# [..., ...,  ...]\n",
    "\n",
    "\n",
    "def two_sum(lst,N):\n",
    "    calculations = {}\n",
    "    \n",
    "    for i in range(len(lst)):\n",
    "        for j in range(i+1,len(lst)):\n",
    "            a,b = lst[i], lst[j]\n",
    "            if calculations.get((a,b), None) is None:\n",
    "                calculations.update({(a,b): a+b})\n",
    "                \n",
    "    if N in calculations.values():\n",
    "        key = list(calculations.keys())\n",
    "        value = list(calculations.values())\n",
    "        indexN = value.index(N)\n",
    "        \n",
    "        return key[indexN]\n",
    "                                                     \n",
    "\n",
    "print(two_sum([1, 2, 3, 4], 5))\n",
    "print(two_sum([3, 4, 6], 6))\n",
    "\n",
    "print(f'Extra Test : {two_sum([1, 2, 3],3)}')\n"
   ]
  },
  {
   "cell_type": "code",
   "execution_count": 56,
   "metadata": {},
   "outputs": [
    {
     "name": "stdout",
     "output_type": "stream",
     "text": [
      "[(3, 2), (4, 1)]\n",
      "[]\n",
      "Extra Test : [(2, 1)]\n"
     ]
    }
   ],
   "source": [
    "#FASTER Version : 𝑂(𝑛)\n",
    "#We need only 1 FOR loop maximum\n",
    "# I have had some inspiration from browsing the internet.\n",
    "\n",
    "#Algorithm:  \n",
    "\n",
    "#1- Given the target N, and item i belonging to a given array\n",
    "# we want i+j = N. \n",
    "# i.e: j = N - i \n",
    "#so The pair combinaison is equal to (i, N-i)\n",
    "\n",
    "#2- We then have to verify that j= N-i is indeed an element in the given array\n",
    "#We check J is part of the array via a proxy lookUpTable that has a O(1) i.e a dictionary\n",
    "#if j belongs to the array, we return all the pair (i,j) matching the requirement N\n",
    "#if not, we return an empty List\n",
    "\n",
    "#We will proceed with a dictionary look up table, allowing to check wether j= N-i belongs to the array\n",
    "\n",
    "def two_sum(lst, N):\n",
    "    lookUpTable = {} #Will be filled up with the lst elements such as key = value = List_element\n",
    "\n",
    "    ret = []    \n",
    "    for i in lst:\n",
    "        j = N-i # j would be the pair value verifying: i+ j = N\n",
    "        #Now we have to make sure j, actually belongs to the proposed list of elements in the array\n",
    "        #We check it NOT from the list, but from our LookUpTable: O(1)\n",
    "        if lookUpTable.get(j,None)!=None:\n",
    "            ret.append((i,j))\n",
    "        lookUpTable[i]=i # We fill up the lookup table, to compare if J is part of the given Array elements\n",
    "    return ret    \n",
    "\n",
    "\n",
    "\n",
    "\n",
    "print(two_sum([1, 2, 3, 4], 5))\n",
    "print(two_sum([3, 4, 6], 6))\n",
    "\n",
    "print(f'Extra Test : {two_sum([1, 2, 3],3)}')\n",
    "\n"
   ]
  },
  {
   "cell_type": "markdown",
   "metadata": {},
   "source": [
    "## Exercise 3c: Two Sum (itertools version)\n",
    "\n",
    "Use `itertools.combinations` to write an algorithm for two sum\n"
   ]
  },
  {
   "cell_type": "code",
   "execution_count": 57,
   "metadata": {},
   "outputs": [
    {
     "name": "stdout",
     "output_type": "stream",
     "text": [
      "(1, 4)\n",
      "None\n",
      "Extra Test : (1, 2)\n"
     ]
    }
   ],
   "source": [
    "# exercise 3c\n",
    "from itertools import combinations\n",
    "#Algorithm:\n",
    "#1- For each pair combined by the combinations function, we calculated its sum(pair)\n",
    "#2- The (key=Sum:value=pair) is stored in a dictionary\n",
    "#3- The dictionary is checked if a key (sum), matches the N \n",
    "\n",
    "def two_sum(lst,N):\n",
    "\n",
    "    calculations = {}\n",
    "    for pair in combinations(lst, 2): #Among the list items, we want all the combinaisons of 2 elements\n",
    "       \n",
    "        calculations.update({sum(pair):pair})\n",
    "        if calculations.get(N,None)!=None:\n",
    "            return calculations[N]\n",
    "    return None\n",
    "\n",
    "\n",
    "print(two_sum([1, 2, 3, 4], 5))\n",
    "print(two_sum([3, 4, 6], 6))\n",
    "\n",
    "print(f'Extra Test : {two_sum([1, 2, 3],3)}')\n",
    "\n",
    "#NOTE: This implementation can be improved as it only allows 1 solution to be returned, as SUM keys are unique"
   ]
  },
  {
   "cell_type": "code",
   "execution_count": null,
   "metadata": {},
   "outputs": [],
   "source": []
  }
 ],
 "metadata": {
  "colab": {
   "authorship_tag": "ABX9TyOATH9BoLFARMvG0o+Vj9NT",
   "collapsed_sections": [],
   "name": "Algorithms 1 Workshop.ipynb",
   "provenance": []
  },
  "kernelspec": {
   "display_name": "Python 3 (ipykernel)",
   "language": "python",
   "name": "python3"
  },
  "language_info": {
   "codemirror_mode": {
    "name": "ipython",
    "version": 3
   },
   "file_extension": ".py",
   "mimetype": "text/x-python",
   "name": "python",
   "nbconvert_exporter": "python",
   "pygments_lexer": "ipython3",
   "version": "3.9.13"
  },
  "metadata": {
   "interpreter": {
    "hash": "63fd5069d213b44bf678585dea6b12cceca9941eaf7f819626cde1f2670de90d"
   }
  }
 },
 "nbformat": 4,
 "nbformat_minor": 1
}
