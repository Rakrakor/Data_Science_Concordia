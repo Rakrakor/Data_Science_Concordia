{
 "cells": [
  {
   "cell_type": "markdown",
   "metadata": {
    "id": "S-Xd3LLIcLBw"
   },
   "source": [
    "# Algorithms - Python Classes\n"
   ]
  },
  {
   "cell_type": "markdown",
   "metadata": {},
   "source": [
    "# 1. Rational Number\n",
    "\n",
    "Make a class that represents a [Rational Number](https://en.wikipedia.org/wiki/Rational_number). The rational number takes as input two integers and represents them as a number which is a fraction.\n",
    "\n",
    "You will need:\n",
    "\n",
    "- A creation rountine taking in two integers and initializing the Rational Number\n",
    "\n",
    "- A functionality where printing the rational number prints it as a clean string in the format `\"a / b\"`\n",
    "\n",
    "- An addition/substraction/multiplication/division method defined on other rational numbers\n",
    "\n",
    "    - These only need to be defined on other rational numbers!\n",
    "\n",
    "    - The result needs to be another `RationalNumber` object\n",
    "\n",
    "```\n",
    ">>> a = RationalNumber(1, 2)\n",
    ">>> b = RationalNumber(1, 3)\n",
    ">>> a\n",
    "1 / 2\n",
    ">>> a + b\n",
    "5/6\n",
    ">>> a - b\n",
    "1/6\n",
    ">>> a * b\n",
    "1/6\n",
    ">>> a/b\n",
    "3/2\n",
    "```"
   ]
  },
  {
   "cell_type": "code",
   "execution_count": 75,
   "metadata": {},
   "outputs": [
    {
     "name": "stdout",
     "output_type": "stream",
     "text": [
      "5/6\n",
      "1/6\n",
      "1/6\n",
      "3/2\n"
     ]
    }
   ],
   "source": [
    "# 1\n",
    "#use special methods\n",
    "#__repr__\n",
    "#__str__\n",
    "#Reference used: https://www.geeksforgeeks.org/operator-overloading-in-python/\n",
    "\n",
    "class RationalNumber:\n",
    "    def __init__(self,a,b):\n",
    "        self.a = a\n",
    "        self.b = b\n",
    "    \n",
    "    def __str__(self):\n",
    "        print(str(self.a) + \"/\" + str(self.b))\n",
    "        \n",
    "    def __truediv__(self, other):  #Overloading the +\n",
    "        num = self.a*other.b\n",
    "        div = self.b * other.a\n",
    "        \n",
    "        return str(num)+\"/\"+str(div)\n",
    "    \n",
    "    def __sub__(self, other): #Overloading the -\n",
    "        num = self.a*other.b - other.a*self.b\n",
    "        div = self.b * other.b\n",
    "        \n",
    "        return str(num)+\"/\"+str(div)\n",
    "    \n",
    "    def __mul__(self, other): #Overloading the *\n",
    "        num = self.a*other.a\n",
    "        div = self.b * other.b\n",
    "        \n",
    "        return str(num)+\"/\"+str(div)\n",
    "    \n",
    "    def __add__(self, other): #Overloading the /\n",
    "        num = self.a*other.b + other.a*self.b\n",
    "        div = self.b * other.b\n",
    "        \n",
    "        return str(num)+\"/\"+str(div)\n",
    "\n",
    "\n",
    "   \n",
    "        \n",
    "        \n",
    "a = RationalNumber(1,2)\n",
    "b = RationalNumber(1,3)\n",
    "#a.__str__()\n",
    "#b.__str__()\n",
    "print(a+b)\n",
    "print(a-b)\n",
    "print(a*b)\n",
    "print(a/b)\n"
   ]
  },
  {
   "cell_type": "markdown",
   "metadata": {
    "id": "U-Adr8UyBJMd"
   },
   "source": [
    "# 2. Deck of Cards\n",
    "\n",
    "Create a deck of cards class. \n",
    "\n",
    "Internally, the deck of cards should use another class, a card class. \n",
    "\n",
    "Your requirements are:\n",
    "\n",
    "- The Deck class should have a deal method to deal a single card from the deck\n",
    "- After a card is dealt, it is removed from the deck.\n",
    "    - If no cards remain in the deck and we try to deal, it should raise an exception\n",
    "- There should be a shuffle method which makes sure the deck of cards has all 52 cards and then rearranges them randomly.\n",
    "    - If there are fewer than 52 cards, an exception should be raised\n",
    "- The Card class should have a suit (Hearts, Diamonds, Clubs, Spades) and a value (A,2,3,4,5,6,7,8,9,10,J,Q,K)\n",
    "\n",
    "```\n",
    ">>> c = Card(suit='Hearts', value='K')\n",
    ">>> c\n",
    "\"K of Hearts\"\n",
    ">>> d = Deck()\n",
    ">>> d\n",
    "\"Cards remaining in deck: 52\"\n",
    "\n",
    "# Deck is not shuffled -- deals cards consecutively:\n",
    "\n",
    ">>> d.deal()\n",
    "\"K of Spades\"\n",
    ">>> d.deal()\n",
    "\"Q of Spades\"\n",
    ">>> d.deal()\n",
    "\"J of Spades\"\n",
    ">>> d\n",
    "\"Cards remaining in deck: 49\"\n",
    "\n",
    "# We dealt 3 cards, 49 remain\n",
    "# Can't shuffle deck that's not full:\n",
    "\n",
    ">>> d.shuffle()\n",
    "ValueError: Only full decks can be shuffled\n",
    "\n",
    "# You can shuffle full decks \n",
    ">>> d = Deck()\n",
    ">>> d.shuffle()\n",
    "\n",
    "# Now it deals random cards\n",
    "\n",
    ">>> d.deal()\n",
    "\"2 of Hearts\"\n",
    "\n",
    "```"
   ]
  },
  {
   "cell_type": "code",
   "execution_count": 70,
   "metadata": {
    "id": "MGl-Jwl-XwCn",
    "outputId": "7e020842-8c46-42b5-9701-89bb5058e59c"
   },
   "outputs": [
    {
     "data": {
      "text/plain": [
       "'heart of king'"
      ]
     },
     "execution_count": 70,
     "metadata": {},
     "output_type": "execute_result"
    }
   ],
   "source": [
    "# 2 \n",
    "import random\n",
    "\n",
    "class Card():\n",
    "    def __init__(self,suit,value):\n",
    "        self.suit = suit\n",
    "        self.value = value\n",
    "        #The Card class should have a suit (Hearts, Diamonds, Clubs, Spades) and a value (A,2,3,4,5,6,7,8,9,10,J,Q,K)\n",
    "    \n",
    "    def __str__(self):\n",
    "        return str(self.suit) + \" of \" + str(self.value)\n",
    "        \n",
    "    #def deal(self):\n",
    "    #(Hearts, Diamonds, Clubs, Spades) and a value (A,2,3,4,5,6,7,8,9,10,J,Q,K)\n",
    "\n",
    "class Deck():\n",
    "    suit = ('Hearts', 'Diamonds', 'Clubs', 'Spades')\n",
    "    value = ('K', 'Q', 'J', 10, 9, 8, 7, 6, 5, 4, 3, 2, 'A')\n",
    "    initial_deck = 52\n",
    "    def __init__(self):\n",
    "        deckList = []\n",
    "        for s in Deck.suit:\n",
    "            for v in Deck.value:\n",
    "                deckList.append(Card(s,v))\n",
    "        self.deck = deckList\n",
    "        self.remaining = Deck.initial_deck\n",
    "        self.shuffled = False\n",
    "        #The Card class should have a suit (Hearts, Diamonds, Clubs, Spades) and a value (A,2,3,4,5,6,7,8,9,10,J,Q,K)\n",
    "        \n",
    "    def __str__(self):\n",
    "        return 'Cards remaining in deck:'+ str(self.remaining)\n",
    "    \n",
    "    def deal(self):\n",
    "        try:\n",
    "            #print(self.deck[0].__str__())\n",
    "            print(self.deck.pop(0))\n",
    "            self.remaining-=1\n",
    "        except LookupError as e:\n",
    "                print('No card left')\n",
    "        # After a card is dealt, it is removed from the deck.\n",
    "        #if Deck is not shuffled -- deals cards consecutively\n",
    "        #If no cards remain in the deck and we try to deal, it should raise an exception\n",
    "        \n",
    "    def shuffle(self):\n",
    "        if self.remaining == 52:\n",
    "            random.shuffle(self.deck)\n",
    "            self.shuffled = True\n",
    "        else:\n",
    "            raise ValueError('Only full decks can be shuffled')\n",
    "            \n",
    "            \n",
    "        #There should be a shuffle method which makes sure the deck of cards has all 52 cards and then rearranges them randomly.\n",
    "        #If there are fewer than 52 cards, an exception should be raised\n",
    "        # Can't shuffle deck that's not full:\n",
    "        #ValueError: Only full decks can be shuffled\n",
    "        \n",
    "        \n",
    "#TEST Card class      \n",
    "c = Card('heart', 'king')\n",
    "c.__str__()"
   ]
  },
  {
   "cell_type": "code",
   "execution_count": 71,
   "metadata": {},
   "outputs": [
    {
     "name": "stdout",
     "output_type": "stream",
     "text": [
      "Cards remaining in deck:52\n",
      "Hearts of K\n",
      "Cards remaining in deck:51\n",
      "Hearts of Q\n",
      "Cards remaining in deck:50\n",
      "Hearts of J\n",
      "Cards remaining in deck:49\n"
     ]
    }
   ],
   "source": [
    "#TEST Deck Class\n",
    "d = Deck()\n",
    "print(d)  #prints : Cards remaining in deck:52\n",
    "d.deal()    # Hearts of K\n",
    "print(d)  #Cards remaining in deck:51\n",
    "d.deal()    #Hearts of Q\n",
    "print(d)  #Cards remaining in deck:50\n",
    "d.deal()    #Hearts of J\n",
    "print(d)  #Cards remaining in deck:49\n"
   ]
  },
  {
   "cell_type": "code",
   "execution_count": 72,
   "metadata": {},
   "outputs": [
    {
     "ename": "ValueError",
     "evalue": "Only full decks can be shuffled",
     "output_type": "error",
     "traceback": [
      "\u001b[0;31m---------------------------------------------------------------------------\u001b[0m",
      "\u001b[0;31mValueError\u001b[0m                                Traceback (most recent call last)",
      "\u001b[0;32m/var/folders/v_/xxkztlq96zjg39p73r1dvnl00000gn/T/ipykernel_15473/3419989534.py\u001b[0m in \u001b[0;36m<module>\u001b[0;34m\u001b[0m\n\u001b[0;32m----> 1\u001b[0;31m \u001b[0md\u001b[0m\u001b[0;34m.\u001b[0m\u001b[0mshuffle\u001b[0m\u001b[0;34m(\u001b[0m\u001b[0;34m)\u001b[0m \u001b[0;31m#it Throws: ValueError: Only full decks can be shuffled\u001b[0m\u001b[0;34m\u001b[0m\u001b[0;34m\u001b[0m\u001b[0m\n\u001b[0m",
      "\u001b[0;32m/var/folders/v_/xxkztlq96zjg39p73r1dvnl00000gn/T/ipykernel_15473/3968574403.py\u001b[0m in \u001b[0;36mshuffle\u001b[0;34m(self)\u001b[0m\n\u001b[1;32m     47\u001b[0m             \u001b[0mself\u001b[0m\u001b[0;34m.\u001b[0m\u001b[0mshuffled\u001b[0m \u001b[0;34m=\u001b[0m \u001b[0;32mTrue\u001b[0m\u001b[0;34m\u001b[0m\u001b[0;34m\u001b[0m\u001b[0m\n\u001b[1;32m     48\u001b[0m         \u001b[0;32melse\u001b[0m\u001b[0;34m:\u001b[0m\u001b[0;34m\u001b[0m\u001b[0;34m\u001b[0m\u001b[0m\n\u001b[0;32m---> 49\u001b[0;31m             \u001b[0;32mraise\u001b[0m \u001b[0mValueError\u001b[0m\u001b[0;34m(\u001b[0m\u001b[0;34m'Only full decks can be shuffled'\u001b[0m\u001b[0;34m)\u001b[0m\u001b[0;34m\u001b[0m\u001b[0;34m\u001b[0m\u001b[0m\n\u001b[0m\u001b[1;32m     50\u001b[0m \u001b[0;34m\u001b[0m\u001b[0m\n\u001b[1;32m     51\u001b[0m \u001b[0;34m\u001b[0m\u001b[0m\n",
      "\u001b[0;31mValueError\u001b[0m: Only full decks can be shuffled"
     ]
    }
   ],
   "source": [
    "d.shuffle() #it Throws: ValueError: Only full decks can be shuffled"
   ]
  },
  {
   "cell_type": "code",
   "execution_count": 74,
   "metadata": {},
   "outputs": [
    {
     "name": "stdout",
     "output_type": "stream",
     "text": [
      "Spades of 9\n"
     ]
    }
   ],
   "source": [
    "d = Deck()\n",
    "d.shuffle()\n",
    "\n",
    "d.deal()\n",
    "\n"
   ]
  },
  {
   "cell_type": "markdown",
   "metadata": {},
   "source": [
    " # 3. Reverse a Stack\n",
    " \n",
    " Write a method\n",
    "to reverse the elements in a stack using only the methods available in Stack class."
   ]
  },
  {
   "cell_type": "code",
   "execution_count": 18,
   "metadata": {},
   "outputs": [
    {
     "name": "stdout",
     "output_type": "stream",
     "text": [
      "rev: []\n",
      "rev: [3]\n",
      "rev: [3, 2]\n"
     ]
    },
    {
     "data": {
      "text/plain": [
       "[3, 2, 1]"
      ]
     },
     "execution_count": 18,
     "metadata": {},
     "output_type": "execute_result"
    }
   ],
   "source": [
    "#3\n",
    "class Stack:  #LAST IN / First OUT\n",
    "    def __init__(self): \n",
    "        self.elements = [] \n",
    "    \n",
    "    def reverse(self):\n",
    "        rev = []\n",
    "        for i in range(len(self.elements)):\n",
    "            print(f'rev: {rev}')\n",
    "            rev.append(self.peek())\n",
    "            self.pop()\n",
    "        self.elements = rev\n",
    "        \n",
    "    \n",
    "    def push(self, data): \n",
    "        self.elements.append(data) \n",
    "        return data \n",
    "    \n",
    "    def pop(self): \n",
    "        return self.elements.pop() #Po has no index. It's done at the end of the list\n",
    "        \n",
    "    def peek(self): \n",
    "        return self.elements[-1] \n",
    "        \n",
    "    def is_empty(self): \n",
    "        return len(self.elements) == 0 #Return a Boolean\n",
    "    \n",
    "    def info(self):\n",
    "        return self.elements\n",
    "\n",
    "s = Stack()\n",
    "s.push(1)\n",
    "s.push(2)\n",
    "s.push(3)\n",
    "s.reverse()\n",
    "s.info()"
   ]
  },
  {
   "cell_type": "code",
   "execution_count": null,
   "metadata": {},
   "outputs": [],
   "source": [
    "s.reverse()"
   ]
  },
  {
   "cell_type": "code",
   "execution_count": null,
   "metadata": {},
   "outputs": [],
   "source": [
    "s.info"
   ]
  }
 ],
 "metadata": {
  "colab": {
   "collapsed_sections": [],
   "name": "Workshop Stable Mariages.ipynb",
   "provenance": []
  },
  "kernelspec": {
   "display_name": "Python 3 (ipykernel)",
   "language": "python",
   "name": "python3"
  },
  "language_info": {
   "codemirror_mode": {
    "name": "ipython",
    "version": 3
   },
   "file_extension": ".py",
   "mimetype": "text/x-python",
   "name": "python",
   "nbconvert_exporter": "python",
   "pygments_lexer": "ipython3",
   "version": "3.9.13"
  }
 },
 "nbformat": 4,
 "nbformat_minor": 1
}
