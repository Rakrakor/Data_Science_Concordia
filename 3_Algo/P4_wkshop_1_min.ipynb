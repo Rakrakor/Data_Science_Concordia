{
 "cells": [
  {
   "cell_type": "markdown",
   "metadata": {
    "id": "Bj-Gi0QlUfyL"
   },
   "source": [
    "# Algorithms - Recursion\n",
    "\n",
    "## Exercise 1\n",
    "\n",
    "Although merge sort has a better Big-O than selection sort, selection sort can be faster for smaller inputs.\n",
    "\n",
    "Rewrite `merge_sort(A, min_size)` such that sub-arrays smaller than an input parameter `min_size` are sorted with our `selection_sort` from the lecture `algorithms intro`.\n",
    "\n",
    "Time the difference between pure merge sort and this new algorithm. Is it faster? Why or why not?"
   ]
  },
  {
   "cell_type": "code",
   "execution_count": 73,
   "metadata": {
    "id": "KEBg1H4VWkHt"
   },
   "outputs": [],
   "source": [
    "# exercise 1\n",
    "def linear_search(arr):\n",
    "   \n",
    "    current_min = float('inf')\n",
    "    current_min_idx = 0\n",
    "    for i in range(len(arr)):\n",
    "        #print(current_min)\n",
    "        if arr[i] < current_min:\n",
    "            current_min = arr[i]\n",
    "            current_min_idx = i\n",
    "    return current_min_idx\n",
    "\n",
    "def selection_sort(arr):\n",
    "    \n",
    "    n_sorted = 0 \n",
    "    while n_sorted < len(arr):\n",
    "        min_idx = linear_search(arr[n_sorted:]) + n_sorted  \n",
    "        to_swap = arr[n_sorted] \n",
    "        arr[n_sorted] = arr[min_idx] \n",
    "        arr[min_idx] = to_swap \n",
    "        n_sorted += 1\n",
    "    print('selection_sort arr:', arr, '\\n')\n",
    "    return arr\n",
    "\n",
    "\n",
    "\n"
   ]
  },
  {
   "cell_type": "code",
   "execution_count": 74,
   "metadata": {},
   "outputs": [],
   "source": [
    "def merge_sort(arr, min_size):\n",
    "    \n",
    "    size = len(arr)\n",
    "    \n",
    "    if size<=min_size:\n",
    "        print('\\n using selection_sort')\n",
    "        print('arr', arr)\n",
    "        return selection_sort(arr)\n",
    "    else:\n",
    "        print('\\n using merge_sort')\n",
    "        print('arr: ', arr)\n",
    "        if size > 1:\n",
    "            m = size // 2\n",
    "            left = merge_sort(arr[:m], min_size)\n",
    "            right = merge_sort(arr[m:], min_size)\n",
    "            \n",
    "            return merge(left,right)\n",
    "        else:\n",
    "            return arr\n",
    "\n",
    "def merge(left, right):\n",
    "    res = []\n",
    "    #zip in together left and right parts\n",
    "    while left and right:\n",
    "        if left[0] < right[0]:\n",
    "            res.append(left[0]) #append to result\n",
    "            left.pop(0) #remove val we appended\n",
    "        else:\n",
    "            res.append(right[0])\n",
    "            right.pop(0)\n",
    "            \n",
    "    #Copy in remaining elements of left and right (if any)\n",
    "    for i in left:\n",
    "        res.append(i)\n",
    "    for i in right:\n",
    "        res.append(i)\n",
    "    return res"
   ]
  },
  {
   "cell_type": "code",
   "execution_count": 75,
   "metadata": {},
   "outputs": [
    {
     "name": "stdout",
     "output_type": "stream",
     "text": [
      "\n",
      " using merge_sort\n",
      "arr:  [111, 4, 3, 66.6, 44.4, 22, 5, 777]\n",
      "\n",
      " using merge_sort\n",
      "arr:  [111, 4, 3, 66.6]\n",
      "\n",
      " using selection_sort\n",
      "arr [111, 4]\n",
      "selection_sort arr: [4, 111] \n",
      "\n",
      "\n",
      " using selection_sort\n",
      "arr [3, 66.6]\n",
      "selection_sort arr: [3, 66.6] \n",
      "\n",
      "\n",
      " using merge_sort\n",
      "arr:  [44.4, 22, 5, 777]\n",
      "\n",
      " using selection_sort\n",
      "arr [44.4, 22]\n",
      "selection_sort arr: [22, 44.4] \n",
      "\n",
      "\n",
      " using selection_sort\n",
      "arr [5, 777]\n",
      "selection_sort arr: [5, 777] \n",
      "\n",
      "B [3, 4, 5, 22, 44.4, 66.6, 111, 777]\n"
     ]
    }
   ],
   "source": [
    "A =[111,4,3]\n",
    "B = [111, 4, 3, 66.6, 44.4, 22, 5, 777]\n",
    "#print('A', merge_sort(A, 3))\n",
    "print('B', merge_sort(B, 3))\n"
   ]
  },
  {
   "cell_type": "markdown",
   "metadata": {
    "id": "_xlEp7VWWkLL"
   },
   "source": [
    "## Exercise 2\n",
    "\n",
    "Let $A[1...n]$ be an array of $n$ distinct numbers. If $i < j$ and $A[i] > A[j]$, then the pair $(i, j)$ is called an **inversion** of $A$. \n",
    "\n",
    "In other words an inversion is a pair of unsorted elements in an array.\n",
    "\n",
    "1. List the five inversions of $[2, 3, 8, 6, 1]$ \n",
    "2. Give an algorithm that determines the number of inversions in any permutation on $n$ elements.\n",
    "- Bonus points: make your algorithm to have $O(nlog_2(n))$ in worst-case time. (Hint: Modify merge sort.) \n",
    "\n"
   ]
  },
  {
   "cell_type": "code",
   "execution_count": 78,
   "metadata": {
    "id": "8-o8CqiRWkOF"
   },
   "outputs": [
    {
     "name": "stdout",
     "output_type": "stream",
     "text": [
      "2 1\n",
      "3 1\n",
      "8 6\n",
      "8 1\n",
      "6 1\n"
     ]
    },
    {
     "data": {
      "text/plain": [
       "5"
      ]
     },
     "execution_count": 78,
     "metadata": {},
     "output_type": "execute_result"
    }
   ],
   "source": [
    "# 2.1 ---> Original array [2,3,8,6,1]\n",
    "\n",
    " \n",
    "#Here are 5 invertions of pairs in the array\n",
    "#[1,3,8,6,2] => (2,1)\n",
    "#[2,1,8,6,3] => (3,1)\n",
    "#[2,3,1,6,8] => (8,1)\n",
    "#[2,3,6,8,1] => (8,6)\n",
    "#[2,3,8,1,6] => (6,1)\n",
    "\n",
    "#BRUT FORCE:\n",
    "#Agorithm:\n",
    "#1- we traverse the entire array\n",
    "#2- for each element, we check if the next elements of the array coud be smaller\n",
    "#3- if an element is smaller, we count 1 possible permutation\n",
    "arr = [2,3,8,6,1]\n",
    "count_permutations = 0\n",
    "for i in range(len(arr)):\n",
    "    ref_val = arr[i]\n",
    "    start = i+1\n",
    "    for j in range(start,len(arr)):\n",
    "        ref_next_val = arr[j]\n",
    "        if ref_val>ref_next_val:\n",
    "            print(ref_val, ref_next_val)\n",
    "            count_permutations+=1\n",
    "\n",
    "count_permutations\n",
    "\n",
    "\n",
    "    "
   ]
  },
  {
   "cell_type": "code",
   "execution_count": 6,
   "metadata": {},
   "outputs": [
    {
     "name": "stdout",
     "output_type": "stream",
     "text": [
      "count_inversions\n",
      "merge_sort\n",
      "index_low 0\n",
      "index_high 4\n",
      "middle 2 \n",
      "\n",
      "merge_sort\n",
      "index_low 0\n",
      "index_high 2\n",
      "middle 1 \n",
      "\n",
      "merge_sort\n",
      "index_low 0\n",
      "index_high 1\n",
      "merge_sort\n",
      "index_low 2\n",
      "index_high 2\n",
      "\n",
      " - merge - \n",
      "index_low 0\n",
      "index_high 2\n",
      "middle 1\n",
      "helper [2, 3, 8, 6, 1]\n",
      "hp_left 0\n",
      "hp_right 2\n",
      "arr_current 0\n",
      "helper[hp_left] 2\n",
      "helper[hp_right] 8\n",
      "arr [2, 3, 8, 6, 1]\n",
      "helper[hp_left] 3\n",
      "helper[hp_right] 8\n",
      "arr [2, 3, 8, 6, 1]\n",
      "arr_ [2, 3, 8, 6, 1] \n",
      "\n",
      "merge_sort\n",
      "index_low 3\n",
      "index_high 4\n",
      "\n",
      " - merge - \n",
      "index_low 0\n",
      "index_high 4\n",
      "middle 2\n",
      "helper [2, 3, 8, 6, 1]\n",
      "hp_left 0\n",
      "hp_right 3\n",
      "arr_current 0\n",
      "helper[hp_left] 2\n",
      "helper[hp_right] 6\n",
      "arr [2, 3, 8, 6, 1]\n",
      "helper[hp_left] 3\n",
      "helper[hp_right] 6\n",
      "arr [2, 3, 8, 6, 1]\n",
      "helper[hp_left] 8\n",
      "helper[hp_right] 6\n",
      "arr [2, 3, 6, 6, 1]\n",
      ">>>COUNT:+ 1\n",
      "helper[hp_left] 6\n",
      "helper[hp_right] 1\n",
      "arr [2, 3, 6, 1, 1]\n",
      ">>>COUNT:+ 2\n",
      "arr_ [2, 3, 6, 1, 6] \n",
      "\n",
      "Count inversions: 2\n",
      "[2, 3, 6, 1, 6]\n"
     ]
    }
   ],
   "source": [
    "# --- FAILED ATTEMPT --- \n",
    "#issue with the indexing at Merge() level:\n",
    "#The while loop is not operating as expected: array not sorted => Count not correct\n",
    "#But the design seems correct to report the counts. i.e when the while loop sorts\n",
    "#helper[hp_left] > helper[hp_right]\n",
    "#The count is correctly reported and summed up\n",
    "\n",
    "# 2.2\n",
    "#Algorithm:\n",
    "#the preivous version of the mergesort, returns a copy of the modified array\n",
    "#This means we can not use this as such, if we need to return something else like Count of inversions\n",
    "#The goal is to manipulate the array itself rather than returning a modified copy\n",
    "#then it is easier to return the Counts of inversions.\n",
    "\n",
    "#1-We need a reccursive split of pairs of the array\n",
    "#2-then we need to count the number of pairs\n",
    "\n",
    "def count_inversions(arr):\n",
    "    print('count_inversions')\n",
    "    helper = []\n",
    "    count = 0\n",
    "    index_low = 0\n",
    "    index_high = len(arr)-1\n",
    "    count += merge_sort(arr, count, helper, index_low, index_high)\n",
    "    return count\n",
    "\n",
    "\n",
    "def merge_sort(arr, count, helper, index_low, index_high):\n",
    "    print('merge_sort')\n",
    "    print('index_low', index_low)\n",
    "    print('index_high', index_high)\n",
    "    if 1 < index_high-index_low:\n",
    "        middle = index_low + (index_high - index_low) //2\n",
    "        print('middle', middle, '\\n')\n",
    "        \n",
    "        merge_sort(arr, count, helper, index_low, middle)\n",
    "        merge_sort(arr, count, helper, middle+1,index_high)\n",
    "        \n",
    "        count+= merge(arr, count, helper, index_low, middle,index_high)\n",
    "        return count\n",
    "    \n",
    "        \n",
    "  \n",
    "        \n",
    "def merge(arr, count, helper, index_low, middle,index_high):\n",
    "    print('\\n','- merge - ')\n",
    "    print('index_low', index_low)\n",
    "    print('index_high', index_high)\n",
    "    print('middle', middle)\n",
    "    \n",
    "   \n",
    "    helper=arr\n",
    "    print('helper', helper)\n",
    "\n",
    "    hp_left = index_low\n",
    "    hp_right = middle +1\n",
    "    arr_current = index_low\n",
    "    \n",
    "    print('hp_left', hp_left)\n",
    "    print('hp_right', hp_right)\n",
    "    print('arr_current', arr_current)\n",
    "    \n",
    "    \n",
    "    while hp_left <= middle and hp_right <= index_high:\n",
    "        print('helper[hp_left]',helper[hp_left])\n",
    "        print('helper[hp_right]',helper[hp_right])\n",
    "\n",
    "\n",
    "        if helper[hp_left] <= helper[hp_right]:\n",
    "            arr[arr_current] = helper[hp_left]\n",
    "            hp_left+=1\n",
    "            print('arr', arr)\n",
    "        else:\n",
    "            arr[arr_current]=helper[hp_right]\n",
    "            hp_right+=1\n",
    "            print('arr', arr)\n",
    "            count+=1 # > > > This is when the inversion is counted\n",
    "            print('>>>COUNT:+', count)\n",
    "        \n",
    "        arr_current+=1\n",
    "            \n",
    "    while hp_left <= middle:\n",
    "        arr[arr_current]=helper[hp_left]\n",
    "        hp_left+=1\n",
    "        arr_current+=1\n",
    "        \n",
    "    while hp_right <= index_high: \n",
    "        arr[arr_current]=helper[hp_right]\n",
    "        hp_right+=1\n",
    "        arr_current+=1\n",
    "    \n",
    "    print('arr_', arr, '\\n')\n",
    "    \n",
    "    \n",
    "    return  count\n",
    "\n",
    "arr = [2,3,8,6,1]\n",
    "\n",
    "print('Count inversions:', count_inversions(arr))\n",
    "print(arr)\n"
   ]
  },
  {
   "cell_type": "markdown",
   "metadata": {
    "id": "7DHNJtvOUkgo"
   },
   "source": [
    "\n",
    "## Exercise 3: Recursive sum\n",
    "\n",
    "Write a function that uses recursion to compute the sum of an array or list of numbers\n",
    "\n",
    "```\n",
    "recursive_sum([2, 4, 5, 6, 7])\n",
    "\n",
    "output: 24\n",
    "```"
   ]
  },
  {
   "cell_type": "code",
   "execution_count": 83,
   "metadata": {
    "id": "ab0_Ewn-oTy5",
    "outputId": "73c8dd7d-faa6-4d76-f3ff-9495819e2b9d"
   },
   "outputs": [
    {
     "data": {
      "text/plain": [
       "24"
      ]
     },
     "execution_count": 83,
     "metadata": {},
     "output_type": "execute_result"
    }
   ],
   "source": [
    "# exercise 3\n",
    "s = [2, 4, 5, 6, 7]\n",
    "\n",
    "#Algorithm:\n",
    "#Divide: divide the elements of the list into small unique element\n",
    "#Conquer: reccursively add the elements\n",
    "#Combine: addition of the successive returns\n",
    "def recursive_sum(s):\n",
    "    \n",
    "    size = len(s)\n",
    "    \n",
    "    if size ==0: #Divide #Smallest BEAN\n",
    "        return 0\n",
    "    \n",
    "    if size > 0:\n",
    "        tot_sum = s.pop() #Divide\n",
    "\n",
    "    return tot_sum + recursive_sum(s) #conquer #Combine\n",
    "\n",
    "recursive_sum(s)"
   ]
  },
  {
   "cell_type": "markdown",
   "metadata": {
    "id": "LSFr3qLboTzE"
   },
   "source": [
    "## Exercise 4: Recursive denominators\n",
    "\n",
    "Write a Python program that uses recursion to find the greatest common divisor (gcd) of two integers.\n",
    "\n",
    "```\n",
    "recursive_gcd(12,14)\n",
    "\n",
    "output : 2\n",
    "```"
   ]
  },
  {
   "cell_type": "code",
   "execution_count": 96,
   "metadata": {
    "colab": {
     "base_uri": "https://localhost:8080/"
    },
    "executionInfo": {
     "elapsed": 500,
     "status": "ok",
     "timestamp": 1604976325610,
     "user": {
      "displayName": "Javad Khataei",
      "photoUrl": "https://lh3.googleusercontent.com/a-/AOh14Gj4OOPiD15D3oyUyLayCOaELp_6Bn0vwX5kdych=s64",
      "userId": "01623733572031019100"
     },
     "user_tz": 300
    },
    "id": "YoYokrfHCXt9",
    "outputId": "91d6edeb-4512-4ea7-a9e9-5ad61d9a215d"
   },
   "outputs": [
    {
     "data": {
      "text/plain": [
       "2.0"
      ]
     },
     "execution_count": 96,
     "metadata": {},
     "output_type": "execute_result"
    }
   ],
   "source": [
    "# exercise 4\n",
    "\n",
    "#Euclid's Algorithm for Greatest Common Divisor\n",
    "\n",
    "\"\"\"\n",
    "Algorithm:\n",
    "\n",
    "The Euclidean Algorithm for finding GCD(A,B) is as follows:\n",
    "\n",
    "    If A = 0 then GCD(A,B)=B, since the GCD(0,B)=B, and we can stop.  \n",
    "    If B = 0 then GCD(A,B)=A, since the GCD(A,0)=A, and we can stop.  \n",
    "    Write A in quotient remainder form (A = B⋅Q + R)\n",
    "    Find GCD(B,R) using the Euclidean Algorithm since GCD(A,B) = GCD(B,R)\n",
    "\"\"\"\n",
    "\n",
    "def gcd(a, b):\n",
    "    \n",
    "    if a==0:\n",
    "        return b\n",
    "    if b==0:\n",
    "        return a\n",
    "\n",
    "    r = a - a//b #Remaing\n",
    "    \n",
    "    if r==0:\n",
    "        return a/b\n",
    "    if r>0:\n",
    "        return gcd(b,r)\n",
    "\n",
    "gcd(12,14)"
   ]
  },
  {
   "cell_type": "markdown",
   "metadata": {
    "id": "Qy5JQQBPoTzP"
   },
   "source": [
    "## Exercise 5: Recursive power function\n",
    "\n",
    "Write a recursive function to calculate the value of 'a' to the power 'b'. \n",
    "\n",
    "```\n",
    "recursive_pow(3, 4)\n",
    "\n",
    "output: 81\n",
    "```"
   ]
  },
  {
   "cell_type": "code",
   "execution_count": 86,
   "metadata": {
    "id": "ZSL9bWWJoTzS"
   },
   "outputs": [
    {
     "data": {
      "text/plain": [
       "81"
      ]
     },
     "execution_count": 86,
     "metadata": {},
     "output_type": "execute_result"
    }
   ],
   "source": [
    "# exercise 5\n",
    "#Algorithm:\n",
    "#Divide: divide the elements of the list into unique probleme: \n",
    "#we must multipy the value, power number of times\n",
    "\n",
    "#Conquer: reccursively multipy the elements power of time\n",
    "#Combine: multiplication of the successive returns\n",
    "pow = (3, 4)\n",
    "\n",
    "def recursive_pow(pow):\n",
    "        value, power = pow\n",
    "        \n",
    "        if power==0:  #Smallest BEAN\n",
    "            return 1\n",
    "        \n",
    "        if power>0:\n",
    "            power-=1\n",
    "            pow = (value, power)\n",
    "            return  value * recursive_pow(pow)\n",
    "        \n",
    "recursive_pow(pow)"
   ]
  }
 ],
 "metadata": {
  "colab": {
   "collapsed_sections": [],
   "name": "Workshop_ Recursive _ Divide and conquer.ipynb",
   "provenance": []
  },
  "kernelspec": {
   "display_name": "Python 3 (ipykernel)",
   "language": "python",
   "name": "python3"
  },
  "language_info": {
   "codemirror_mode": {
    "name": "ipython",
    "version": 3
   },
   "file_extension": ".py",
   "mimetype": "text/x-python",
   "name": "python",
   "nbconvert_exporter": "python",
   "pygments_lexer": "ipython3",
   "version": "3.9.13"
  }
 },
 "nbformat": 4,
 "nbformat_minor": 1
}
